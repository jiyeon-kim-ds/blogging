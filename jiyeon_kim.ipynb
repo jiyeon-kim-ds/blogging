{
  "nbformat": 4,
  "nbformat_minor": 0,
  "metadata": {
    "colab": {
      "name": "Untitled11.ipynb",
      "provenance": [],
      "collapsed_sections": [],
      "toc_visible": true,
      "machine_shape": "hm"
    },
    "kernelspec": {
      "display_name": "Python 3",
      "name": "python3"
    }
  },
  "cells": [
    {
      "cell_type": "markdown",
      "metadata": {
        "id": "ExT3xGfT15X8"
      },
      "source": [
        "# !pip install"
      ]
    },
    {
      "cell_type": "code",
      "metadata": {
        "colab": {
          "base_uri": "https://localhost:8080/"
        },
        "id": "NvuWFYgLtaQF",
        "outputId": "159c9a25-0fd1-4df9-e06b-47ebba930ce6"
      },
      "source": [
        "! pip install unidecode"
      ],
      "execution_count": null,
      "outputs": [
        {
          "output_type": "stream",
          "text": [
            "Collecting unidecode\n",
            "\u001b[?25l  Downloading https://files.pythonhosted.org/packages/9e/25/723487ca2a52ebcee88a34d7d1f5a4b80b793f179ee0f62d5371938dfa01/Unidecode-1.2.0-py2.py3-none-any.whl (241kB)\n",
            "\r\u001b[K     |█▍                              | 10kB 13.7MB/s eta 0:00:01\r\u001b[K     |██▊                             | 20kB 10.8MB/s eta 0:00:01\r\u001b[K     |████                            | 30kB 6.5MB/s eta 0:00:01\r\u001b[K     |█████▍                          | 40kB 6.1MB/s eta 0:00:01\r\u001b[K     |██████▉                         | 51kB 5.4MB/s eta 0:00:01\r\u001b[K     |████████▏                       | 61kB 6.0MB/s eta 0:00:01\r\u001b[K     |█████████▌                      | 71kB 5.7MB/s eta 0:00:01\r\u001b[K     |██████████▉                     | 81kB 6.0MB/s eta 0:00:01\r\u001b[K     |████████████▏                   | 92kB 5.9MB/s eta 0:00:01\r\u001b[K     |█████████████▋                  | 102kB 5.0MB/s eta 0:00:01\r\u001b[K     |███████████████                 | 112kB 5.0MB/s eta 0:00:01\r\u001b[K     |████████████████▎               | 122kB 5.0MB/s eta 0:00:01\r\u001b[K     |█████████████████▋              | 133kB 5.0MB/s eta 0:00:01\r\u001b[K     |███████████████████             | 143kB 5.0MB/s eta 0:00:01\r\u001b[K     |████████████████████▍           | 153kB 5.0MB/s eta 0:00:01\r\u001b[K     |█████████████████████▊          | 163kB 5.0MB/s eta 0:00:01\r\u001b[K     |███████████████████████         | 174kB 5.0MB/s eta 0:00:01\r\u001b[K     |████████████████████████▍       | 184kB 5.0MB/s eta 0:00:01\r\u001b[K     |█████████████████████████▊      | 194kB 5.0MB/s eta 0:00:01\r\u001b[K     |███████████████████████████▏    | 204kB 5.0MB/s eta 0:00:01\r\u001b[K     |████████████████████████████▌   | 215kB 5.0MB/s eta 0:00:01\r\u001b[K     |█████████████████████████████▉  | 225kB 5.0MB/s eta 0:00:01\r\u001b[K     |███████████████████████████████▏| 235kB 5.0MB/s eta 0:00:01\r\u001b[K     |████████████████████████████████| 245kB 5.0MB/s \n",
            "\u001b[?25hInstalling collected packages: unidecode\n",
            "Successfully installed unidecode-1.2.0\n"
          ],
          "name": "stdout"
        }
      ]
    },
    {
      "cell_type": "code",
      "metadata": {
        "colab": {
          "base_uri": "https://localhost:8080/"
        },
        "id": "joKP4N0oVS9e",
        "outputId": "bf317529-b509-443e-cec4-026f1c5607bb"
      },
      "source": [
        "!python -m spacy download en_core_web_lg"
      ],
      "execution_count": null,
      "outputs": [
        {
          "output_type": "stream",
          "text": [
            "Collecting en_core_web_lg==2.2.5\n",
            "\u001b[?25l  Downloading https://github.com/explosion/spacy-models/releases/download/en_core_web_lg-2.2.5/en_core_web_lg-2.2.5.tar.gz (827.9MB)\n",
            "\u001b[K     |████████████████████████████████| 827.9MB 1.2MB/s \n",
            "\u001b[?25hRequirement already satisfied: spacy>=2.2.2 in /usr/local/lib/python3.7/dist-packages (from en_core_web_lg==2.2.5) (2.2.4)\n",
            "Requirement already satisfied: cymem<2.1.0,>=2.0.2 in /usr/local/lib/python3.7/dist-packages (from spacy>=2.2.2->en_core_web_lg==2.2.5) (2.0.5)\n",
            "Requirement already satisfied: setuptools in /usr/local/lib/python3.7/dist-packages (from spacy>=2.2.2->en_core_web_lg==2.2.5) (54.0.0)\n",
            "Requirement already satisfied: requests<3.0.0,>=2.13.0 in /usr/local/lib/python3.7/dist-packages (from spacy>=2.2.2->en_core_web_lg==2.2.5) (2.23.0)\n",
            "Requirement already satisfied: blis<0.5.0,>=0.4.0 in /usr/local/lib/python3.7/dist-packages (from spacy>=2.2.2->en_core_web_lg==2.2.5) (0.4.1)\n",
            "Requirement already satisfied: wasabi<1.1.0,>=0.4.0 in /usr/local/lib/python3.7/dist-packages (from spacy>=2.2.2->en_core_web_lg==2.2.5) (0.8.2)\n",
            "Requirement already satisfied: srsly<1.1.0,>=1.0.2 in /usr/local/lib/python3.7/dist-packages (from spacy>=2.2.2->en_core_web_lg==2.2.5) (1.0.5)\n",
            "Requirement already satisfied: numpy>=1.15.0 in /usr/local/lib/python3.7/dist-packages (from spacy>=2.2.2->en_core_web_lg==2.2.5) (1.19.5)\n",
            "Requirement already satisfied: murmurhash<1.1.0,>=0.28.0 in /usr/local/lib/python3.7/dist-packages (from spacy>=2.2.2->en_core_web_lg==2.2.5) (1.0.5)\n",
            "Requirement already satisfied: catalogue<1.1.0,>=0.0.7 in /usr/local/lib/python3.7/dist-packages (from spacy>=2.2.2->en_core_web_lg==2.2.5) (1.0.0)\n",
            "Requirement already satisfied: tqdm<5.0.0,>=4.38.0 in /usr/local/lib/python3.7/dist-packages (from spacy>=2.2.2->en_core_web_lg==2.2.5) (4.41.1)\n",
            "Requirement already satisfied: plac<1.2.0,>=0.9.6 in /usr/local/lib/python3.7/dist-packages (from spacy>=2.2.2->en_core_web_lg==2.2.5) (1.1.3)\n",
            "Requirement already satisfied: thinc==7.4.0 in /usr/local/lib/python3.7/dist-packages (from spacy>=2.2.2->en_core_web_lg==2.2.5) (7.4.0)\n",
            "Requirement already satisfied: preshed<3.1.0,>=3.0.2 in /usr/local/lib/python3.7/dist-packages (from spacy>=2.2.2->en_core_web_lg==2.2.5) (3.0.5)\n",
            "Requirement already satisfied: idna<3,>=2.5 in /usr/local/lib/python3.7/dist-packages (from requests<3.0.0,>=2.13.0->spacy>=2.2.2->en_core_web_lg==2.2.5) (2.10)\n",
            "Requirement already satisfied: certifi>=2017.4.17 in /usr/local/lib/python3.7/dist-packages (from requests<3.0.0,>=2.13.0->spacy>=2.2.2->en_core_web_lg==2.2.5) (2020.12.5)\n",
            "Requirement already satisfied: urllib3!=1.25.0,!=1.25.1,<1.26,>=1.21.1 in /usr/local/lib/python3.7/dist-packages (from requests<3.0.0,>=2.13.0->spacy>=2.2.2->en_core_web_lg==2.2.5) (1.24.3)\n",
            "Requirement already satisfied: chardet<4,>=3.0.2 in /usr/local/lib/python3.7/dist-packages (from requests<3.0.0,>=2.13.0->spacy>=2.2.2->en_core_web_lg==2.2.5) (3.0.4)\n",
            "Requirement already satisfied: importlib-metadata>=0.20; python_version < \"3.8\" in /usr/local/lib/python3.7/dist-packages (from catalogue<1.1.0,>=0.0.7->spacy>=2.2.2->en_core_web_lg==2.2.5) (3.7.2)\n",
            "Requirement already satisfied: zipp>=0.5 in /usr/local/lib/python3.7/dist-packages (from importlib-metadata>=0.20; python_version < \"3.8\"->catalogue<1.1.0,>=0.0.7->spacy>=2.2.2->en_core_web_lg==2.2.5) (3.4.1)\n",
            "Requirement already satisfied: typing-extensions>=3.6.4; python_version < \"3.8\" in /usr/local/lib/python3.7/dist-packages (from importlib-metadata>=0.20; python_version < \"3.8\"->catalogue<1.1.0,>=0.0.7->spacy>=2.2.2->en_core_web_lg==2.2.5) (3.7.4.3)\n",
            "Building wheels for collected packages: en-core-web-lg\n",
            "  Building wheel for en-core-web-lg (setup.py) ... \u001b[?25l\u001b[?25hdone\n",
            "  Created wheel for en-core-web-lg: filename=en_core_web_lg-2.2.5-cp37-none-any.whl size=829180944 sha256=618d9576bd88c8f46942b1e08e542b97f27311afb93abf3e2a588454f403583f\n",
            "  Stored in directory: /tmp/pip-ephem-wheel-cache-_rtk5db7/wheels/2a/c1/a6/fc7a877b1efca9bc6a089d6f506f16d3868408f9ff89f8dbfc\n",
            "Successfully built en-core-web-lg\n",
            "Installing collected packages: en-core-web-lg\n",
            "Successfully installed en-core-web-lg-2.2.5\n",
            "\u001b[38;5;2m✔ Download and installation successful\u001b[0m\n",
            "You can now load the model via spacy.load('en_core_web_lg')\n"
          ],
          "name": "stdout"
        }
      ]
    },
    {
      "cell_type": "code",
      "metadata": {
        "colab": {
          "base_uri": "https://localhost:8080/"
        },
        "id": "Cxungk6QtG1-",
        "outputId": "1873ad08-e617-4a78-942c-dcf98008d87f"
      },
      "source": [
        "!pip install scikit-surprise"
      ],
      "execution_count": null,
      "outputs": [
        {
          "output_type": "stream",
          "text": [
            "Collecting scikit-surprise\n",
            "\u001b[?25l  Downloading https://files.pythonhosted.org/packages/97/37/5d334adaf5ddd65da99fc65f6507e0e4599d092ba048f4302fe8775619e8/scikit-surprise-1.1.1.tar.gz (11.8MB)\n",
            "\u001b[K     |████████████████████████████████| 11.8MB 5.0MB/s \n",
            "\u001b[?25hRequirement already satisfied: joblib>=0.11 in /usr/local/lib/python3.7/dist-packages (from scikit-surprise) (1.0.1)\n",
            "Requirement already satisfied: numpy>=1.11.2 in /usr/local/lib/python3.7/dist-packages (from scikit-surprise) (1.19.5)\n",
            "Requirement already satisfied: scipy>=1.0.0 in /usr/local/lib/python3.7/dist-packages (from scikit-surprise) (1.4.1)\n",
            "Requirement already satisfied: six>=1.10.0 in /usr/local/lib/python3.7/dist-packages (from scikit-surprise) (1.15.0)\n",
            "Building wheels for collected packages: scikit-surprise\n",
            "  Building wheel for scikit-surprise (setup.py) ... \u001b[?25l\u001b[?25hdone\n",
            "  Created wheel for scikit-surprise: filename=scikit_surprise-1.1.1-cp37-cp37m-linux_x86_64.whl size=1617549 sha256=04262501d599f879a1c2d0031113004b63bfaf3565914eb66c1032ea73fc9b01\n",
            "  Stored in directory: /root/.cache/pip/wheels/78/9c/3d/41b419c9d2aff5b6e2b4c0fc8d25c538202834058f9ed110d0\n",
            "Successfully built scikit-surprise\n",
            "Installing collected packages: scikit-surprise\n",
            "Successfully installed scikit-surprise-1.1.1\n"
          ],
          "name": "stdout"
        }
      ]
    },
    {
      "cell_type": "code",
      "metadata": {
        "colab": {
          "base_uri": "https://localhost:8080/"
        },
        "id": "VgIgDs_RVXBG",
        "outputId": "cfe89673-af73-4f78-c65d-8bba97c0014f"
      },
      "source": [
        "# !pip install --upgrade gensim"
      ],
      "execution_count": null,
      "outputs": [
        {
          "output_type": "stream",
          "text": [
            "Collecting gensim\n",
            "\u001b[?25l  Downloading https://files.pythonhosted.org/packages/5c/4e/afe2315e08a38967f8a3036bbe7e38b428e9b7a90e823a83d0d49df1adf5/gensim-3.8.3-cp37-cp37m-manylinux1_x86_64.whl (24.2MB)\n",
            "\u001b[K     |████████████████████████████████| 24.2MB 1.5MB/s \n",
            "\u001b[?25hRequirement already satisfied, skipping upgrade: smart-open>=1.8.1 in /usr/local/lib/python3.7/dist-packages (from gensim) (4.2.0)\n",
            "Requirement already satisfied, skipping upgrade: numpy>=1.11.3 in /usr/local/lib/python3.7/dist-packages (from gensim) (1.19.5)\n",
            "Requirement already satisfied, skipping upgrade: six>=1.5.0 in /usr/local/lib/python3.7/dist-packages (from gensim) (1.15.0)\n",
            "Requirement already satisfied, skipping upgrade: scipy>=0.18.1 in /usr/local/lib/python3.7/dist-packages (from gensim) (1.4.1)\n",
            "Installing collected packages: gensim\n",
            "  Found existing installation: gensim 3.6.0\n",
            "    Uninstalling gensim-3.6.0:\n",
            "      Successfully uninstalled gensim-3.6.0\n",
            "Successfully installed gensim-3.8.3\n"
          ],
          "name": "stdout"
        }
      ]
    },
    {
      "cell_type": "markdown",
      "metadata": {
        "id": "JpVmVZrs82u5"
      },
      "source": [
        "# 라이브러리"
      ]
    },
    {
      "cell_type": "code",
      "metadata": {
        "id": "0w12Kp7TRX_I"
      },
      "source": [
        "import pandas as pd\n",
        "import numpy as np\n",
        "from unidecode import unidecode\n",
        "import re\n",
        "\n",
        "import sqlite3\n",
        "\n",
        "from google.colab import files"
      ],
      "execution_count": null,
      "outputs": []
    },
    {
      "cell_type": "code",
      "metadata": {
        "id": "j3LsJXU_VYYk"
      },
      "source": [
        "import surprise\n",
        "from surprise import Dataset\n",
        "from surprise import Reader\n",
        "from surprise.prediction_algorithms.matrix_factorization import SVD\n",
        "from surprise.model_selection import cross_validate\n",
        "from surprise import accuracy\n",
        "from surprise import similarities\n",
        "from surprise.prediction_algorithms.knns import KNNBasic\n",
        "from surprise.model_selection import cross_validate\n",
        "from surprise.model_selection import KFold\n",
        "\n",
        "import spacy\n",
        "from spacy.tokenizer import Tokenizer\n",
        "\n",
        "\n",
        "mport matplotlib.pyplot as plt\n",
        "import seaborn as sns"
      ],
      "execution_count": null,
      "outputs": []
    },
    {
      "cell_type": "code",
      "metadata": {
        "id": "ICZFdzQ_DrHz"
      },
      "source": [
        "from sklearn.model_selection import train_test_split\n",
        "\n",
        "from sklearn.ensemble import RandomForestClassifier\n",
        "from sklearn.impute import SimpleImputer \n",
        "from sklearn.pipeline import make_pipeline"
      ],
      "execution_count": null,
      "outputs": []
    },
    {
      "cell_type": "code",
      "metadata": {
        "id": "xacB9VU2Uxj9"
      },
      "source": [
        "from sklearn.preprocessing import StandardScaler\n",
        "from sklearn.decomposition import PCA"
      ],
      "execution_count": null,
      "outputs": []
    },
    {
      "cell_type": "code",
      "metadata": {
        "id": "e2PbjRWL0y4L"
      },
      "source": [
        "\n",
        "import random\n",
        "\n",
        "my_seed = 42\n",
        "random.seed(my_seed)\n",
        "np.random.seed(my_seed)"
      ],
      "execution_count": null,
      "outputs": []
    },
    {
      "cell_type": "markdown",
      "metadata": {
        "id": "P63zvZ0SRZ4b"
      },
      "source": [
        "# user playlist 데이터셋"
      ]
    },
    {
      "cell_type": "markdown",
      "metadata": {
        "id": "LUBvh65tTyqp"
      },
      "source": [
        "[Exploiting Music Play Sequence for Music Recommendation - CORE Reader](https://core.ac.uk/reader/194453000) 논문에 따르면 유저가 한 세션 내에서 플레이한 곡들은 유사도가 크다고 한다. 그렇기 때문에 유저별 플레이 데이터를 하나의 플레이리스트로 보기로 한다."
      ]
    },
    {
      "cell_type": "code",
      "metadata": {
        "id": "BtaR3zGTRY4G"
      },
      "source": [
        "text = '/content/drive/MyDrive/capstone project 1/train_triplets.txt'"
      ],
      "execution_count": null,
      "outputs": []
    },
    {
      "cell_type": "code",
      "metadata": {
        "id": "CAt5Fc-qRhVn"
      },
      "source": [
        "# 곡 재생횟수 데이터셋\n",
        "df = pd.read_csv(text,sep='\\t', names = ['user_id', 'song_id', 'play_counts'])"
      ],
      "execution_count": null,
      "outputs": []
    },
    {
      "cell_type": "code",
      "metadata": {
        "colab": {
          "base_uri": "https://localhost:8080/",
          "height": 204
        },
        "id": "PhUf7CEdRpju",
        "outputId": "7130cad7-a7e3-4934-c3dc-ae56c37a5f4b"
      },
      "source": [
        "df.head()"
      ],
      "execution_count": null,
      "outputs": [
        {
          "output_type": "execute_result",
          "data": {
            "text/html": [
              "<div>\n",
              "<style scoped>\n",
              "    .dataframe tbody tr th:only-of-type {\n",
              "        vertical-align: middle;\n",
              "    }\n",
              "\n",
              "    .dataframe tbody tr th {\n",
              "        vertical-align: top;\n",
              "    }\n",
              "\n",
              "    .dataframe thead th {\n",
              "        text-align: right;\n",
              "    }\n",
              "</style>\n",
              "<table border=\"1\" class=\"dataframe\">\n",
              "  <thead>\n",
              "    <tr style=\"text-align: right;\">\n",
              "      <th></th>\n",
              "      <th>user_id</th>\n",
              "      <th>song_id</th>\n",
              "      <th>play_counts</th>\n",
              "    </tr>\n",
              "  </thead>\n",
              "  <tbody>\n",
              "    <tr>\n",
              "      <th>0</th>\n",
              "      <td>b80344d063b5ccb3212f76538f3d9e43d87dca9e</td>\n",
              "      <td>SOAKIMP12A8C130995</td>\n",
              "      <td>1</td>\n",
              "    </tr>\n",
              "    <tr>\n",
              "      <th>1</th>\n",
              "      <td>b80344d063b5ccb3212f76538f3d9e43d87dca9e</td>\n",
              "      <td>SOAPDEY12A81C210A9</td>\n",
              "      <td>1</td>\n",
              "    </tr>\n",
              "    <tr>\n",
              "      <th>2</th>\n",
              "      <td>b80344d063b5ccb3212f76538f3d9e43d87dca9e</td>\n",
              "      <td>SOBBMDR12A8C13253B</td>\n",
              "      <td>2</td>\n",
              "    </tr>\n",
              "    <tr>\n",
              "      <th>3</th>\n",
              "      <td>b80344d063b5ccb3212f76538f3d9e43d87dca9e</td>\n",
              "      <td>SOBFNSP12AF72A0E22</td>\n",
              "      <td>1</td>\n",
              "    </tr>\n",
              "    <tr>\n",
              "      <th>4</th>\n",
              "      <td>b80344d063b5ccb3212f76538f3d9e43d87dca9e</td>\n",
              "      <td>SOBFOVM12A58A7D494</td>\n",
              "      <td>1</td>\n",
              "    </tr>\n",
              "  </tbody>\n",
              "</table>\n",
              "</div>"
            ],
            "text/plain": [
              "                                    user_id             song_id  play_counts\n",
              "0  b80344d063b5ccb3212f76538f3d9e43d87dca9e  SOAKIMP12A8C130995            1\n",
              "1  b80344d063b5ccb3212f76538f3d9e43d87dca9e  SOAPDEY12A81C210A9            1\n",
              "2  b80344d063b5ccb3212f76538f3d9e43d87dca9e  SOBBMDR12A8C13253B            2\n",
              "3  b80344d063b5ccb3212f76538f3d9e43d87dca9e  SOBFNSP12AF72A0E22            1\n",
              "4  b80344d063b5ccb3212f76538f3d9e43d87dca9e  SOBFOVM12A58A7D494            1"
            ]
          },
          "metadata": {
            "tags": []
          },
          "execution_count": 74
        }
      ]
    },
    {
      "cell_type": "code",
      "metadata": {
        "colab": {
          "base_uri": "https://localhost:8080/"
        },
        "id": "NbfI8BT-RrXP",
        "outputId": "ce369f11-e3d7-4f22-de96-d87ea4b7d653"
      },
      "source": [
        "print(df.shape)\n",
        "print(df.isnull().sum())"
      ],
      "execution_count": null,
      "outputs": [
        {
          "output_type": "stream",
          "text": [
            "(48373586, 3)\n",
            "user_id        0\n",
            "song_id        0\n",
            "play_counts    0\n",
            "dtype: int64\n"
          ],
          "name": "stdout"
        }
      ]
    },
    {
      "cell_type": "code",
      "metadata": {
        "id": "PBv_nGC7Rwft"
      },
      "source": [
        "# user_id 별로 정렬하기 위해 sort\n",
        "df_sorted = df.sort_values(by='user_id', ascending=False)"
      ],
      "execution_count": null,
      "outputs": []
    },
    {
      "cell_type": "code",
      "metadata": {
        "colab": {
          "base_uri": "https://localhost:8080/",
          "height": 204
        },
        "id": "SI69k8YCRy8X",
        "outputId": "72f9e606-bf62-4ac4-a702-1c76a469c5a0"
      },
      "source": [
        "df_sorted.head()"
      ],
      "execution_count": null,
      "outputs": [
        {
          "output_type": "execute_result",
          "data": {
            "text/html": [
              "<div>\n",
              "<style scoped>\n",
              "    .dataframe tbody tr th:only-of-type {\n",
              "        vertical-align: middle;\n",
              "    }\n",
              "\n",
              "    .dataframe tbody tr th {\n",
              "        vertical-align: top;\n",
              "    }\n",
              "\n",
              "    .dataframe thead th {\n",
              "        text-align: right;\n",
              "    }\n",
              "</style>\n",
              "<table border=\"1\" class=\"dataframe\">\n",
              "  <thead>\n",
              "    <tr style=\"text-align: right;\">\n",
              "      <th></th>\n",
              "      <th>user_id</th>\n",
              "      <th>song_id</th>\n",
              "      <th>play_counts</th>\n",
              "    </tr>\n",
              "  </thead>\n",
              "  <tbody>\n",
              "    <tr>\n",
              "      <th>31292919</th>\n",
              "      <td>fffff9534445f481b6ab91c345500083d2ce4df1</td>\n",
              "      <td>SOFYCAM12A58A7A45B</td>\n",
              "      <td>1</td>\n",
              "    </tr>\n",
              "    <tr>\n",
              "      <th>31292934</th>\n",
              "      <td>fffff9534445f481b6ab91c345500083d2ce4df1</td>\n",
              "      <td>SOOOWXV12A6D4F4763</td>\n",
              "      <td>1</td>\n",
              "    </tr>\n",
              "    <tr>\n",
              "      <th>31292932</th>\n",
              "      <td>fffff9534445f481b6ab91c345500083d2ce4df1</td>\n",
              "      <td>SONYEOJ12A8C142E86</td>\n",
              "      <td>32</td>\n",
              "    </tr>\n",
              "    <tr>\n",
              "      <th>31292931</th>\n",
              "      <td>fffff9534445f481b6ab91c345500083d2ce4df1</td>\n",
              "      <td>SONHWUN12AC468C014</td>\n",
              "      <td>1</td>\n",
              "    </tr>\n",
              "    <tr>\n",
              "      <th>31292930</th>\n",
              "      <td>fffff9534445f481b6ab91c345500083d2ce4df1</td>\n",
              "      <td>SOMCMKG12A8C1347BF</td>\n",
              "      <td>56</td>\n",
              "    </tr>\n",
              "  </tbody>\n",
              "</table>\n",
              "</div>"
            ],
            "text/plain": [
              "                                           user_id  ... play_counts\n",
              "31292919  fffff9534445f481b6ab91c345500083d2ce4df1  ...           1\n",
              "31292934  fffff9534445f481b6ab91c345500083d2ce4df1  ...           1\n",
              "31292932  fffff9534445f481b6ab91c345500083d2ce4df1  ...          32\n",
              "31292931  fffff9534445f481b6ab91c345500083d2ce4df1  ...           1\n",
              "31292930  fffff9534445f481b6ab91c345500083d2ce4df1  ...          56\n",
              "\n",
              "[5 rows x 3 columns]"
            ]
          },
          "metadata": {
            "tags": []
          },
          "execution_count": 77
        }
      ]
    },
    {
      "cell_type": "code",
      "metadata": {
        "id": "iwtDcamxR0eG"
      },
      "source": [
        "# 유저별 플레이한 곡 수 세기 위해 groupby 사용\n",
        "df_groupby = df_sorted.groupby('user_id').nunique()"
      ],
      "execution_count": null,
      "outputs": []
    },
    {
      "cell_type": "code",
      "metadata": {
        "id": "8woHjGCxR4WO"
      },
      "source": [
        "df_groupby = df_groupby.drop(columns=['play_counts'])"
      ],
      "execution_count": null,
      "outputs": []
    },
    {
      "cell_type": "code",
      "metadata": {
        "colab": {
          "base_uri": "https://localhost:8080/",
          "height": 450
        },
        "id": "uh9mxVoaR5KR",
        "outputId": "df85a71a-6488-44ee-c53e-fa713f45e2db"
      },
      "source": [
        "df_groupby"
      ],
      "execution_count": null,
      "outputs": [
        {
          "output_type": "execute_result",
          "data": {
            "text/html": [
              "<div>\n",
              "<style scoped>\n",
              "    .dataframe tbody tr th:only-of-type {\n",
              "        vertical-align: middle;\n",
              "    }\n",
              "\n",
              "    .dataframe tbody tr th {\n",
              "        vertical-align: top;\n",
              "    }\n",
              "\n",
              "    .dataframe thead th {\n",
              "        text-align: right;\n",
              "    }\n",
              "</style>\n",
              "<table border=\"1\" class=\"dataframe\">\n",
              "  <thead>\n",
              "    <tr style=\"text-align: right;\">\n",
              "      <th></th>\n",
              "      <th>song_id</th>\n",
              "    </tr>\n",
              "    <tr>\n",
              "      <th>user_id</th>\n",
              "      <th></th>\n",
              "    </tr>\n",
              "  </thead>\n",
              "  <tbody>\n",
              "    <tr>\n",
              "      <th>00000b722001882066dff9d2da8a775658053ea0</th>\n",
              "      <td>12</td>\n",
              "    </tr>\n",
              "    <tr>\n",
              "      <th>00001638d6189236866af9bbf309ae6c2347ffdc</th>\n",
              "      <td>14</td>\n",
              "    </tr>\n",
              "    <tr>\n",
              "      <th>0000175652312d12576d9e6b84f600caa24c4715</th>\n",
              "      <td>12</td>\n",
              "    </tr>\n",
              "    <tr>\n",
              "      <th>00001cf0dce3fb22b0df0f3a1d9cd21e38385372</th>\n",
              "      <td>18</td>\n",
              "    </tr>\n",
              "    <tr>\n",
              "      <th>0000267bde1b3a70ea75cf2b2d216cb828e3202b</th>\n",
              "      <td>25</td>\n",
              "    </tr>\n",
              "    <tr>\n",
              "      <th>...</th>\n",
              "      <td>...</td>\n",
              "    </tr>\n",
              "    <tr>\n",
              "      <th>ffffdc6c89988cd6119067769162948eacf8b670</th>\n",
              "      <td>51</td>\n",
              "    </tr>\n",
              "    <tr>\n",
              "      <th>ffffe07df4bb5fd929efe42c5728f3a0c1621277</th>\n",
              "      <td>14</td>\n",
              "    </tr>\n",
              "    <tr>\n",
              "      <th>fffff3e690fcda840b716ce7249d8935ff3323fc</th>\n",
              "      <td>15</td>\n",
              "    </tr>\n",
              "    <tr>\n",
              "      <th>fffff67d54a40927c93d03bd6c816b034b59f087</th>\n",
              "      <td>81</td>\n",
              "    </tr>\n",
              "    <tr>\n",
              "      <th>fffff9534445f481b6ab91c345500083d2ce4df1</th>\n",
              "      <td>40</td>\n",
              "    </tr>\n",
              "  </tbody>\n",
              "</table>\n",
              "<p>1019318 rows × 1 columns</p>\n",
              "</div>"
            ],
            "text/plain": [
              "                                          song_id\n",
              "user_id                                          \n",
              "00000b722001882066dff9d2da8a775658053ea0       12\n",
              "00001638d6189236866af9bbf309ae6c2347ffdc       14\n",
              "0000175652312d12576d9e6b84f600caa24c4715       12\n",
              "00001cf0dce3fb22b0df0f3a1d9cd21e38385372       18\n",
              "0000267bde1b3a70ea75cf2b2d216cb828e3202b       25\n",
              "...                                           ...\n",
              "ffffdc6c89988cd6119067769162948eacf8b670       51\n",
              "ffffe07df4bb5fd929efe42c5728f3a0c1621277       14\n",
              "fffff3e690fcda840b716ce7249d8935ff3323fc       15\n",
              "fffff67d54a40927c93d03bd6c816b034b59f087       81\n",
              "fffff9534445f481b6ab91c345500083d2ce4df1       40\n",
              "\n",
              "[1019318 rows x 1 columns]"
            ]
          },
          "metadata": {
            "tags": []
          },
          "execution_count": 14
        }
      ]
    },
    {
      "cell_type": "code",
      "metadata": {
        "colab": {
          "base_uri": "https://localhost:8080/"
        },
        "id": "LDkOo5vvR6S2",
        "outputId": "c0a81089-135a-4484-e882-0d247a5fbe9d"
      },
      "source": [
        "df_groupby['song_id'].describe() # 여기서 song_id 컬럼은 유저별 플레이리스트 내 곡 수 "
      ],
      "execution_count": null,
      "outputs": [
        {
          "output_type": "execute_result",
          "data": {
            "text/plain": [
              "count    1.019318e+06\n",
              "mean     4.745682e+01\n",
              "std      5.781573e+01\n",
              "min      1.000000e+01\n",
              "25%      1.600000e+01\n",
              "50%      2.700000e+01\n",
              "75%      5.500000e+01\n",
              "max      4.400000e+03\n",
              "Name: song_id, dtype: float64"
            ]
          },
          "metadata": {
            "tags": []
          },
          "execution_count": 15
        }
      ]
    },
    {
      "cell_type": "markdown",
      "metadata": {
        "id": "m890exq8SYZo"
      },
      "source": [
        "평균적으로 사용자별로 플레이한 곡 목록에 47개의 곡이 있음을 확인할 수 있다."
      ]
    },
    {
      "cell_type": "code",
      "metadata": {
        "colab": {
          "base_uri": "https://localhost:8080/"
        },
        "id": "Cc1pSPXvSsOL",
        "outputId": "c498bd96-75a5-40bf-ca9c-b47bb2d13943"
      },
      "source": [
        "df_sorted.shape"
      ],
      "execution_count": null,
      "outputs": [
        {
          "output_type": "execute_result",
          "data": {
            "text/plain": [
              "(48373586, 3)"
            ]
          },
          "metadata": {
            "tags": []
          },
          "execution_count": 22
        }
      ]
    },
    {
      "cell_type": "code",
      "metadata": {
        "id": "PRJyJd6YSo85"
      },
      "source": [
        "# df_sliced = df_sorted[:20000] # 데이터셋이 너무 크기 때문에 20000개로 줄이기"
      ],
      "execution_count": null,
      "outputs": []
    },
    {
      "cell_type": "code",
      "metadata": {
        "id": "UsnLfoW6S1gr"
      },
      "source": [
        "# df_sliced_groupby = df_sliced.groupby('user_id').nunique() # 유저별 플레이한 곡 수 세기 위해 groupby 사용"
      ],
      "execution_count": null,
      "outputs": []
    },
    {
      "cell_type": "code",
      "metadata": {
        "colab": {
          "base_uri": "https://localhost:8080/",
          "height": 450
        },
        "id": "JKaHHF7BTKm6",
        "outputId": "d8d4418d-63f7-4c4f-9200-6047023f5e55"
      },
      "source": [
        "# df_sliced_groupby"
      ],
      "execution_count": null,
      "outputs": [
        {
          "output_type": "execute_result",
          "data": {
            "text/html": [
              "<div>\n",
              "<style scoped>\n",
              "    .dataframe tbody tr th:only-of-type {\n",
              "        vertical-align: middle;\n",
              "    }\n",
              "\n",
              "    .dataframe tbody tr th {\n",
              "        vertical-align: top;\n",
              "    }\n",
              "\n",
              "    .dataframe thead th {\n",
              "        text-align: right;\n",
              "    }\n",
              "</style>\n",
              "<table border=\"1\" class=\"dataframe\">\n",
              "  <thead>\n",
              "    <tr style=\"text-align: right;\">\n",
              "      <th></th>\n",
              "      <th>song_id</th>\n",
              "      <th>play_counts</th>\n",
              "    </tr>\n",
              "    <tr>\n",
              "      <th>user_id</th>\n",
              "      <th></th>\n",
              "      <th></th>\n",
              "    </tr>\n",
              "  </thead>\n",
              "  <tbody>\n",
              "    <tr>\n",
              "      <th>ffe84b524f1f41e0da1d2f70e69c49d7c2b349e4</th>\n",
              "      <td>109</td>\n",
              "      <td>18</td>\n",
              "    </tr>\n",
              "    <tr>\n",
              "      <th>ffe85f9995f7221c636afde3c42e2566682bd829</th>\n",
              "      <td>199</td>\n",
              "      <td>16</td>\n",
              "    </tr>\n",
              "    <tr>\n",
              "      <th>ffe88447249c8cdd94410eba32d81cc97d6e9994</th>\n",
              "      <td>36</td>\n",
              "      <td>3</td>\n",
              "    </tr>\n",
              "    <tr>\n",
              "      <th>ffe89b15cc8c6bbc70876f5ce4822ee045a80317</th>\n",
              "      <td>35</td>\n",
              "      <td>5</td>\n",
              "    </tr>\n",
              "    <tr>\n",
              "      <th>ffe8d15e06162ddf0917441d88105258287dde01</th>\n",
              "      <td>12</td>\n",
              "      <td>8</td>\n",
              "    </tr>\n",
              "    <tr>\n",
              "      <th>...</th>\n",
              "      <td>...</td>\n",
              "      <td>...</td>\n",
              "    </tr>\n",
              "    <tr>\n",
              "      <th>ffffdc6c89988cd6119067769162948eacf8b670</th>\n",
              "      <td>51</td>\n",
              "      <td>8</td>\n",
              "    </tr>\n",
              "    <tr>\n",
              "      <th>ffffe07df4bb5fd929efe42c5728f3a0c1621277</th>\n",
              "      <td>14</td>\n",
              "      <td>1</td>\n",
              "    </tr>\n",
              "    <tr>\n",
              "      <th>fffff3e690fcda840b716ce7249d8935ff3323fc</th>\n",
              "      <td>15</td>\n",
              "      <td>6</td>\n",
              "    </tr>\n",
              "    <tr>\n",
              "      <th>fffff67d54a40927c93d03bd6c816b034b59f087</th>\n",
              "      <td>81</td>\n",
              "      <td>6</td>\n",
              "    </tr>\n",
              "    <tr>\n",
              "      <th>fffff9534445f481b6ab91c345500083d2ce4df1</th>\n",
              "      <td>40</td>\n",
              "      <td>14</td>\n",
              "    </tr>\n",
              "  </tbody>\n",
              "</table>\n",
              "<p>401 rows × 2 columns</p>\n",
              "</div>"
            ],
            "text/plain": [
              "                                          song_id  play_counts\n",
              "user_id                                                       \n",
              "ffe84b524f1f41e0da1d2f70e69c49d7c2b349e4      109           18\n",
              "ffe85f9995f7221c636afde3c42e2566682bd829      199           16\n",
              "ffe88447249c8cdd94410eba32d81cc97d6e9994       36            3\n",
              "ffe89b15cc8c6bbc70876f5ce4822ee045a80317       35            5\n",
              "ffe8d15e06162ddf0917441d88105258287dde01       12            8\n",
              "...                                           ...          ...\n",
              "ffffdc6c89988cd6119067769162948eacf8b670       51            8\n",
              "ffffe07df4bb5fd929efe42c5728f3a0c1621277       14            1\n",
              "fffff3e690fcda840b716ce7249d8935ff3323fc       15            6\n",
              "fffff67d54a40927c93d03bd6c816b034b59f087       81            6\n",
              "fffff9534445f481b6ab91c345500083d2ce4df1       40           14\n",
              "\n",
              "[401 rows x 2 columns]"
            ]
          },
          "metadata": {
            "tags": []
          },
          "execution_count": 29
        }
      ]
    },
    {
      "cell_type": "code",
      "metadata": {
        "colab": {
          "base_uri": "https://localhost:8080/"
        },
        "id": "I2WoiCQVTH1W",
        "outputId": "7f7f75fa-9eb3-4865-98f2-5cb1b74f65a3"
      },
      "source": [
        "# df_sliced_groupby['song_id'].describe()"
      ],
      "execution_count": null,
      "outputs": [
        {
          "output_type": "execute_result",
          "data": {
            "text/plain": [
              "count    401.000000\n",
              "mean      49.875312\n",
              "std       56.496765\n",
              "min       10.000000\n",
              "25%       16.000000\n",
              "50%       29.000000\n",
              "75%       57.000000\n",
              "max      472.000000\n",
              "Name: song_id, dtype: float64"
            ]
          },
          "metadata": {
            "tags": []
          },
          "execution_count": 30
        }
      ]
    },
    {
      "cell_type": "markdown",
      "metadata": {
        "id": "7F6Lf2AwTVfl"
      },
      "source": [
        "슬라이싱한 후 유저의 수 401명, 유저별 플레이한 곡 수 평균 49개, 최소 10개"
      ]
    },
    {
      "cell_type": "code",
      "metadata": {
        "id": "__0Cl73sSnAB"
      },
      "source": [
        "# 슬라이싱한 데이터프레임 csv로 다운로드\n",
        "# df_sliced.to_csv('df_sliced.csv')\n",
        "\n",
        "# files.download('df_sliced.csv')"
      ],
      "execution_count": null,
      "outputs": []
    },
    {
      "cell_type": "code",
      "metadata": {
        "id": "veQiWEJPWQBH"
      },
      "source": [
        "# 곡 정보를 불러오기 위해 슬라이싱한 후 데이터셋에서 재생된 곡들 저장\n",
        "# unique_songs = df_sliced['song_id'].unique()"
      ],
      "execution_count": null,
      "outputs": []
    },
    {
      "cell_type": "code",
      "metadata": {
        "colab": {
          "base_uri": "https://localhost:8080/"
        },
        "id": "wbyxwQY4Wes-",
        "outputId": "8907db08-b10e-4ffa-fe1c-1099d195ad04"
      },
      "source": [
        "# unique_songs.shape"
      ],
      "execution_count": null,
      "outputs": [
        {
          "output_type": "execute_result",
          "data": {
            "text/plain": [
              "(14143,)"
            ]
          },
          "metadata": {
            "tags": []
          },
          "execution_count": 5
        }
      ]
    },
    {
      "cell_type": "code",
      "metadata": {
        "id": "vJfT9kcl7nEn"
      },
      "source": [
        "# filepath = '/content/drive/MyDrive/capstone project 1/df_sliced.csv'\n",
        "# df_sliced = pd.read_csv(filepath)"
      ],
      "execution_count": null,
      "outputs": []
    },
    {
      "cell_type": "markdown",
      "metadata": {
        "id": "eyqIkGWcWtzc"
      },
      "source": [
        "401명의 유저가 재생한 곡 갯수는 14143개"
      ]
    },
    {
      "cell_type": "markdown",
      "metadata": {
        "id": "9K7d7I8-WS5E"
      },
      "source": [
        "# 곡 정보 메타데이터 셋"
      ]
    },
    {
      "cell_type": "code",
      "metadata": {
        "id": "50QAMWjyWShh"
      },
      "source": [
        "meta_db = '/content/drive/MyDrive/capstone project 1/track_metadata.db'\n",
        "con = sqlite3.connect(meta_db)\n",
        "cursor = con.cursor()"
      ],
      "execution_count": null,
      "outputs": []
    },
    {
      "cell_type": "code",
      "metadata": {
        "colab": {
          "base_uri": "https://localhost:8080/",
          "height": 204
        },
        "id": "5C2dOPhHXEqY",
        "outputId": "83d802f7-2ad9-41ae-9661-ba4b41fc7b9a"
      },
      "source": [
        "info = pd.read_sql_query(\"SELECT title, song_id, artist_name, release FROM songs\", con)\n",
        "\n",
        "info.head()"
      ],
      "execution_count": null,
      "outputs": [
        {
          "output_type": "execute_result",
          "data": {
            "text/html": [
              "<div>\n",
              "<style scoped>\n",
              "    .dataframe tbody tr th:only-of-type {\n",
              "        vertical-align: middle;\n",
              "    }\n",
              "\n",
              "    .dataframe tbody tr th {\n",
              "        vertical-align: top;\n",
              "    }\n",
              "\n",
              "    .dataframe thead th {\n",
              "        text-align: right;\n",
              "    }\n",
              "</style>\n",
              "<table border=\"1\" class=\"dataframe\">\n",
              "  <thead>\n",
              "    <tr style=\"text-align: right;\">\n",
              "      <th></th>\n",
              "      <th>title</th>\n",
              "      <th>song_id</th>\n",
              "      <th>artist_name</th>\n",
              "      <th>release</th>\n",
              "    </tr>\n",
              "  </thead>\n",
              "  <tbody>\n",
              "    <tr>\n",
              "      <th>0</th>\n",
              "      <td>Silent Night</td>\n",
              "      <td>SOQMMHC12AB0180CB8</td>\n",
              "      <td>Faster Pussy cat</td>\n",
              "      <td>Monster Ballads X-Mas</td>\n",
              "    </tr>\n",
              "    <tr>\n",
              "      <th>1</th>\n",
              "      <td>Tanssi vaan</td>\n",
              "      <td>SOVFVAK12A8C1350D9</td>\n",
              "      <td>Karkkiautomaatti</td>\n",
              "      <td>Karkuteillä</td>\n",
              "    </tr>\n",
              "    <tr>\n",
              "      <th>2</th>\n",
              "      <td>No One Could Ever</td>\n",
              "      <td>SOGTUKN12AB017F4F1</td>\n",
              "      <td>Hudson Mohawke</td>\n",
              "      <td>Butter</td>\n",
              "    </tr>\n",
              "    <tr>\n",
              "      <th>3</th>\n",
              "      <td>Si Vos Querés</td>\n",
              "      <td>SOBNYVR12A8C13558C</td>\n",
              "      <td>Yerba Brava</td>\n",
              "      <td>De Culo</td>\n",
              "    </tr>\n",
              "    <tr>\n",
              "      <th>4</th>\n",
              "      <td>Tangle Of Aspens</td>\n",
              "      <td>SOHSBXH12A8C13B0DF</td>\n",
              "      <td>Der Mystic</td>\n",
              "      <td>Rene Ablaze Presents Winter Sessions</td>\n",
              "    </tr>\n",
              "  </tbody>\n",
              "</table>\n",
              "</div>"
            ],
            "text/plain": [
              "               title  ...                               release\n",
              "0       Silent Night  ...                 Monster Ballads X-Mas\n",
              "1        Tanssi vaan  ...                           Karkuteillä\n",
              "2  No One Could Ever  ...                                Butter\n",
              "3      Si Vos Querés  ...                               De Culo\n",
              "4   Tangle Of Aspens  ...  Rene Ablaze Presents Winter Sessions\n",
              "\n",
              "[5 rows x 4 columns]"
            ]
          },
          "metadata": {
            "tags": []
          },
          "execution_count": 19
        }
      ]
    },
    {
      "cell_type": "code",
      "metadata": {
        "colab": {
          "base_uri": "https://localhost:8080/"
        },
        "id": "EPDki99bXKoN",
        "outputId": "d055ab38-2cad-4c30-f454-96f1bab5840b"
      },
      "source": [
        "info.shape"
      ],
      "execution_count": null,
      "outputs": [
        {
          "output_type": "execute_result",
          "data": {
            "text/plain": [
              "(1000000, 4)"
            ]
          },
          "metadata": {
            "tags": []
          },
          "execution_count": 7
        }
      ]
    },
    {
      "cell_type": "code",
      "metadata": {
        "id": "0BLNRQzjeybi"
      },
      "source": [
        "info.to_csv('metadata.csv')\n",
        "\n",
        "files.download('metadata.csv')"
      ],
      "execution_count": null,
      "outputs": []
    },
    {
      "cell_type": "code",
      "metadata": {
        "id": "JqD-1UkTX02k"
      },
      "source": [
        "# 재생된 곡(song_id) 별 title, artist값 합치기\n",
        "# 빈 데이터프레임 생성\n",
        "played_songId = pd.DataFrame(columns=['title', 'song_id', 'artist_name'])\n",
        "\n",
        "for id in unique_songs:\n",
        "  add_row = info.loc[info['song_id'] == id]\n",
        "  played_songId = played_songId.append(add_row)"
      ],
      "execution_count": null,
      "outputs": []
    },
    {
      "cell_type": "code",
      "metadata": {
        "colab": {
          "base_uri": "https://localhost:8080/",
          "height": 204
        },
        "id": "IgkICflnYm6S",
        "outputId": "b75d0123-2027-4a54-bbf1-f5f404d61efa"
      },
      "source": [
        "played_songId.head()"
      ],
      "execution_count": null,
      "outputs": [
        {
          "output_type": "execute_result",
          "data": {
            "text/html": [
              "<div>\n",
              "<style scoped>\n",
              "    .dataframe tbody tr th:only-of-type {\n",
              "        vertical-align: middle;\n",
              "    }\n",
              "\n",
              "    .dataframe tbody tr th {\n",
              "        vertical-align: top;\n",
              "    }\n",
              "\n",
              "    .dataframe thead th {\n",
              "        text-align: right;\n",
              "    }\n",
              "</style>\n",
              "<table border=\"1\" class=\"dataframe\">\n",
              "  <thead>\n",
              "    <tr style=\"text-align: right;\">\n",
              "      <th></th>\n",
              "      <th>title</th>\n",
              "      <th>song_id</th>\n",
              "      <th>artist_name</th>\n",
              "    </tr>\n",
              "  </thead>\n",
              "  <tbody>\n",
              "    <tr>\n",
              "      <th>74283</th>\n",
              "      <td>I Wanna Make You Close Your Eyes</td>\n",
              "      <td>SOFYCAM12A58A7A45B</td>\n",
              "      <td>Dierks Bentley</td>\n",
              "    </tr>\n",
              "    <tr>\n",
              "      <th>325856</th>\n",
              "      <td>Train Travelin'</td>\n",
              "      <td>SOOOWXV12A6D4F4763</td>\n",
              "      <td>Dierks Bentley</td>\n",
              "    </tr>\n",
              "    <tr>\n",
              "      <th>187566</th>\n",
              "      <td>Breed</td>\n",
              "      <td>SONYEOJ12A8C142E86</td>\n",
              "      <td>Nirvana</td>\n",
              "    </tr>\n",
              "    <tr>\n",
              "      <th>456530</th>\n",
              "      <td>Rianna</td>\n",
              "      <td>SONHWUN12AC468C014</td>\n",
              "      <td>Fisher</td>\n",
              "    </tr>\n",
              "    <tr>\n",
              "      <th>611449</th>\n",
              "      <td>Le Jardin d'Hiver</td>\n",
              "      <td>SOMCMKG12A8C1347BF</td>\n",
              "      <td>Jacky Terrasson</td>\n",
              "    </tr>\n",
              "  </tbody>\n",
              "</table>\n",
              "</div>"
            ],
            "text/plain": [
              "                                   title             song_id      artist_name\n",
              "74283   I Wanna Make You Close Your Eyes  SOFYCAM12A58A7A45B   Dierks Bentley\n",
              "325856                   Train Travelin'  SOOOWXV12A6D4F4763   Dierks Bentley\n",
              "187566                             Breed  SONYEOJ12A8C142E86          Nirvana\n",
              "456530                            Rianna  SONHWUN12AC468C014           Fisher\n",
              "611449                 Le Jardin d'Hiver  SOMCMKG12A8C1347BF  Jacky Terrasson"
            ]
          },
          "metadata": {
            "tags": []
          },
          "execution_count": 10
        }
      ]
    },
    {
      "cell_type": "code",
      "metadata": {
        "id": "QKnTCnhjYlTo"
      },
      "source": [
        "# 데이터셋 저장\n",
        "played_songId.to_csv('played_songId.csv')\n",
        "\n",
        "files.download('played_songId.csv')"
      ],
      "execution_count": null,
      "outputs": []
    },
    {
      "cell_type": "markdown",
      "metadata": {
        "id": "-PPcvnNTSLze"
      },
      "source": [
        "# pitchfork 데이터셋"
      ]
    },
    {
      "cell_type": "markdown",
      "metadata": {
        "id": "pmHH6JPEUsZa"
      },
      "source": [
        "## 데이터 불러오기"
      ]
    },
    {
      "cell_type": "code",
      "metadata": {
        "id": "8G3TOdJ6SS5i"
      },
      "source": [
        "pitchfork_db = '/content/drive/MyDrive/capstone project 1/pitchfork.sqlite'\n",
        "con_pitchfork = sqlite3.connect(pitchfork_db)"
      ],
      "execution_count": null,
      "outputs": []
    },
    {
      "cell_type": "code",
      "metadata": {
        "id": "3ufZyAEmSTqV"
      },
      "source": [
        "cursor_pitchfork = con_pitchfork.cursor()"
      ],
      "execution_count": null,
      "outputs": []
    },
    {
      "cell_type": "code",
      "metadata": {
        "id": "5M8vwH0HSVQp"
      },
      "source": [
        "pitchfork_df = pd.read_sql_query(\n",
        "\"SELECT title, artist, score,content.content FROM reviews \\\n",
        "JOIN content on content.reviewid = reviews.reviewid \\\n",
        "WHERE pub_year < 2012 GROUP BY reviews.reviewid\", con_pitchfork)"
      ],
      "execution_count": null,
      "outputs": []
    },
    {
      "cell_type": "markdown",
      "metadata": {
        "id": "_UzHmZkBXVKh"
      },
      "source": [
        "곡 메타 데이터는 2011년까지의 자료만 있기 때문에 2012년 이전의 리뷰를 불러온다. "
      ]
    },
    {
      "cell_type": "code",
      "metadata": {
        "colab": {
          "base_uri": "https://localhost:8080/",
          "height": 204
        },
        "id": "VmWYidY3SWQg",
        "outputId": "3582c15f-522a-4f9e-b1a7-46def1e9c0fa"
      },
      "source": [
        "pitchfork_df.head()"
      ],
      "execution_count": null,
      "outputs": [
        {
          "output_type": "execute_result",
          "data": {
            "text/html": [
              "<div>\n",
              "<style scoped>\n",
              "    .dataframe tbody tr th:only-of-type {\n",
              "        vertical-align: middle;\n",
              "    }\n",
              "\n",
              "    .dataframe tbody tr th {\n",
              "        vertical-align: top;\n",
              "    }\n",
              "\n",
              "    .dataframe thead th {\n",
              "        text-align: right;\n",
              "    }\n",
              "</style>\n",
              "<table border=\"1\" class=\"dataframe\">\n",
              "  <thead>\n",
              "    <tr style=\"text-align: right;\">\n",
              "      <th></th>\n",
              "      <th>title</th>\n",
              "      <th>artist</th>\n",
              "      <th>score</th>\n",
              "      <th>content</th>\n",
              "    </tr>\n",
              "  </thead>\n",
              "  <tbody>\n",
              "    <tr>\n",
              "      <th>0</th>\n",
              "      <td>young forever</td>\n",
              "      <td>aberfeldy</td>\n",
              "      <td>3.4</td>\n",
              "      <td>Aberfeldy recorded their debut, Young Forever,...</td>\n",
              "    </tr>\n",
              "    <tr>\n",
              "      <th>1</th>\n",
              "      <td>pure tone audiometry</td>\n",
              "      <td>aarktica</td>\n",
              "      <td>7.4</td>\n",
              "      <td>Can there be any purpose behind a master's deg...</td>\n",
              "    </tr>\n",
              "    <tr>\n",
              "      <th>2</th>\n",
              "      <td>or you could just go through your whole life a...</td>\n",
              "      <td>aarktica</td>\n",
              "      <td>8.1</td>\n",
              "      <td>Funny what gets tagged for popular comebacks t...</td>\n",
              "    </tr>\n",
              "    <tr>\n",
              "      <th>3</th>\n",
              "      <td>bleeding light</td>\n",
              "      <td>aarktica</td>\n",
              "      <td>7.2</td>\n",
              "      <td>Aarktica didn't seem to know what he was on 20...</td>\n",
              "    </tr>\n",
              "    <tr>\n",
              "      <th>4</th>\n",
              "      <td>abcs</td>\n",
              "      <td>abcs</td>\n",
              "      <td>8.0</td>\n",
              "      <td>ABCS are all about unity.  Their bandname come...</td>\n",
              "    </tr>\n",
              "  </tbody>\n",
              "</table>\n",
              "</div>"
            ],
            "text/plain": [
              "                                               title  ...                                            content\n",
              "0                                      young forever  ...  Aberfeldy recorded their debut, Young Forever,...\n",
              "1                               pure tone audiometry  ...  Can there be any purpose behind a master's deg...\n",
              "2  or you could just go through your whole life a...  ...  Funny what gets tagged for popular comebacks t...\n",
              "3                                     bleeding light  ...  Aarktica didn't seem to know what he was on 20...\n",
              "4                                               abcs  ...  ABCS are all about unity.  Their bandname come...\n",
              "\n",
              "[5 rows x 4 columns]"
            ]
          },
          "metadata": {
            "tags": []
          },
          "execution_count": 18
        }
      ]
    },
    {
      "cell_type": "code",
      "metadata": {
        "colab": {
          "base_uri": "https://localhost:8080/"
        },
        "id": "cyZs3SrOhrQD",
        "outputId": "64cd3947-8df8-4237-9bd5-f56767bed9db"
      },
      "source": [
        "pitchfork_df.shape"
      ],
      "execution_count": null,
      "outputs": [
        {
          "output_type": "execute_result",
          "data": {
            "text/plain": [
              "(12425, 4)"
            ]
          },
          "metadata": {
            "tags": []
          },
          "execution_count": 61
        }
      ]
    },
    {
      "cell_type": "code",
      "metadata": {
        "colab": {
          "base_uri": "https://localhost:8080/",
          "height": 174
        },
        "id": "rwTDg2CpSgR4",
        "outputId": "830f2430-f412-4bb1-d462-8150ef7d26dc"
      },
      "source": [
        "pitchfork_df['content'][1]"
      ],
      "execution_count": null,
      "outputs": [
        {
          "output_type": "execute_result",
          "data": {
            "application/vnd.google.colaboratory.intrinsic+json": {
              "type": "string"
            },
            "text/plain": [
              "'Can there be any purpose behind a master\\'s degree in the psychology of music other than inevitably attempting\\n    to rule the minds of men through the manipulative powers of sound?  I submit that there can not; the job\\n    prospects from a degree like that are, like, what?  Music therapist?  I don\\'t think so.  The only career\\n    I can imagine it successfully leading to is Supervillian.\\n    \\n    It doesn\\'t take a superhuman intellect to see\\n    through the aims of Jon DeRosa\\'s education-- he\\'s the arch-mastermind behind the warm, homey folk of Pale\\n    Horse and Rider, and has guested on several other records, including Debridement, a recent Chairkickers\\n    release by Rivulets.  But none of his various projects are more dangerous, more insidious, than the icy calm\\n    of Aarktica\\'s dreamy ambiance.  In fact, his nefarious desire to lull listeners into a pliant, peaceful\\n    daydream (and then rob them, no doubt-- or worse!) could easily have succeeded with last year\\'s Or You\\n    Could Just Go Through Your Whole Life and Be Happy Anyway if it weren\\'t for the heroic actions of\\n    Pitchfo...  hey, wait.  That got a really positive review...  uuuhhhh.... now... that... I think about it,\\n    Pure Tone Audiometry is really... pretty...  oh, god, no...  if I don\\'t come back, tell\\n    Kathleen Hanna... I... love... her...\\n    \\n    Wow... where was I?\\n    \\n    I always get distracted by the lush, diffuse tones at the conclusion of \"Out to Sea\".  The track opens Pure\\n    Tone Audiometry with a delicate, Magnetic Fields-ish male/female vocal dynamic between DeRosa and\\n    Lorraine Lelis, as they sweetly harmonize over the romantic notions of being lost at sea and never again\\n    seeing home.  Before long, the voices become lost in the hazy ambiance completely, and the experimental\\n    pop is vaporized; only Lelis\\' seraphic call remains to try and navigate the listener through the droning\\n    fog.  Eventually, even the music itself vanishes.\\n    \\n    DeRosa\\'s arrangements are intensely careful and subdued, and never once does he allow his deliberately\\n    constructed tranquility to be disturbed.  The few real swells of emotion are thrilling, but momentary;\\n    such an austere, clinical tone is produced that it sometimes becomes stultifying, although I\\'m not sure\\n    emotive response is the aim here.  Aarktica is cold, pure, and almost inescapably tranquil.\\n    \\n    \"Snowstorm Ruins Birthday\" revisits the vapor that lingers from \"Out to Sea\".  There was music here,\\n    but now only traces remain, surrounding the listener in a wintry mist of component sounds, atomic gray\\n    noise, a touching (but still distant) pop melody dissolved into its basic elements.  Slowly, song structures\\n    reform; DeRosa\\'s wispy vocals return alongside Lelis\\' stunning accompaniment, triumphantly welling up from\\n    miles beneath the faintly reverberating electric and simple acoustic plucking in \"Ocean\"\\'s beautiful climax.\\n    \"Big Year\" explores the darker regions of Aarktica\\'s ethereal shoegazing like a slightly cheerier version\\n    of Projekt-based ambient artists Lycia; the listener is inexorably pulled deeper into the track\\'s echoing\\n    maze of acoustics, subtly ominous drones, and trembling strings.\\n    \\n    Until... total silence?\\n    \\n    No, wait.  Not total.  DeRosa slipped up; \"Water Wakes Dead Cells\" is a five-minute foray into\\n    ultra-minimalist drone, just a rhythmic pulse wrapped in a barely audible hum, before eventually bowing\\n    out completely.  The sheer vacancy of what amounts to little more than empty space is pretty unnecessary,\\n    and though it\\'s anything but jarring, it still stands out as a glaring hole in an otherwise pristine calm.\\n    As a breather before \"Williamsburg Counterpoint\", Pure Tone Audiometry\\'s twelve-minute centerpiece,\\n    \"Water Wakes Dead Cells\" is briefly very effective.  By the halfway point, though, the album\\'s hypnotic\\n    spell has been broken-- it served as an anticlimactic pause, but after a few minutes, it just seems like\\n    a good time to get a drink, to make my escape.\\n    \\n    Ah, who am I kidding?  Aarktica\\'s attempt to pacify and control his audience into a narcotized lull is good\\n    but not perfect.  Of course, it\\'s too late for me, but at least you\\'ve been warned.  Jon DeRosa is a madman!\\n    He wants to control the world with his beautiful, antiseptic melodies!  He\\'s nearly succeeded yet again!\\n    Tell the world before it\\'s too late!'"
            ]
          },
          "metadata": {
            "tags": []
          },
          "execution_count": 49
        }
      ]
    },
    {
      "cell_type": "code",
      "metadata": {
        "id": "PLB9niYxSiKU"
      },
      "source": [
        "pitchfork_df.to_csv('pitchfork.csv')\n",
        "\n",
        "files.download('pitchfork.csv')"
      ],
      "execution_count": null,
      "outputs": []
    },
    {
      "cell_type": "markdown",
      "metadata": {
        "id": "0manXdKQhA8p"
      },
      "source": [
        "## 데이터셋 합치기"
      ]
    },
    {
      "cell_type": "code",
      "metadata": {
        "id": "fSHZd5nIhHDC"
      },
      "source": [
        "# 아티스트명과 타이틀 내 ()를 없애고 소문자로 변환한다..\n",
        "info['artist_name'] = info['artist_name'].str.lower()\n",
        "info['release'] = info['release'].str.lower()\n",
        "info['artist_name'] = info['artist_name'].str.replace(r'\\([^()]*\\)', '')\n",
        "info['release'] = info['release'].str.replace(r'\\([^()]*\\)', '')"
      ],
      "execution_count": null,
      "outputs": []
    },
    {
      "cell_type": "code",
      "metadata": {
        "id": "9NL8PdYJh3EP"
      },
      "source": [
        "# artist_name -> artist컬럼명 변경\n",
        "info = info.rename(columns={'release' : 'album', 'artist_name' : 'artist'})"
      ],
      "execution_count": null,
      "outputs": []
    },
    {
      "cell_type": "code",
      "metadata": {
        "colab": {
          "base_uri": "https://localhost:8080/",
          "height": 419
        },
        "id": "uSy9VUgaiJZa",
        "outputId": "4eea132d-d611-47d5-f554-fcf6a10c887a"
      },
      "source": [
        "info"
      ],
      "execution_count": null,
      "outputs": [
        {
          "output_type": "execute_result",
          "data": {
            "text/html": [
              "<div>\n",
              "<style scoped>\n",
              "    .dataframe tbody tr th:only-of-type {\n",
              "        vertical-align: middle;\n",
              "    }\n",
              "\n",
              "    .dataframe tbody tr th {\n",
              "        vertical-align: top;\n",
              "    }\n",
              "\n",
              "    .dataframe thead th {\n",
              "        text-align: right;\n",
              "    }\n",
              "</style>\n",
              "<table border=\"1\" class=\"dataframe\">\n",
              "  <thead>\n",
              "    <tr style=\"text-align: right;\">\n",
              "      <th></th>\n",
              "      <th>title</th>\n",
              "      <th>song_id</th>\n",
              "      <th>artist</th>\n",
              "      <th>album</th>\n",
              "    </tr>\n",
              "  </thead>\n",
              "  <tbody>\n",
              "    <tr>\n",
              "      <th>0</th>\n",
              "      <td>Silent Night</td>\n",
              "      <td>SOQMMHC12AB0180CB8</td>\n",
              "      <td>faster pussy cat</td>\n",
              "      <td>monster ballads x-mas</td>\n",
              "    </tr>\n",
              "    <tr>\n",
              "      <th>1</th>\n",
              "      <td>Tanssi vaan</td>\n",
              "      <td>SOVFVAK12A8C1350D9</td>\n",
              "      <td>karkkiautomaatti</td>\n",
              "      <td>karkuteillä</td>\n",
              "    </tr>\n",
              "    <tr>\n",
              "      <th>2</th>\n",
              "      <td>No One Could Ever</td>\n",
              "      <td>SOGTUKN12AB017F4F1</td>\n",
              "      <td>hudson mohawke</td>\n",
              "      <td>butter</td>\n",
              "    </tr>\n",
              "    <tr>\n",
              "      <th>3</th>\n",
              "      <td>Si Vos Querés</td>\n",
              "      <td>SOBNYVR12A8C13558C</td>\n",
              "      <td>yerba brava</td>\n",
              "      <td>de culo</td>\n",
              "    </tr>\n",
              "    <tr>\n",
              "      <th>4</th>\n",
              "      <td>Tangle Of Aspens</td>\n",
              "      <td>SOHSBXH12A8C13B0DF</td>\n",
              "      <td>der mystic</td>\n",
              "      <td>rene ablaze presents winter sessions</td>\n",
              "    </tr>\n",
              "    <tr>\n",
              "      <th>...</th>\n",
              "      <td>...</td>\n",
              "      <td>...</td>\n",
              "      <td>...</td>\n",
              "      <td>...</td>\n",
              "    </tr>\n",
              "    <tr>\n",
              "      <th>999995</th>\n",
              "      <td>O Samba Da Vida</td>\n",
              "      <td>SOTXAME12AB018F136</td>\n",
              "      <td>kiko navarro</td>\n",
              "      <td>pacha v.i.p.</td>\n",
              "    </tr>\n",
              "    <tr>\n",
              "      <th>999996</th>\n",
              "      <td>Jago Chhadeo</td>\n",
              "      <td>SOXQYIQ12A8C137FBB</td>\n",
              "      <td>kuldeep manak</td>\n",
              "      <td>naale baba lassi pee gya</td>\n",
              "    </tr>\n",
              "    <tr>\n",
              "      <th>999997</th>\n",
              "      <td>Novemba</td>\n",
              "      <td>SOHODZI12A8C137BB3</td>\n",
              "      <td>gabriel le mar</td>\n",
              "      <td>dub_connected: electronic music</td>\n",
              "    </tr>\n",
              "    <tr>\n",
              "      <th>999998</th>\n",
              "      <td>Faraday</td>\n",
              "      <td>SOLXGOR12A81C21EB7</td>\n",
              "      <td>elude</td>\n",
              "      <td>the trance collection vol. 2</td>\n",
              "    </tr>\n",
              "    <tr>\n",
              "      <th>999999</th>\n",
              "      <td>Fernweh feat. Sektion Kuchikäschtli</td>\n",
              "      <td>SOWXJXQ12AB0189F43</td>\n",
              "      <td>texta</td>\n",
              "      <td>so oder so</td>\n",
              "    </tr>\n",
              "  </tbody>\n",
              "</table>\n",
              "<p>1000000 rows × 4 columns</p>\n",
              "</div>"
            ],
            "text/plain": [
              "                                      title  ...                                 album\n",
              "0                              Silent Night  ...                 monster ballads x-mas\n",
              "1                               Tanssi vaan  ...                           karkuteillä\n",
              "2                         No One Could Ever  ...                                butter\n",
              "3                             Si Vos Querés  ...                               de culo\n",
              "4                          Tangle Of Aspens  ...  rene ablaze presents winter sessions\n",
              "...                                     ...  ...                                   ...\n",
              "999995                      O Samba Da Vida  ...                          pacha v.i.p.\n",
              "999996                         Jago Chhadeo  ...              naale baba lassi pee gya\n",
              "999997                              Novemba  ...       dub_connected: electronic music\n",
              "999998                              Faraday  ...          the trance collection vol. 2\n",
              "999999  Fernweh feat. Sektion Kuchikäschtli  ...                            so oder so\n",
              "\n",
              "[1000000 rows x 4 columns]"
            ]
          },
          "metadata": {
            "tags": []
          },
          "execution_count": 22
        }
      ]
    },
    {
      "cell_type": "code",
      "metadata": {
        "colab": {
          "base_uri": "https://localhost:8080/",
          "height": 34
        },
        "id": "YMslndnLSlcP",
        "outputId": "2358bd99-ca55-4328-c8f9-c86b2b8756b4"
      },
      "source": [
        "info.to_csv('info.csv')\n",
        "\n",
        "files.download('info.csv')"
      ],
      "execution_count": null,
      "outputs": [
        {
          "output_type": "display_data",
          "data": {
            "application/javascript": [
              "\n",
              "    async function download(id, filename, size) {\n",
              "      if (!google.colab.kernel.accessAllowed) {\n",
              "        return;\n",
              "      }\n",
              "      const div = document.createElement('div');\n",
              "      const label = document.createElement('label');\n",
              "      label.textContent = `Downloading \"${filename}\": `;\n",
              "      div.appendChild(label);\n",
              "      const progress = document.createElement('progress');\n",
              "      progress.max = size;\n",
              "      div.appendChild(progress);\n",
              "      document.body.appendChild(div);\n",
              "\n",
              "      const buffers = [];\n",
              "      let downloaded = 0;\n",
              "\n",
              "      const channel = await google.colab.kernel.comms.open(id);\n",
              "      // Send a message to notify the kernel that we're ready.\n",
              "      channel.send({})\n",
              "\n",
              "      for await (const message of channel.messages) {\n",
              "        // Send a message to notify the kernel that we're ready.\n",
              "        channel.send({})\n",
              "        if (message.buffers) {\n",
              "          for (const buffer of message.buffers) {\n",
              "            buffers.push(buffer);\n",
              "            downloaded += buffer.byteLength;\n",
              "            progress.value = downloaded;\n",
              "          }\n",
              "        }\n",
              "      }\n",
              "      const blob = new Blob(buffers, {type: 'application/binary'});\n",
              "      const a = document.createElement('a');\n",
              "      a.href = window.URL.createObjectURL(blob);\n",
              "      a.download = filename;\n",
              "      div.appendChild(a);\n",
              "      a.click();\n",
              "      div.remove();\n",
              "    }\n",
              "  "
            ],
            "text/plain": [
              "<IPython.core.display.Javascript object>"
            ]
          },
          "metadata": {
            "tags": []
          }
        },
        {
          "output_type": "display_data",
          "data": {
            "application/javascript": [
              "download(\"download_7e3b7dde-d6a5-4eea-a1d3-e80b662742d9\", \"info.csv\", 79999294)"
            ],
            "text/plain": [
              "<IPython.core.display.Javascript object>"
            ]
          },
          "metadata": {
            "tags": []
          }
        }
      ]
    },
    {
      "cell_type": "code",
      "metadata": {
        "id": "rnl1qlQig4F-"
      },
      "source": [
        "pitchfork_df['artist'] = pitchfork_df['artist'].str.lower()\n",
        "pitchfork_df['title'] = pitchfork_df['title'].str.lower()\n",
        "pitchfork_df['artist'] = pitchfork_df['artist'].str.replace(r'\\([^()]*\\)', '')\n",
        "pitchfork_df['title'] = pitchfork_df['title'].str.replace(r'\\([^()]*\\)', '')"
      ],
      "execution_count": null,
      "outputs": []
    },
    {
      "cell_type": "code",
      "metadata": {
        "id": "pQfFtuoz771A"
      },
      "source": [
        "pitchfork_df = pitchfork_df.rename(columns={'title' : 'album'})"
      ],
      "execution_count": null,
      "outputs": []
    },
    {
      "cell_type": "code",
      "metadata": {
        "colab": {
          "base_uri": "https://localhost:8080/",
          "height": 419
        },
        "id": "Wl7SCapUiO3u",
        "outputId": "89428239-b72e-4db1-efc4-815bd4ec2d0d"
      },
      "source": [
        "pitchfork_df"
      ],
      "execution_count": null,
      "outputs": [
        {
          "output_type": "execute_result",
          "data": {
            "text/html": [
              "<div>\n",
              "<style scoped>\n",
              "    .dataframe tbody tr th:only-of-type {\n",
              "        vertical-align: middle;\n",
              "    }\n",
              "\n",
              "    .dataframe tbody tr th {\n",
              "        vertical-align: top;\n",
              "    }\n",
              "\n",
              "    .dataframe thead th {\n",
              "        text-align: right;\n",
              "    }\n",
              "</style>\n",
              "<table border=\"1\" class=\"dataframe\">\n",
              "  <thead>\n",
              "    <tr style=\"text-align: right;\">\n",
              "      <th></th>\n",
              "      <th>album</th>\n",
              "      <th>artist</th>\n",
              "      <th>score</th>\n",
              "      <th>content</th>\n",
              "    </tr>\n",
              "  </thead>\n",
              "  <tbody>\n",
              "    <tr>\n",
              "      <th>0</th>\n",
              "      <td>young forever</td>\n",
              "      <td>aberfeldy</td>\n",
              "      <td>3.4</td>\n",
              "      <td>Aberfeldy recorded their debut, Young Forever,...</td>\n",
              "    </tr>\n",
              "    <tr>\n",
              "      <th>1</th>\n",
              "      <td>pure tone audiometry</td>\n",
              "      <td>aarktica</td>\n",
              "      <td>7.4</td>\n",
              "      <td>Can there be any purpose behind a master's deg...</td>\n",
              "    </tr>\n",
              "    <tr>\n",
              "      <th>2</th>\n",
              "      <td>or you could just go through your whole life a...</td>\n",
              "      <td>aarktica</td>\n",
              "      <td>8.1</td>\n",
              "      <td>Funny what gets tagged for popular comebacks t...</td>\n",
              "    </tr>\n",
              "    <tr>\n",
              "      <th>3</th>\n",
              "      <td>bleeding light</td>\n",
              "      <td>aarktica</td>\n",
              "      <td>7.2</td>\n",
              "      <td>Aarktica didn't seem to know what he was on 20...</td>\n",
              "    </tr>\n",
              "    <tr>\n",
              "      <th>4</th>\n",
              "      <td>abcs</td>\n",
              "      <td>abcs</td>\n",
              "      <td>8.0</td>\n",
              "      <td>ABCS are all about unity.  Their bandname come...</td>\n",
              "    </tr>\n",
              "    <tr>\n",
              "      <th>...</th>\n",
              "      <td>...</td>\n",
              "      <td>...</td>\n",
              "      <td>...</td>\n",
              "      <td>...</td>\n",
              "    </tr>\n",
              "    <tr>\n",
              "      <th>12420</th>\n",
              "      <td>blue slide park</td>\n",
              "      <td>mac miller</td>\n",
              "      <td>1.0</td>\n",
              "      <td>At the 2000 VMAs, Eminem's performance of \"The...</td>\n",
              "    </tr>\n",
              "    <tr>\n",
              "      <th>12421</th>\n",
              "      <td>emika</td>\n",
              "      <td>emika</td>\n",
              "      <td>7.4</td>\n",
              "      <td>The idea of a British-born, blue-eyed Berlinit...</td>\n",
              "    </tr>\n",
              "    <tr>\n",
              "      <th>12422</th>\n",
              "      <td>hdcd box set</td>\n",
              "      <td>this mortal coil</td>\n",
              "      <td>9.0</td>\n",
              "      <td>For a while in the 1980s, and to some degree i...</td>\n",
              "    </tr>\n",
              "    <tr>\n",
              "      <th>12423</th>\n",
              "      <td>darkside ep</td>\n",
              "      <td>darkside</td>\n",
              "      <td>8.0</td>\n",
              "      <td>Nicolas Jaar creates slow, strange, cloistered...</td>\n",
              "    </tr>\n",
              "    <tr>\n",
              "      <th>12424</th>\n",
              "      <td>z</td>\n",
              "      <td>my morning jacket</td>\n",
              "      <td>7.6</td>\n",
              "      <td>Here's an album that begs for vinyl, although ...</td>\n",
              "    </tr>\n",
              "  </tbody>\n",
              "</table>\n",
              "<p>12425 rows × 4 columns</p>\n",
              "</div>"
            ],
            "text/plain": [
              "                                                   album  ...                                            content\n",
              "0                                          young forever  ...  Aberfeldy recorded their debut, Young Forever,...\n",
              "1                                   pure tone audiometry  ...  Can there be any purpose behind a master's deg...\n",
              "2      or you could just go through your whole life a...  ...  Funny what gets tagged for popular comebacks t...\n",
              "3                                         bleeding light  ...  Aarktica didn't seem to know what he was on 20...\n",
              "4                                                   abcs  ...  ABCS are all about unity.  Their bandname come...\n",
              "...                                                  ...  ...                                                ...\n",
              "12420                                    blue slide park  ...  At the 2000 VMAs, Eminem's performance of \"The...\n",
              "12421                                              emika  ...  The idea of a British-born, blue-eyed Berlinit...\n",
              "12422                                       hdcd box set  ...  For a while in the 1980s, and to some degree i...\n",
              "12423                                        darkside ep  ...  Nicolas Jaar creates slow, strange, cloistered...\n",
              "12424                                                  z  ...  Here's an album that begs for vinyl, although ...\n",
              "\n",
              "[12425 rows x 4 columns]"
            ]
          },
          "metadata": {
            "tags": []
          },
          "execution_count": 33
        }
      ]
    },
    {
      "cell_type": "code",
      "metadata": {
        "id": "kYmcwldghQyh"
      },
      "source": [
        "# 리뷰데이터와 곡메타데이터를 아티스트명과 제목으로 합친다.\n",
        "merged_df = pd.merge(pitchfork_df, info, on=['artist', 'album'], how='inner')"
      ],
      "execution_count": null,
      "outputs": []
    },
    {
      "cell_type": "code",
      "metadata": {
        "colab": {
          "base_uri": "https://localhost:8080/",
          "height": 419
        },
        "id": "6kBxJqXihhCq",
        "outputId": "b7507d39-1718-4919-c770-9107181449ea"
      },
      "source": [
        "merged_df"
      ],
      "execution_count": null,
      "outputs": [
        {
          "output_type": "execute_result",
          "data": {
            "text/html": [
              "<div>\n",
              "<style scoped>\n",
              "    .dataframe tbody tr th:only-of-type {\n",
              "        vertical-align: middle;\n",
              "    }\n",
              "\n",
              "    .dataframe tbody tr th {\n",
              "        vertical-align: top;\n",
              "    }\n",
              "\n",
              "    .dataframe thead th {\n",
              "        text-align: right;\n",
              "    }\n",
              "</style>\n",
              "<table border=\"1\" class=\"dataframe\">\n",
              "  <thead>\n",
              "    <tr style=\"text-align: right;\">\n",
              "      <th></th>\n",
              "      <th>album</th>\n",
              "      <th>artist</th>\n",
              "      <th>score</th>\n",
              "      <th>content</th>\n",
              "      <th>title</th>\n",
              "      <th>song_id</th>\n",
              "    </tr>\n",
              "  </thead>\n",
              "  <tbody>\n",
              "    <tr>\n",
              "      <th>0</th>\n",
              "      <td>young forever</td>\n",
              "      <td>aberfeldy</td>\n",
              "      <td>3.4</td>\n",
              "      <td>Aberfeldy recorded their debut, Young Forever,...</td>\n",
              "      <td>Vegetarian Restaurant</td>\n",
              "      <td>SODDEDU12A8C140709</td>\n",
              "    </tr>\n",
              "    <tr>\n",
              "      <th>1</th>\n",
              "      <td>young forever</td>\n",
              "      <td>aberfeldy</td>\n",
              "      <td>3.4</td>\n",
              "      <td>Aberfeldy recorded their debut, Young Forever,...</td>\n",
              "      <td>Surly Girl</td>\n",
              "      <td>SOZIXKT12A8C14071D</td>\n",
              "    </tr>\n",
              "    <tr>\n",
              "      <th>2</th>\n",
              "      <td>young forever</td>\n",
              "      <td>aberfeldy</td>\n",
              "      <td>3.4</td>\n",
              "      <td>Aberfeldy recorded their debut, Young Forever,...</td>\n",
              "      <td>Heliopolis By Night</td>\n",
              "      <td>SOLWNEG12A58A7B67B</td>\n",
              "    </tr>\n",
              "    <tr>\n",
              "      <th>3</th>\n",
              "      <td>young forever</td>\n",
              "      <td>aberfeldy</td>\n",
              "      <td>3.4</td>\n",
              "      <td>Aberfeldy recorded their debut, Young Forever,...</td>\n",
              "      <td>Something I Must Tell You</td>\n",
              "      <td>SOAHZSF12A58A7662E</td>\n",
              "    </tr>\n",
              "    <tr>\n",
              "      <th>4</th>\n",
              "      <td>young forever</td>\n",
              "      <td>aberfeldy</td>\n",
              "      <td>3.4</td>\n",
              "      <td>Aberfeldy recorded their debut, Young Forever,...</td>\n",
              "      <td>Slow Me Down</td>\n",
              "      <td>SOPHUOP12A8C1406F7</td>\n",
              "    </tr>\n",
              "    <tr>\n",
              "      <th>...</th>\n",
              "      <td>...</td>\n",
              "      <td>...</td>\n",
              "      <td>...</td>\n",
              "      <td>...</td>\n",
              "      <td>...</td>\n",
              "      <td>...</td>\n",
              "    </tr>\n",
              "    <tr>\n",
              "      <th>31784</th>\n",
              "      <td>z</td>\n",
              "      <td>my morning jacket</td>\n",
              "      <td>7.6</td>\n",
              "      <td>Here's an album that begs for vinyl, although ...</td>\n",
              "      <td>Gideon</td>\n",
              "      <td>SOTXVAO12D021935FC</td>\n",
              "    </tr>\n",
              "    <tr>\n",
              "      <th>31785</th>\n",
              "      <td>z</td>\n",
              "      <td>my morning jacket</td>\n",
              "      <td>7.6</td>\n",
              "      <td>Here's an album that begs for vinyl, although ...</td>\n",
              "      <td>Off the Record</td>\n",
              "      <td>SOEXLGB12D021923A6</td>\n",
              "    </tr>\n",
              "    <tr>\n",
              "      <th>31786</th>\n",
              "      <td>z</td>\n",
              "      <td>my morning jacket</td>\n",
              "      <td>7.6</td>\n",
              "      <td>Here's an album that begs for vinyl, although ...</td>\n",
              "      <td>Knot Comes Loose</td>\n",
              "      <td>SOUCXKA12AB0189194</td>\n",
              "    </tr>\n",
              "    <tr>\n",
              "      <th>31787</th>\n",
              "      <td>z</td>\n",
              "      <td>my morning jacket</td>\n",
              "      <td>7.6</td>\n",
              "      <td>Here's an album that begs for vinyl, although ...</td>\n",
              "      <td>It Beats 4 U</td>\n",
              "      <td>SOGAFJB12D021923BF</td>\n",
              "    </tr>\n",
              "    <tr>\n",
              "      <th>31788</th>\n",
              "      <td>z</td>\n",
              "      <td>my morning jacket</td>\n",
              "      <td>7.6</td>\n",
              "      <td>Here's an album that begs for vinyl, although ...</td>\n",
              "      <td>Lay Low</td>\n",
              "      <td>SOEGZNZ12D021B0C55</td>\n",
              "    </tr>\n",
              "  </tbody>\n",
              "</table>\n",
              "<p>31789 rows × 6 columns</p>\n",
              "</div>"
            ],
            "text/plain": [
              "               album  ...             song_id\n",
              "0      young forever  ...  SODDEDU12A8C140709\n",
              "1      young forever  ...  SOZIXKT12A8C14071D\n",
              "2      young forever  ...  SOLWNEG12A58A7B67B\n",
              "3      young forever  ...  SOAHZSF12A58A7662E\n",
              "4      young forever  ...  SOPHUOP12A8C1406F7\n",
              "...              ...  ...                 ...\n",
              "31784              z  ...  SOTXVAO12D021935FC\n",
              "31785              z  ...  SOEXLGB12D021923A6\n",
              "31786              z  ...  SOUCXKA12AB0189194\n",
              "31787              z  ...  SOGAFJB12D021923BF\n",
              "31788              z  ...  SOEGZNZ12D021B0C55\n",
              "\n",
              "[31789 rows x 6 columns]"
            ]
          },
          "metadata": {
            "tags": []
          },
          "execution_count": 35
        }
      ]
    },
    {
      "cell_type": "code",
      "metadata": {
        "id": "wCcBUM6EhgsS"
      },
      "source": [
        "merged_df.to_csv('merged_df.csv')\n",
        "\n",
        "files.download('merged_df.csv')"
      ],
      "execution_count": null,
      "outputs": []
    },
    {
      "cell_type": "markdown",
      "metadata": {
        "id": "roDRne2vVfok"
      },
      "source": [
        "# 텍스트데이터 전처리"
      ]
    },
    {
      "cell_type": "markdown",
      "metadata": {
        "id": "EthM98LWVj3W"
      },
      "source": [
        "## 데이터 불러오기"
      ]
    },
    {
      "cell_type": "code",
      "metadata": {
        "id": "VTHSfUw-VieC"
      },
      "source": [
        "filepath = '/content/drive/MyDrive/capstone project 1/pitchfork-2.csv'\n",
        "\n",
        "review = pd.read_csv(filepath)"
      ],
      "execution_count": null,
      "outputs": []
    },
    {
      "cell_type": "code",
      "metadata": {
        "id": "vCJa3BvVVnxb"
      },
      "source": [
        "filepath = '/content/drive/MyDrive/capstone project 1/user_data-2.csv'\n",
        "\n",
        "playlist = pd.read_csv(filepath)"
      ],
      "execution_count": null,
      "outputs": []
    },
    {
      "cell_type": "code",
      "metadata": {
        "id": "6XryfmExTatH"
      },
      "source": [
        "filepath = '/content/drive/MyDrive/capstone project 1/info-2.csv'\n",
        "\n",
        "info = pd.read_csv(filepath)"
      ],
      "execution_count": null,
      "outputs": []
    },
    {
      "cell_type": "code",
      "metadata": {
        "id": "JSBaUWnuBKKq"
      },
      "source": [
        "filepath = '/content/drive/MyDrive/capstone project 1/merged_df.csv'\n",
        "\n",
        "merged_df = pd.read_csv(filepath)"
      ],
      "execution_count": null,
      "outputs": []
    },
    {
      "cell_type": "code",
      "metadata": {
        "id": "zy0aUOhWB-OQ"
      },
      "source": [
        "filepath = '/content/drive/MyDrive/capstone project 1/predict_k.csv'\n",
        "\n",
        "predict_artist = pd.read_csv(filepath)"
      ],
      "execution_count": null,
      "outputs": []
    },
    {
      "cell_type": "code",
      "metadata": {
        "id": "pZwq9G4vQjpY"
      },
      "source": [
        "filepath = '/content/drive/MyDrive/capstone project 1/selected_spotify.csv'\n",
        "\n",
        "spotify = pd.read_csv(filepath)"
      ],
      "execution_count": null,
      "outputs": []
    },
    {
      "cell_type": "code",
      "metadata": {
        "colab": {
          "base_uri": "https://localhost:8080/",
          "height": 221
        },
        "id": "G7JTTKSA8npR",
        "outputId": "81d8799a-d0a4-4cab-bcb2-6dde66123dfb"
      },
      "source": [
        "print(playlist.shape)\n",
        "playlist.head()"
      ],
      "execution_count": null,
      "outputs": [
        {
          "output_type": "stream",
          "text": [
            "(48373586, 4)\n"
          ],
          "name": "stdout"
        },
        {
          "output_type": "execute_result",
          "data": {
            "text/html": [
              "<div>\n",
              "<style scoped>\n",
              "    .dataframe tbody tr th:only-of-type {\n",
              "        vertical-align: middle;\n",
              "    }\n",
              "\n",
              "    .dataframe tbody tr th {\n",
              "        vertical-align: top;\n",
              "    }\n",
              "\n",
              "    .dataframe thead th {\n",
              "        text-align: right;\n",
              "    }\n",
              "</style>\n",
              "<table border=\"1\" class=\"dataframe\">\n",
              "  <thead>\n",
              "    <tr style=\"text-align: right;\">\n",
              "      <th></th>\n",
              "      <th>Unnamed: 0</th>\n",
              "      <th>user_id</th>\n",
              "      <th>song_id</th>\n",
              "      <th>play_counts</th>\n",
              "    </tr>\n",
              "  </thead>\n",
              "  <tbody>\n",
              "    <tr>\n",
              "      <th>0</th>\n",
              "      <td>31292919</td>\n",
              "      <td>fffff9534445f481b6ab91c345500083d2ce4df1</td>\n",
              "      <td>SOFYCAM12A58A7A45B</td>\n",
              "      <td>1</td>\n",
              "    </tr>\n",
              "    <tr>\n",
              "      <th>1</th>\n",
              "      <td>31292934</td>\n",
              "      <td>fffff9534445f481b6ab91c345500083d2ce4df1</td>\n",
              "      <td>SOOOWXV12A6D4F4763</td>\n",
              "      <td>1</td>\n",
              "    </tr>\n",
              "    <tr>\n",
              "      <th>2</th>\n",
              "      <td>31292932</td>\n",
              "      <td>fffff9534445f481b6ab91c345500083d2ce4df1</td>\n",
              "      <td>SONYEOJ12A8C142E86</td>\n",
              "      <td>32</td>\n",
              "    </tr>\n",
              "    <tr>\n",
              "      <th>3</th>\n",
              "      <td>31292931</td>\n",
              "      <td>fffff9534445f481b6ab91c345500083d2ce4df1</td>\n",
              "      <td>SONHWUN12AC468C014</td>\n",
              "      <td>1</td>\n",
              "    </tr>\n",
              "    <tr>\n",
              "      <th>4</th>\n",
              "      <td>31292930</td>\n",
              "      <td>fffff9534445f481b6ab91c345500083d2ce4df1</td>\n",
              "      <td>SOMCMKG12A8C1347BF</td>\n",
              "      <td>56</td>\n",
              "    </tr>\n",
              "  </tbody>\n",
              "</table>\n",
              "</div>"
            ],
            "text/plain": [
              "   Unnamed: 0  ... play_counts\n",
              "0    31292919  ...           1\n",
              "1    31292934  ...           1\n",
              "2    31292932  ...          32\n",
              "3    31292931  ...           1\n",
              "4    31292930  ...          56\n",
              "\n",
              "[5 rows x 4 columns]"
            ]
          },
          "metadata": {
            "tags": []
          },
          "execution_count": 5
        }
      ]
    },
    {
      "cell_type": "code",
      "metadata": {
        "colab": {
          "base_uri": "https://localhost:8080/"
        },
        "id": "7Kmh2_RY1m_K",
        "outputId": "6b277bfe-83ba-4a29-8273-7a573e53e89a"
      },
      "source": [
        "playlist['play_counts'].describe()"
      ],
      "execution_count": null,
      "outputs": [
        {
          "output_type": "execute_result",
          "data": {
            "text/plain": [
              "count    4.837359e+07\n",
              "mean     2.866859e+00\n",
              "std      6.437725e+00\n",
              "min      1.000000e+00\n",
              "25%      1.000000e+00\n",
              "50%      1.000000e+00\n",
              "75%      3.000000e+00\n",
              "max      9.667000e+03\n",
              "Name: play_counts, dtype: float64"
            ]
          },
          "metadata": {
            "tags": []
          },
          "execution_count": 21
        }
      ]
    },
    {
      "cell_type": "markdown",
      "metadata": {
        "id": "S2KVkKzjOB30"
      },
      "source": [
        "## 전처리"
      ]
    },
    {
      "cell_type": "code",
      "metadata": {
        "id": "aKCFAfYcr25_"
      },
      "source": [
        "playlist = playlist.drop(columns=['Unnamed: 0'], axis=1)"
      ],
      "execution_count": null,
      "outputs": []
    },
    {
      "cell_type": "markdown",
      "metadata": {
        "id": "p9HDsZiDOG19"
      },
      "source": [
        "### 재생횟수 binning"
      ]
    },
    {
      "cell_type": "code",
      "metadata": {
        "id": "PT7OJjLxseX6"
      },
      "source": [
        "bins = [0, 10, 20, 30, 40, 50, 100]\n",
        "labels = [1,2,3,4,5,6]\n",
        "playlist['binned'] = pd.cut(playlist['play_counts'], bins=bins, labels = labels)"
      ],
      "execution_count": null,
      "outputs": []
    },
    {
      "cell_type": "code",
      "metadata": {
        "colab": {
          "base_uri": "https://localhost:8080/",
          "height": 204
        },
        "id": "gdX_xoHetC3d",
        "outputId": "0fbc5cfa-2efc-4af0-8f98-967663da0f49"
      },
      "source": [
        "playlist.head()"
      ],
      "execution_count": null,
      "outputs": [
        {
          "output_type": "execute_result",
          "data": {
            "text/html": [
              "<div>\n",
              "<style scoped>\n",
              "    .dataframe tbody tr th:only-of-type {\n",
              "        vertical-align: middle;\n",
              "    }\n",
              "\n",
              "    .dataframe tbody tr th {\n",
              "        vertical-align: top;\n",
              "    }\n",
              "\n",
              "    .dataframe thead th {\n",
              "        text-align: right;\n",
              "    }\n",
              "</style>\n",
              "<table border=\"1\" class=\"dataframe\">\n",
              "  <thead>\n",
              "    <tr style=\"text-align: right;\">\n",
              "      <th></th>\n",
              "      <th>user_id</th>\n",
              "      <th>song_id</th>\n",
              "      <th>play_counts</th>\n",
              "      <th>binned</th>\n",
              "    </tr>\n",
              "  </thead>\n",
              "  <tbody>\n",
              "    <tr>\n",
              "      <th>0</th>\n",
              "      <td>fffff9534445f481b6ab91c345500083d2ce4df1</td>\n",
              "      <td>SOFYCAM12A58A7A45B</td>\n",
              "      <td>1</td>\n",
              "      <td>1</td>\n",
              "    </tr>\n",
              "    <tr>\n",
              "      <th>1</th>\n",
              "      <td>fffff9534445f481b6ab91c345500083d2ce4df1</td>\n",
              "      <td>SOOOWXV12A6D4F4763</td>\n",
              "      <td>1</td>\n",
              "      <td>1</td>\n",
              "    </tr>\n",
              "    <tr>\n",
              "      <th>2</th>\n",
              "      <td>fffff9534445f481b6ab91c345500083d2ce4df1</td>\n",
              "      <td>SONYEOJ12A8C142E86</td>\n",
              "      <td>32</td>\n",
              "      <td>4</td>\n",
              "    </tr>\n",
              "    <tr>\n",
              "      <th>3</th>\n",
              "      <td>fffff9534445f481b6ab91c345500083d2ce4df1</td>\n",
              "      <td>SONHWUN12AC468C014</td>\n",
              "      <td>1</td>\n",
              "      <td>1</td>\n",
              "    </tr>\n",
              "    <tr>\n",
              "      <th>4</th>\n",
              "      <td>fffff9534445f481b6ab91c345500083d2ce4df1</td>\n",
              "      <td>SOMCMKG12A8C1347BF</td>\n",
              "      <td>56</td>\n",
              "      <td>6</td>\n",
              "    </tr>\n",
              "  </tbody>\n",
              "</table>\n",
              "</div>"
            ],
            "text/plain": [
              "                                    user_id  ... binned\n",
              "0  fffff9534445f481b6ab91c345500083d2ce4df1  ...      1\n",
              "1  fffff9534445f481b6ab91c345500083d2ce4df1  ...      1\n",
              "2  fffff9534445f481b6ab91c345500083d2ce4df1  ...      4\n",
              "3  fffff9534445f481b6ab91c345500083d2ce4df1  ...      1\n",
              "4  fffff9534445f481b6ab91c345500083d2ce4df1  ...      6\n",
              "\n",
              "[5 rows x 4 columns]"
            ]
          },
          "metadata": {
            "tags": []
          },
          "execution_count": 25
        }
      ]
    },
    {
      "cell_type": "code",
      "metadata": {
        "id": "h6m5h-yxtQRu"
      },
      "source": [
        "playlist = playlist.drop(['play_counts'], axis=1)"
      ],
      "execution_count": null,
      "outputs": []
    },
    {
      "cell_type": "code",
      "metadata": {
        "id": "a8v1KaUVuLSa"
      },
      "source": [
        "playlist = playlist[:50000]"
      ],
      "execution_count": null,
      "outputs": []
    },
    {
      "cell_type": "code",
      "metadata": {
        "id": "D8yqezJU0Qm9",
        "colab": {
          "base_uri": "https://localhost:8080/",
          "height": 204
        },
        "outputId": "38c790e3-5b22-4f49-b0c9-d3dbcdaa7699"
      },
      "source": [
        "playlist.head()"
      ],
      "execution_count": null,
      "outputs": [
        {
          "output_type": "execute_result",
          "data": {
            "text/html": [
              "<div>\n",
              "<style scoped>\n",
              "    .dataframe tbody tr th:only-of-type {\n",
              "        vertical-align: middle;\n",
              "    }\n",
              "\n",
              "    .dataframe tbody tr th {\n",
              "        vertical-align: top;\n",
              "    }\n",
              "\n",
              "    .dataframe thead th {\n",
              "        text-align: right;\n",
              "    }\n",
              "</style>\n",
              "<table border=\"1\" class=\"dataframe\">\n",
              "  <thead>\n",
              "    <tr style=\"text-align: right;\">\n",
              "      <th></th>\n",
              "      <th>user_id</th>\n",
              "      <th>song_id</th>\n",
              "      <th>binned</th>\n",
              "    </tr>\n",
              "  </thead>\n",
              "  <tbody>\n",
              "    <tr>\n",
              "      <th>0</th>\n",
              "      <td>fffff9534445f481b6ab91c345500083d2ce4df1</td>\n",
              "      <td>SOFYCAM12A58A7A45B</td>\n",
              "      <td>1</td>\n",
              "    </tr>\n",
              "    <tr>\n",
              "      <th>1</th>\n",
              "      <td>fffff9534445f481b6ab91c345500083d2ce4df1</td>\n",
              "      <td>SOOOWXV12A6D4F4763</td>\n",
              "      <td>1</td>\n",
              "    </tr>\n",
              "    <tr>\n",
              "      <th>2</th>\n",
              "      <td>fffff9534445f481b6ab91c345500083d2ce4df1</td>\n",
              "      <td>SONYEOJ12A8C142E86</td>\n",
              "      <td>4</td>\n",
              "    </tr>\n",
              "    <tr>\n",
              "      <th>3</th>\n",
              "      <td>fffff9534445f481b6ab91c345500083d2ce4df1</td>\n",
              "      <td>SONHWUN12AC468C014</td>\n",
              "      <td>1</td>\n",
              "    </tr>\n",
              "    <tr>\n",
              "      <th>4</th>\n",
              "      <td>fffff9534445f481b6ab91c345500083d2ce4df1</td>\n",
              "      <td>SOMCMKG12A8C1347BF</td>\n",
              "      <td>6</td>\n",
              "    </tr>\n",
              "  </tbody>\n",
              "</table>\n",
              "</div>"
            ],
            "text/plain": [
              "                                    user_id             song_id binned\n",
              "0  fffff9534445f481b6ab91c345500083d2ce4df1  SOFYCAM12A58A7A45B      1\n",
              "1  fffff9534445f481b6ab91c345500083d2ce4df1  SOOOWXV12A6D4F4763      1\n",
              "2  fffff9534445f481b6ab91c345500083d2ce4df1  SONYEOJ12A8C142E86      4\n",
              "3  fffff9534445f481b6ab91c345500083d2ce4df1  SONHWUN12AC468C014      1\n",
              "4  fffff9534445f481b6ab91c345500083d2ce4df1  SOMCMKG12A8C1347BF      6"
            ]
          },
          "metadata": {
            "tags": []
          },
          "execution_count": 73
        }
      ]
    },
    {
      "cell_type": "code",
      "metadata": {
        "id": "Po1Jg4Xt0YPB"
      },
      "source": [
        "playlist.to_csv('playlist.csv')\n",
        "\n",
        "files.download('playlist.csv')"
      ],
      "execution_count": null,
      "outputs": []
    },
    {
      "cell_type": "code",
      "metadata": {
        "id": "HSF-MMuf1ajf"
      },
      "source": [
        "filepath = '/content/drive/MyDrive/capstone project 1/playlist.csv'\n",
        "\n",
        "playlist = pd.read_csv(filepath)"
      ],
      "execution_count": null,
      "outputs": []
    },
    {
      "cell_type": "code",
      "metadata": {
        "colab": {
          "base_uri": "https://localhost:8080/",
          "height": 419
        },
        "id": "j8PH0hzv2R_K",
        "outputId": "148690aa-db94-4a92-9bb0-14d1d46d393d"
      },
      "source": [
        "playlist"
      ],
      "execution_count": null,
      "outputs": [
        {
          "output_type": "execute_result",
          "data": {
            "text/html": [
              "<div>\n",
              "<style scoped>\n",
              "    .dataframe tbody tr th:only-of-type {\n",
              "        vertical-align: middle;\n",
              "    }\n",
              "\n",
              "    .dataframe tbody tr th {\n",
              "        vertical-align: top;\n",
              "    }\n",
              "\n",
              "    .dataframe thead th {\n",
              "        text-align: right;\n",
              "    }\n",
              "</style>\n",
              "<table border=\"1\" class=\"dataframe\">\n",
              "  <thead>\n",
              "    <tr style=\"text-align: right;\">\n",
              "      <th></th>\n",
              "      <th>Unnamed: 0</th>\n",
              "      <th>user_id</th>\n",
              "      <th>song_id</th>\n",
              "      <th>binned</th>\n",
              "    </tr>\n",
              "  </thead>\n",
              "  <tbody>\n",
              "    <tr>\n",
              "      <th>0</th>\n",
              "      <td>0</td>\n",
              "      <td>fffff9534445f481b6ab91c345500083d2ce4df1</td>\n",
              "      <td>SOFYCAM12A58A7A45B</td>\n",
              "      <td>1.0</td>\n",
              "    </tr>\n",
              "    <tr>\n",
              "      <th>1</th>\n",
              "      <td>1</td>\n",
              "      <td>fffff9534445f481b6ab91c345500083d2ce4df1</td>\n",
              "      <td>SOOOWXV12A6D4F4763</td>\n",
              "      <td>1.0</td>\n",
              "    </tr>\n",
              "    <tr>\n",
              "      <th>2</th>\n",
              "      <td>2</td>\n",
              "      <td>fffff9534445f481b6ab91c345500083d2ce4df1</td>\n",
              "      <td>SONYEOJ12A8C142E86</td>\n",
              "      <td>4.0</td>\n",
              "    </tr>\n",
              "    <tr>\n",
              "      <th>3</th>\n",
              "      <td>3</td>\n",
              "      <td>fffff9534445f481b6ab91c345500083d2ce4df1</td>\n",
              "      <td>SONHWUN12AC468C014</td>\n",
              "      <td>1.0</td>\n",
              "    </tr>\n",
              "    <tr>\n",
              "      <th>4</th>\n",
              "      <td>4</td>\n",
              "      <td>fffff9534445f481b6ab91c345500083d2ce4df1</td>\n",
              "      <td>SOMCMKG12A8C1347BF</td>\n",
              "      <td>6.0</td>\n",
              "    </tr>\n",
              "    <tr>\n",
              "      <th>...</th>\n",
              "      <td>...</td>\n",
              "      <td>...</td>\n",
              "      <td>...</td>\n",
              "      <td>...</td>\n",
              "    </tr>\n",
              "    <tr>\n",
              "      <th>49995</th>\n",
              "      <td>49995</td>\n",
              "      <td>ffc1b96de28a52f8161cb1a3a119222c319ece93</td>\n",
              "      <td>SOGNELN12A67ADA796</td>\n",
              "      <td>1.0</td>\n",
              "    </tr>\n",
              "    <tr>\n",
              "      <th>49996</th>\n",
              "      <td>49996</td>\n",
              "      <td>ffc1b96de28a52f8161cb1a3a119222c319ece93</td>\n",
              "      <td>SOGLBDH12AB018847B</td>\n",
              "      <td>1.0</td>\n",
              "    </tr>\n",
              "    <tr>\n",
              "      <th>49997</th>\n",
              "      <td>49997</td>\n",
              "      <td>ffc1b96de28a52f8161cb1a3a119222c319ece93</td>\n",
              "      <td>SOGKKXI12AF72A319A</td>\n",
              "      <td>1.0</td>\n",
              "    </tr>\n",
              "    <tr>\n",
              "      <th>49998</th>\n",
              "      <td>49998</td>\n",
              "      <td>ffc1b96de28a52f8161cb1a3a119222c319ece93</td>\n",
              "      <td>SODTWKY12AF729FE39</td>\n",
              "      <td>1.0</td>\n",
              "    </tr>\n",
              "    <tr>\n",
              "      <th>49999</th>\n",
              "      <td>49999</td>\n",
              "      <td>ffc1b96de28a52f8161cb1a3a119222c319ece93</td>\n",
              "      <td>SODUDJI12A8C141513</td>\n",
              "      <td>1.0</td>\n",
              "    </tr>\n",
              "  </tbody>\n",
              "</table>\n",
              "<p>50000 rows × 4 columns</p>\n",
              "</div>"
            ],
            "text/plain": [
              "       Unnamed: 0  ... binned\n",
              "0               0  ...    1.0\n",
              "1               1  ...    1.0\n",
              "2               2  ...    4.0\n",
              "3               3  ...    1.0\n",
              "4               4  ...    6.0\n",
              "...           ...  ...    ...\n",
              "49995       49995  ...    1.0\n",
              "49996       49996  ...    1.0\n",
              "49997       49997  ...    1.0\n",
              "49998       49998  ...    1.0\n",
              "49999       49999  ...    1.0\n",
              "\n",
              "[50000 rows x 4 columns]"
            ]
          },
          "metadata": {
            "tags": []
          },
          "execution_count": 6
        }
      ]
    },
    {
      "cell_type": "code",
      "metadata": {
        "id": "t0FLXcfb2Zkt"
      },
      "source": [
        "playlist = playlist.drop(columns=['Unnamed: 0'], axis=1)"
      ],
      "execution_count": null,
      "outputs": []
    },
    {
      "cell_type": "code",
      "metadata": {
        "colab": {
          "base_uri": "https://localhost:8080/",
          "height": 419
        },
        "id": "P3ZA0kKu4Z9y",
        "outputId": "9f70c497-d978-4d8c-dd37-0df2bd13d31a"
      },
      "source": [
        "playlist"
      ],
      "execution_count": null,
      "outputs": [
        {
          "output_type": "execute_result",
          "data": {
            "text/html": [
              "<div>\n",
              "<style scoped>\n",
              "    .dataframe tbody tr th:only-of-type {\n",
              "        vertical-align: middle;\n",
              "    }\n",
              "\n",
              "    .dataframe tbody tr th {\n",
              "        vertical-align: top;\n",
              "    }\n",
              "\n",
              "    .dataframe thead th {\n",
              "        text-align: right;\n",
              "    }\n",
              "</style>\n",
              "<table border=\"1\" class=\"dataframe\">\n",
              "  <thead>\n",
              "    <tr style=\"text-align: right;\">\n",
              "      <th></th>\n",
              "      <th>user_id</th>\n",
              "      <th>song_id</th>\n",
              "      <th>binned</th>\n",
              "    </tr>\n",
              "  </thead>\n",
              "  <tbody>\n",
              "    <tr>\n",
              "      <th>0</th>\n",
              "      <td>fffff9534445f481b6ab91c345500083d2ce4df1</td>\n",
              "      <td>SOFYCAM12A58A7A45B</td>\n",
              "      <td>1.0</td>\n",
              "    </tr>\n",
              "    <tr>\n",
              "      <th>1</th>\n",
              "      <td>fffff9534445f481b6ab91c345500083d2ce4df1</td>\n",
              "      <td>SOOOWXV12A6D4F4763</td>\n",
              "      <td>1.0</td>\n",
              "    </tr>\n",
              "    <tr>\n",
              "      <th>2</th>\n",
              "      <td>fffff9534445f481b6ab91c345500083d2ce4df1</td>\n",
              "      <td>SONYEOJ12A8C142E86</td>\n",
              "      <td>4.0</td>\n",
              "    </tr>\n",
              "    <tr>\n",
              "      <th>3</th>\n",
              "      <td>fffff9534445f481b6ab91c345500083d2ce4df1</td>\n",
              "      <td>SONHWUN12AC468C014</td>\n",
              "      <td>1.0</td>\n",
              "    </tr>\n",
              "    <tr>\n",
              "      <th>4</th>\n",
              "      <td>fffff9534445f481b6ab91c345500083d2ce4df1</td>\n",
              "      <td>SOMCMKG12A8C1347BF</td>\n",
              "      <td>6.0</td>\n",
              "    </tr>\n",
              "    <tr>\n",
              "      <th>...</th>\n",
              "      <td>...</td>\n",
              "      <td>...</td>\n",
              "      <td>...</td>\n",
              "    </tr>\n",
              "    <tr>\n",
              "      <th>49995</th>\n",
              "      <td>ffc1b96de28a52f8161cb1a3a119222c319ece93</td>\n",
              "      <td>SOGNELN12A67ADA796</td>\n",
              "      <td>1.0</td>\n",
              "    </tr>\n",
              "    <tr>\n",
              "      <th>49996</th>\n",
              "      <td>ffc1b96de28a52f8161cb1a3a119222c319ece93</td>\n",
              "      <td>SOGLBDH12AB018847B</td>\n",
              "      <td>1.0</td>\n",
              "    </tr>\n",
              "    <tr>\n",
              "      <th>49997</th>\n",
              "      <td>ffc1b96de28a52f8161cb1a3a119222c319ece93</td>\n",
              "      <td>SOGKKXI12AF72A319A</td>\n",
              "      <td>1.0</td>\n",
              "    </tr>\n",
              "    <tr>\n",
              "      <th>49998</th>\n",
              "      <td>ffc1b96de28a52f8161cb1a3a119222c319ece93</td>\n",
              "      <td>SODTWKY12AF729FE39</td>\n",
              "      <td>1.0</td>\n",
              "    </tr>\n",
              "    <tr>\n",
              "      <th>49999</th>\n",
              "      <td>ffc1b96de28a52f8161cb1a3a119222c319ece93</td>\n",
              "      <td>SODUDJI12A8C141513</td>\n",
              "      <td>1.0</td>\n",
              "    </tr>\n",
              "  </tbody>\n",
              "</table>\n",
              "<p>50000 rows × 3 columns</p>\n",
              "</div>"
            ],
            "text/plain": [
              "                                        user_id             song_id  binned\n",
              "0      fffff9534445f481b6ab91c345500083d2ce4df1  SOFYCAM12A58A7A45B     1.0\n",
              "1      fffff9534445f481b6ab91c345500083d2ce4df1  SOOOWXV12A6D4F4763     1.0\n",
              "2      fffff9534445f481b6ab91c345500083d2ce4df1  SONYEOJ12A8C142E86     4.0\n",
              "3      fffff9534445f481b6ab91c345500083d2ce4df1  SONHWUN12AC468C014     1.0\n",
              "4      fffff9534445f481b6ab91c345500083d2ce4df1  SOMCMKG12A8C1347BF     6.0\n",
              "...                                         ...                 ...     ...\n",
              "49995  ffc1b96de28a52f8161cb1a3a119222c319ece93  SOGNELN12A67ADA796     1.0\n",
              "49996  ffc1b96de28a52f8161cb1a3a119222c319ece93  SOGLBDH12AB018847B     1.0\n",
              "49997  ffc1b96de28a52f8161cb1a3a119222c319ece93  SOGKKXI12AF72A319A     1.0\n",
              "49998  ffc1b96de28a52f8161cb1a3a119222c319ece93  SODTWKY12AF729FE39     1.0\n",
              "49999  ffc1b96de28a52f8161cb1a3a119222c319ece93  SODUDJI12A8C141513     1.0\n",
              "\n",
              "[50000 rows x 3 columns]"
            ]
          },
          "metadata": {
            "tags": []
          },
          "execution_count": 8
        }
      ]
    },
    {
      "cell_type": "code",
      "metadata": {
        "colab": {
          "base_uri": "https://localhost:8080/"
        },
        "id": "bvtFpAm24hnA",
        "outputId": "49b3fdd6-bf22-476d-b9ca-6317cb380822"
      },
      "source": [
        "playlist['binned'].describe()"
      ],
      "execution_count": null,
      "outputs": [
        {
          "output_type": "execute_result",
          "data": {
            "text/plain": [
              "count    49969.000000\n",
              "mean         1.073486\n",
              "std          0.406484\n",
              "min          1.000000\n",
              "25%          1.000000\n",
              "50%          1.000000\n",
              "75%          1.000000\n",
              "max          6.000000\n",
              "Name: binned, dtype: float64"
            ]
          },
          "metadata": {
            "tags": []
          },
          "execution_count": 9
        }
      ]
    },
    {
      "cell_type": "code",
      "metadata": {
        "colab": {
          "base_uri": "https://localhost:8080/"
        },
        "id": "paPU1NC64qkY",
        "outputId": "6530f244-f7b5-40ee-9be6-4c605a871cf8"
      },
      "source": [
        "print(playlist.isnull().sum())"
      ],
      "execution_count": null,
      "outputs": [
        {
          "output_type": "stream",
          "text": [
            "user_id     0\n",
            "song_id     0\n",
            "binned     31\n",
            "dtype: int64\n"
          ],
          "name": "stdout"
        }
      ]
    },
    {
      "cell_type": "code",
      "metadata": {
        "id": "bsezG7wa4t6U"
      },
      "source": [
        "playlist = playlist.dropna()"
      ],
      "execution_count": null,
      "outputs": []
    },
    {
      "cell_type": "code",
      "metadata": {
        "id": "pS4vLmtHzRYI"
      },
      "source": [
        "merged_df = pd.merge(playlist, info, on=['song_id'], how='inner')"
      ],
      "execution_count": null,
      "outputs": []
    },
    {
      "cell_type": "code",
      "metadata": {
        "colab": {
          "base_uri": "https://localhost:8080/",
          "height": 561
        },
        "id": "Cu9RohQ3uoXB",
        "outputId": "ab83c72e-3b6d-484c-cddb-e3163c32f4f5"
      },
      "source": [
        "merged_df.head()"
      ],
      "execution_count": null,
      "outputs": [
        {
          "output_type": "execute_result",
          "data": {
            "text/html": [
              "<div>\n",
              "<style scoped>\n",
              "    .dataframe tbody tr th:only-of-type {\n",
              "        vertical-align: middle;\n",
              "    }\n",
              "\n",
              "    .dataframe tbody tr th {\n",
              "        vertical-align: top;\n",
              "    }\n",
              "\n",
              "    .dataframe thead th {\n",
              "        text-align: right;\n",
              "    }\n",
              "</style>\n",
              "<table border=\"1\" class=\"dataframe\">\n",
              "  <thead>\n",
              "    <tr style=\"text-align: right;\">\n",
              "      <th></th>\n",
              "      <th>user_id</th>\n",
              "      <th>song_id</th>\n",
              "      <th>binned</th>\n",
              "      <th>Unnamed: 0</th>\n",
              "      <th>title</th>\n",
              "      <th>artist</th>\n",
              "      <th>album</th>\n",
              "    </tr>\n",
              "  </thead>\n",
              "  <tbody>\n",
              "    <tr>\n",
              "      <th>0</th>\n",
              "      <td>fffff9534445f481b6ab91c345500083d2ce4df1</td>\n",
              "      <td>SOFYCAM12A58A7A45B</td>\n",
              "      <td>1</td>\n",
              "      <td>74283</td>\n",
              "      <td>I Wanna Make You Close Your Eyes</td>\n",
              "      <td>dierks bentley</td>\n",
              "      <td>feel that fire</td>\n",
              "    </tr>\n",
              "    <tr>\n",
              "      <th>1</th>\n",
              "      <td>ffcc413ce121c5056cabb22605b9c645164e4ad9</td>\n",
              "      <td>SOFYCAM12A58A7A45B</td>\n",
              "      <td>1</td>\n",
              "      <td>74283</td>\n",
              "      <td>I Wanna Make You Close Your Eyes</td>\n",
              "      <td>dierks bentley</td>\n",
              "      <td>feel that fire</td>\n",
              "    </tr>\n",
              "    <tr>\n",
              "      <th>2</th>\n",
              "      <td>ffca7eb4f65b004d6897d3da4689aa3cee72a5d4</td>\n",
              "      <td>SOFYCAM12A58A7A45B</td>\n",
              "      <td>1</td>\n",
              "      <td>74283</td>\n",
              "      <td>I Wanna Make You Close Your Eyes</td>\n",
              "      <td>dierks bentley</td>\n",
              "      <td>feel that fire</td>\n",
              "    </tr>\n",
              "    <tr>\n",
              "      <th>3</th>\n",
              "      <td>fffff9534445f481b6ab91c345500083d2ce4df1</td>\n",
              "      <td>SOOOWXV12A6D4F4763</td>\n",
              "      <td>1</td>\n",
              "      <td>325856</td>\n",
              "      <td>Train Travelin'</td>\n",
              "      <td>dierks bentley</td>\n",
              "      <td>dierks bentley</td>\n",
              "    </tr>\n",
              "    <tr>\n",
              "      <th>4</th>\n",
              "      <td>fffff9534445f481b6ab91c345500083d2ce4df1</td>\n",
              "      <td>SONYEOJ12A8C142E86</td>\n",
              "      <td>4</td>\n",
              "      <td>187566</td>\n",
              "      <td>Breed</td>\n",
              "      <td>nirvana</td>\n",
              "      <td>with the lights out - box set</td>\n",
              "    </tr>\n",
              "  </tbody>\n",
              "</table>\n",
              "</div>"
            ],
            "text/plain": [
              "                                    user_id  ...                          album\n",
              "0  fffff9534445f481b6ab91c345500083d2ce4df1  ...                 feel that fire\n",
              "1  ffcc413ce121c5056cabb22605b9c645164e4ad9  ...                 feel that fire\n",
              "2  ffca7eb4f65b004d6897d3da4689aa3cee72a5d4  ...                 feel that fire\n",
              "3  fffff9534445f481b6ab91c345500083d2ce4df1  ...                 dierks bentley\n",
              "4  fffff9534445f481b6ab91c345500083d2ce4df1  ...  with the lights out - box set\n",
              "\n",
              "[5 rows x 7 columns]"
            ]
          },
          "metadata": {
            "tags": []
          },
          "execution_count": 15
        }
      ]
    },
    {
      "cell_type": "code",
      "metadata": {
        "id": "CBDlX1wvzoXX"
      },
      "source": [
        "# merged_df = merged_df.drop(columns=['Unnamed: 0', 'title', 'album'],axis = 1)\n",
        "merged_df = merged_df.drop(columns=['song_id'],axis = 1)"
      ],
      "execution_count": null,
      "outputs": []
    },
    {
      "cell_type": "code",
      "metadata": {
        "colab": {
          "base_uri": "https://localhost:8080/"
        },
        "id": "S5IE9U5iuqi3",
        "outputId": "2eca0f3a-84ff-483e-d856-ba89d897a44a"
      },
      "source": [
        "playlist.shape"
      ],
      "execution_count": null,
      "outputs": [
        {
          "output_type": "execute_result",
          "data": {
            "text/plain": [
              "(1000000, 3)"
            ]
          },
          "metadata": {
            "tags": []
          },
          "execution_count": 11
        }
      ]
    },
    {
      "cell_type": "code",
      "metadata": {
        "colab": {
          "base_uri": "https://localhost:8080/",
          "height": 204
        },
        "id": "_wv1REtiTi74",
        "outputId": "ea4cc1d5-5e9a-4518-8694-0aa6a2b8acf6"
      },
      "source": [
        "review.head()"
      ],
      "execution_count": null,
      "outputs": [
        {
          "output_type": "execute_result",
          "data": {
            "text/html": [
              "<div>\n",
              "<style scoped>\n",
              "    .dataframe tbody tr th:only-of-type {\n",
              "        vertical-align: middle;\n",
              "    }\n",
              "\n",
              "    .dataframe tbody tr th {\n",
              "        vertical-align: top;\n",
              "    }\n",
              "\n",
              "    .dataframe thead th {\n",
              "        text-align: right;\n",
              "    }\n",
              "</style>\n",
              "<table border=\"1\" class=\"dataframe\">\n",
              "  <thead>\n",
              "    <tr style=\"text-align: right;\">\n",
              "      <th></th>\n",
              "      <th>Unnamed: 0</th>\n",
              "      <th>title</th>\n",
              "      <th>artist</th>\n",
              "      <th>score</th>\n",
              "      <th>content</th>\n",
              "    </tr>\n",
              "  </thead>\n",
              "  <tbody>\n",
              "    <tr>\n",
              "      <th>0</th>\n",
              "      <td>0</td>\n",
              "      <td>pure tone audiometry</td>\n",
              "      <td>aarktica</td>\n",
              "      <td>7.4</td>\n",
              "      <td>Can there be any purpose behind a master's deg...</td>\n",
              "    </tr>\n",
              "    <tr>\n",
              "      <th>1</th>\n",
              "      <td>1</td>\n",
              "      <td>or you could just go through your whole life a...</td>\n",
              "      <td>aarktica</td>\n",
              "      <td>8.1</td>\n",
              "      <td>Funny what gets tagged for popular comebacks t...</td>\n",
              "    </tr>\n",
              "    <tr>\n",
              "      <th>2</th>\n",
              "      <td>2</td>\n",
              "      <td>bleeding light</td>\n",
              "      <td>aarktica</td>\n",
              "      <td>7.2</td>\n",
              "      <td>Aarktica didn't seem to know what he was on 20...</td>\n",
              "    </tr>\n",
              "    <tr>\n",
              "      <th>3</th>\n",
              "      <td>3</td>\n",
              "      <td>abcs</td>\n",
              "      <td>abcs</td>\n",
              "      <td>8.0</td>\n",
              "      <td>ABCS are all about unity.  Their bandname come...</td>\n",
              "    </tr>\n",
              "    <tr>\n",
              "      <th>4</th>\n",
              "      <td>4</td>\n",
              "      <td>homesick and happy to be here</td>\n",
              "      <td>aberdeen</td>\n",
              "      <td>7.0</td>\n",
              "      <td>If you caught this little blip in the mid-90s,...</td>\n",
              "    </tr>\n",
              "  </tbody>\n",
              "</table>\n",
              "</div>"
            ],
            "text/plain": [
              "   Unnamed: 0  ...                                            content\n",
              "0           0  ...  Can there be any purpose behind a master's deg...\n",
              "1           1  ...  Funny what gets tagged for popular comebacks t...\n",
              "2           2  ...  Aarktica didn't seem to know what he was on 20...\n",
              "3           3  ...  ABCS are all about unity.  Their bandname come...\n",
              "4           4  ...  If you caught this little blip in the mid-90s,...\n",
              "\n",
              "[5 rows x 5 columns]"
            ]
          },
          "metadata": {
            "tags": []
          },
          "execution_count": 55
        }
      ]
    },
    {
      "cell_type": "code",
      "metadata": {
        "colab": {
          "base_uri": "https://localhost:8080/"
        },
        "id": "blPzM1s53l3b",
        "outputId": "bbe41248-e065-4518-ff72-b04d7a619647"
      },
      "source": [
        "review.shape"
      ],
      "execution_count": null,
      "outputs": [
        {
          "output_type": "execute_result",
          "data": {
            "text/plain": [
              "(9848, 5)"
            ]
          },
          "metadata": {
            "tags": []
          },
          "execution_count": 9
        }
      ]
    },
    {
      "cell_type": "code",
      "metadata": {
        "colab": {
          "base_uri": "https://localhost:8080/"
        },
        "id": "2rPIlNdKDv6H",
        "outputId": "0a7e45da-3901-4a96-e328-4103a6a68141"
      },
      "source": [
        "len(review['artist'].unique())"
      ],
      "execution_count": null,
      "outputs": [
        {
          "output_type": "execute_result",
          "data": {
            "text/plain": [
              "5130"
            ]
          },
          "metadata": {
            "tags": []
          },
          "execution_count": 8
        }
      ]
    },
    {
      "cell_type": "markdown",
      "metadata": {
        "id": "ijLvAV4e3oAI"
      },
      "source": [
        "pitchfork 리뷰는 총 9849개이지만 리뷰를 받은 아티스트는 총 5130명이다. 그렇기 때문에 아티스트 별로 묶어 분석을 한다."
      ]
    },
    {
      "cell_type": "code",
      "metadata": {
        "colab": {
          "base_uri": "https://localhost:8080/",
          "height": 204
        },
        "id": "UVmVwN_VTjz4",
        "outputId": "5dad8213-e648-4fee-ab6e-4f7d55b3e750"
      },
      "source": [
        "info.head()"
      ],
      "execution_count": null,
      "outputs": [
        {
          "output_type": "execute_result",
          "data": {
            "text/html": [
              "<div>\n",
              "<style scoped>\n",
              "    .dataframe tbody tr th:only-of-type {\n",
              "        vertical-align: middle;\n",
              "    }\n",
              "\n",
              "    .dataframe tbody tr th {\n",
              "        vertical-align: top;\n",
              "    }\n",
              "\n",
              "    .dataframe thead th {\n",
              "        text-align: right;\n",
              "    }\n",
              "</style>\n",
              "<table border=\"1\" class=\"dataframe\">\n",
              "  <thead>\n",
              "    <tr style=\"text-align: right;\">\n",
              "      <th></th>\n",
              "      <th>Unnamed: 0</th>\n",
              "      <th>title</th>\n",
              "      <th>song_id</th>\n",
              "      <th>artist</th>\n",
              "      <th>album</th>\n",
              "    </tr>\n",
              "  </thead>\n",
              "  <tbody>\n",
              "    <tr>\n",
              "      <th>0</th>\n",
              "      <td>0</td>\n",
              "      <td>Silent Night</td>\n",
              "      <td>SOQMMHC12AB0180CB8</td>\n",
              "      <td>faster pussy cat</td>\n",
              "      <td>monster ballads x-mas</td>\n",
              "    </tr>\n",
              "    <tr>\n",
              "      <th>1</th>\n",
              "      <td>1</td>\n",
              "      <td>Tanssi vaan</td>\n",
              "      <td>SOVFVAK12A8C1350D9</td>\n",
              "      <td>karkkiautomaatti</td>\n",
              "      <td>karkuteillä</td>\n",
              "    </tr>\n",
              "    <tr>\n",
              "      <th>2</th>\n",
              "      <td>2</td>\n",
              "      <td>No One Could Ever</td>\n",
              "      <td>SOGTUKN12AB017F4F1</td>\n",
              "      <td>hudson mohawke</td>\n",
              "      <td>butter</td>\n",
              "    </tr>\n",
              "    <tr>\n",
              "      <th>3</th>\n",
              "      <td>3</td>\n",
              "      <td>Si Vos Querés</td>\n",
              "      <td>SOBNYVR12A8C13558C</td>\n",
              "      <td>yerba brava</td>\n",
              "      <td>de culo</td>\n",
              "    </tr>\n",
              "    <tr>\n",
              "      <th>4</th>\n",
              "      <td>4</td>\n",
              "      <td>Tangle Of Aspens</td>\n",
              "      <td>SOHSBXH12A8C13B0DF</td>\n",
              "      <td>der mystic</td>\n",
              "      <td>rene ablaze presents winter sessions</td>\n",
              "    </tr>\n",
              "  </tbody>\n",
              "</table>\n",
              "</div>"
            ],
            "text/plain": [
              "   Unnamed: 0  ...                                 album\n",
              "0           0  ...                 monster ballads x-mas\n",
              "1           1  ...                           karkuteillä\n",
              "2           2  ...                                butter\n",
              "3           3  ...                               de culo\n",
              "4           4  ...  rene ablaze presents winter sessions\n",
              "\n",
              "[5 rows x 5 columns]"
            ]
          },
          "metadata": {
            "tags": []
          },
          "execution_count": 25
        }
      ]
    },
    {
      "cell_type": "code",
      "metadata": {
        "colab": {
          "base_uri": "https://localhost:8080/"
        },
        "id": "xu97UR8OWIuW",
        "outputId": "5aa46b34-2323-440a-97cc-a591868b95ed"
      },
      "source": [
        "info.shape"
      ],
      "execution_count": null,
      "outputs": [
        {
          "output_type": "execute_result",
          "data": {
            "text/plain": [
              "(1000000, 5)"
            ]
          },
          "metadata": {
            "tags": []
          },
          "execution_count": 26
        }
      ]
    },
    {
      "cell_type": "code",
      "metadata": {
        "id": "PXhOCCeSlmuY"
      },
      "source": [
        "whole_info = pd.merge(playlist, info, on=['song_id'], how='inner')"
      ],
      "execution_count": null,
      "outputs": []
    },
    {
      "cell_type": "code",
      "metadata": {
        "id": "Cuj1cteNl28i"
      },
      "source": [
        "whole_info = whole_info.sort_values(by='user_id', ascending=False)"
      ],
      "execution_count": null,
      "outputs": []
    },
    {
      "cell_type": "code",
      "metadata": {
        "id": "kKty5iZTndd2"
      },
      "source": [
        "pd.set_option('display.max_rows', 500)"
      ],
      "execution_count": null,
      "outputs": []
    },
    {
      "cell_type": "code",
      "metadata": {
        "id": "_CWQQzyOnRTD"
      },
      "source": [
        "whole_info.head(500)"
      ],
      "execution_count": null,
      "outputs": []
    },
    {
      "cell_type": "code",
      "metadata": {
        "id": "3AQZgRCho6Ph"
      },
      "source": [
        "whole_info.groupby(['user_id','artist'])['song_id'].count()"
      ],
      "execution_count": null,
      "outputs": []
    },
    {
      "cell_type": "code",
      "metadata": {
        "colab": {
          "base_uri": "https://localhost:8080/"
        },
        "id": "JURC8X6-V41n",
        "outputId": "95bfc0cc-3559-43d6-b057-34aefe78b697"
      },
      "source": [
        "print(review.shape)\n",
        "review.head()\n",
        "review.tail()\n",
        "print(review.isnull().sum())"
      ],
      "execution_count": null,
      "outputs": [
        {
          "output_type": "stream",
          "text": [
            "(9848, 5)\n",
            "Unnamed: 0    0\n",
            "title         1\n",
            "artist        0\n",
            "score         0\n",
            "content       3\n",
            "dtype: int64\n"
          ],
          "name": "stdout"
        }
      ]
    },
    {
      "cell_type": "code",
      "metadata": {
        "colab": {
          "base_uri": "https://localhost:8080/"
        },
        "id": "Ma-fhF6wV6mF",
        "outputId": "97a42ac3-f8c0-4495-bd6b-54a636f99782"
      },
      "source": [
        "review = review.dropna()\n",
        "print(review.isnull().sum())"
      ],
      "execution_count": null,
      "outputs": [
        {
          "output_type": "stream",
          "text": [
            "Unnamed: 0    0\n",
            "title         0\n",
            "artist        0\n",
            "score         0\n",
            "content       0\n",
            "dtype: int64\n"
          ],
          "name": "stdout"
        }
      ]
    },
    {
      "cell_type": "code",
      "metadata": {
        "colab": {
          "base_uri": "https://localhost:8080/",
          "height": 289
        },
        "id": "TynALdZNV9p5",
        "outputId": "caf850f9-3337-46ab-ece3-d9fed886baa9"
      },
      "source": [
        "review.head()"
      ],
      "execution_count": null,
      "outputs": [
        {
          "output_type": "execute_result",
          "data": {
            "text/html": [
              "<div>\n",
              "<style scoped>\n",
              "    .dataframe tbody tr th:only-of-type {\n",
              "        vertical-align: middle;\n",
              "    }\n",
              "\n",
              "    .dataframe tbody tr th {\n",
              "        vertical-align: top;\n",
              "    }\n",
              "\n",
              "    .dataframe thead th {\n",
              "        text-align: right;\n",
              "    }\n",
              "</style>\n",
              "<table border=\"1\" class=\"dataframe\">\n",
              "  <thead>\n",
              "    <tr style=\"text-align: right;\">\n",
              "      <th></th>\n",
              "      <th>Unnamed: 0</th>\n",
              "      <th>title</th>\n",
              "      <th>artist</th>\n",
              "      <th>score</th>\n",
              "      <th>content</th>\n",
              "    </tr>\n",
              "  </thead>\n",
              "  <tbody>\n",
              "    <tr>\n",
              "      <th>0</th>\n",
              "      <td>0</td>\n",
              "      <td>pure tone audiometry</td>\n",
              "      <td>aarktica</td>\n",
              "      <td>7.4</td>\n",
              "      <td>Can there be any purpose behind a master's deg...</td>\n",
              "    </tr>\n",
              "    <tr>\n",
              "      <th>1</th>\n",
              "      <td>1</td>\n",
              "      <td>or you could just go through your whole life a...</td>\n",
              "      <td>aarktica</td>\n",
              "      <td>8.1</td>\n",
              "      <td>Funny what gets tagged for popular comebacks t...</td>\n",
              "    </tr>\n",
              "    <tr>\n",
              "      <th>2</th>\n",
              "      <td>2</td>\n",
              "      <td>bleeding light</td>\n",
              "      <td>aarktica</td>\n",
              "      <td>7.2</td>\n",
              "      <td>Aarktica didn't seem to know what he was on 20...</td>\n",
              "    </tr>\n",
              "    <tr>\n",
              "      <th>3</th>\n",
              "      <td>3</td>\n",
              "      <td>abcs</td>\n",
              "      <td>abcs</td>\n",
              "      <td>8.0</td>\n",
              "      <td>ABCS are all about unity.  Their bandname come...</td>\n",
              "    </tr>\n",
              "    <tr>\n",
              "      <th>4</th>\n",
              "      <td>4</td>\n",
              "      <td>homesick and happy to be here</td>\n",
              "      <td>aberdeen</td>\n",
              "      <td>7.0</td>\n",
              "      <td>If you caught this little blip in the mid-90s,...</td>\n",
              "    </tr>\n",
              "  </tbody>\n",
              "</table>\n",
              "</div>"
            ],
            "text/plain": [
              "   Unnamed: 0  ...                                            content\n",
              "0           0  ...  Can there be any purpose behind a master's deg...\n",
              "1           1  ...  Funny what gets tagged for popular comebacks t...\n",
              "2           2  ...  Aarktica didn't seem to know what he was on 20...\n",
              "3           3  ...  ABCS are all about unity.  Their bandname come...\n",
              "4           4  ...  If you caught this little blip in the mid-90s,...\n",
              "\n",
              "[5 rows x 5 columns]"
            ]
          },
          "metadata": {
            "tags": []
          },
          "execution_count": 41
        }
      ]
    },
    {
      "cell_type": "code",
      "metadata": {
        "colab": {
          "base_uri": "https://localhost:8080/",
          "height": 419
        },
        "id": "5y6VysJSCNxw",
        "outputId": "356bc9d7-45ad-4a70-d322-fd2521e5010f"
      },
      "source": [
        "predict_artist"
      ],
      "execution_count": null,
      "outputs": [
        {
          "output_type": "execute_result",
          "data": {
            "text/html": [
              "<div>\n",
              "<style scoped>\n",
              "    .dataframe tbody tr th:only-of-type {\n",
              "        vertical-align: middle;\n",
              "    }\n",
              "\n",
              "    .dataframe tbody tr th {\n",
              "        vertical-align: top;\n",
              "    }\n",
              "\n",
              "    .dataframe thead th {\n",
              "        text-align: right;\n",
              "    }\n",
              "</style>\n",
              "<table border=\"1\" class=\"dataframe\">\n",
              "  <thead>\n",
              "    <tr style=\"text-align: right;\">\n",
              "      <th></th>\n",
              "      <th>artist</th>\n",
              "      <th>predict_k</th>\n",
              "    </tr>\n",
              "  </thead>\n",
              "  <tbody>\n",
              "    <tr>\n",
              "      <th>0</th>\n",
              "      <td>'n sync/phil collins</td>\n",
              "      <td>12</td>\n",
              "    </tr>\n",
              "    <tr>\n",
              "      <th>1</th>\n",
              "      <td>3 doors down</td>\n",
              "      <td>30</td>\n",
              "    </tr>\n",
              "    <tr>\n",
              "      <th>2</th>\n",
              "      <td>4 non blondes</td>\n",
              "      <td>15</td>\n",
              "    </tr>\n",
              "    <tr>\n",
              "      <th>3</th>\n",
              "      <td>a day to remember</td>\n",
              "      <td>30</td>\n",
              "    </tr>\n",
              "    <tr>\n",
              "      <th>4</th>\n",
              "      <td>adam lambert</td>\n",
              "      <td>30</td>\n",
              "    </tr>\n",
              "    <tr>\n",
              "      <th>...</th>\n",
              "      <td>...</td>\n",
              "      <td>...</td>\n",
              "    </tr>\n",
              "    <tr>\n",
              "      <th>287</th>\n",
              "      <td>weezer</td>\n",
              "      <td>12</td>\n",
              "    </tr>\n",
              "    <tr>\n",
              "      <th>288</th>\n",
              "      <td>white denim</td>\n",
              "      <td>11</td>\n",
              "    </tr>\n",
              "    <tr>\n",
              "      <th>289</th>\n",
              "      <td>yael naïm</td>\n",
              "      <td>10</td>\n",
              "    </tr>\n",
              "    <tr>\n",
              "      <th>290</th>\n",
              "      <td>yann tiersen</td>\n",
              "      <td>11</td>\n",
              "    </tr>\n",
              "    <tr>\n",
              "      <th>291</th>\n",
              "      <td>yeah yeah yeahs</td>\n",
              "      <td>30</td>\n",
              "    </tr>\n",
              "  </tbody>\n",
              "</table>\n",
              "<p>292 rows × 2 columns</p>\n",
              "</div>"
            ],
            "text/plain": [
              "                   artist  predict_k\n",
              "0    'n sync/phil collins         12\n",
              "1            3 doors down         30\n",
              "2           4 non blondes         15\n",
              "3       a day to remember         30\n",
              "4            adam lambert         30\n",
              "..                    ...        ...\n",
              "287                weezer         12\n",
              "288           white denim         11\n",
              "289             yael naïm         10\n",
              "290          yann tiersen         11\n",
              "291       yeah yeah yeahs         30\n",
              "\n",
              "[292 rows x 2 columns]"
            ]
          },
          "metadata": {
            "tags": []
          },
          "execution_count": 43
        }
      ]
    },
    {
      "cell_type": "code",
      "metadata": {
        "id": "NKFUGSWiCECs"
      },
      "source": [
        "artist_with_k = pd.merge(review, predict_artist, on=['artist'], how='inner')"
      ],
      "execution_count": null,
      "outputs": []
    },
    {
      "cell_type": "code",
      "metadata": {
        "colab": {
          "base_uri": "https://localhost:8080/",
          "height": 606
        },
        "id": "JycCoQlKCTrN",
        "outputId": "f14b18e7-924a-4e5a-a534-a4d20f0a30f5"
      },
      "source": [
        "artist_with_k"
      ],
      "execution_count": null,
      "outputs": [
        {
          "output_type": "execute_result",
          "data": {
            "text/html": [
              "<div>\n",
              "<style scoped>\n",
              "    .dataframe tbody tr th:only-of-type {\n",
              "        vertical-align: middle;\n",
              "    }\n",
              "\n",
              "    .dataframe tbody tr th {\n",
              "        vertical-align: top;\n",
              "    }\n",
              "\n",
              "    .dataframe thead th {\n",
              "        text-align: right;\n",
              "    }\n",
              "</style>\n",
              "<table border=\"1\" class=\"dataframe\">\n",
              "  <thead>\n",
              "    <tr style=\"text-align: right;\">\n",
              "      <th></th>\n",
              "      <th>Unnamed: 0</th>\n",
              "      <th>title</th>\n",
              "      <th>artist</th>\n",
              "      <th>score</th>\n",
              "      <th>content</th>\n",
              "      <th>predict_k</th>\n",
              "    </tr>\n",
              "  </thead>\n",
              "  <tbody>\n",
              "    <tr>\n",
              "      <th>0</th>\n",
              "      <td>158</td>\n",
              "      <td>out of exile</td>\n",
              "      <td>audioslave</td>\n",
              "      <td>6.8</td>\n",
              "      <td>Fresh out of exile, Chris Cornell is trying to...</td>\n",
              "      <td>10</td>\n",
              "    </tr>\n",
              "    <tr>\n",
              "      <th>1</th>\n",
              "      <td>214</td>\n",
              "      <td>funeral</td>\n",
              "      <td>arcade fire</td>\n",
              "      <td>9.7</td>\n",
              "      <td>How did we get here?Ours is a generation overw...</td>\n",
              "      <td>14</td>\n",
              "    </tr>\n",
              "    <tr>\n",
              "      <th>2</th>\n",
              "      <td>215</td>\n",
              "      <td>arcade fire ep</td>\n",
              "      <td>arcade fire</td>\n",
              "      <td>6.8</td>\n",
              "      <td>If you're an Arcade Fire fan, chances are you'...</td>\n",
              "      <td>14</td>\n",
              "    </tr>\n",
              "    <tr>\n",
              "      <th>3</th>\n",
              "      <td>5190</td>\n",
              "      <td>neon bible</td>\n",
              "      <td>arcade fire</td>\n",
              "      <td>8.4</td>\n",
              "      <td>Sharing its title with a John      Kennedy Too...</td>\n",
              "      <td>14</td>\n",
              "    </tr>\n",
              "    <tr>\n",
              "      <th>4</th>\n",
              "      <td>8548</td>\n",
              "      <td>the suburbs</td>\n",
              "      <td>arcade fire</td>\n",
              "      <td>8.6</td>\n",
              "      <td>Arcade Fire never aim for anything less than g...</td>\n",
              "      <td>14</td>\n",
              "    </tr>\n",
              "    <tr>\n",
              "      <th>...</th>\n",
              "      <td>...</td>\n",
              "      <td>...</td>\n",
              "      <td>...</td>\n",
              "      <td>...</td>\n",
              "      <td>...</td>\n",
              "      <td>...</td>\n",
              "    </tr>\n",
              "    <tr>\n",
              "      <th>266</th>\n",
              "      <td>8434</td>\n",
              "      <td>something for everybody</td>\n",
              "      <td>devo</td>\n",
              "      <td>6.6</td>\n",
              "      <td>There are a few bad omens hovering around Some...</td>\n",
              "      <td>11</td>\n",
              "    </tr>\n",
              "    <tr>\n",
              "      <th>267</th>\n",
              "      <td>8551</td>\n",
              "      <td>outside the box</td>\n",
              "      <td>skream</td>\n",
              "      <td>7.9</td>\n",
              "      <td>If you're Ollie Jones, a musician who's made h...</td>\n",
              "      <td>27</td>\n",
              "    </tr>\n",
              "    <tr>\n",
              "      <th>268</th>\n",
              "      <td>8835</td>\n",
              "      <td>man on the moon ii: the legend of mr. rager</td>\n",
              "      <td>kid cudi</td>\n",
              "      <td>6.7</td>\n",
              "      <td>Kanye West has repeatedly called kiD CuDi his ...</td>\n",
              "      <td>10</td>\n",
              "    </tr>\n",
              "    <tr>\n",
              "      <th>269</th>\n",
              "      <td>9394</td>\n",
              "      <td>virtue</td>\n",
              "      <td>emmy the great</td>\n",
              "      <td>6.3</td>\n",
              "      <td>Virtue's cover art includes toy dinosaurs and ...</td>\n",
              "      <td>30</td>\n",
              "    </tr>\n",
              "    <tr>\n",
              "      <th>270</th>\n",
              "      <td>9735</td>\n",
              "      <td>unto the locust</td>\n",
              "      <td>machine head</td>\n",
              "      <td>7.7</td>\n",
              "      <td>More than a decade after releasing 1994's Burn...</td>\n",
              "      <td>13</td>\n",
              "    </tr>\n",
              "  </tbody>\n",
              "</table>\n",
              "<p>271 rows × 6 columns</p>\n",
              "</div>"
            ],
            "text/plain": [
              "     Unnamed: 0  ... predict_k\n",
              "0           158  ...        10\n",
              "1           214  ...        14\n",
              "2           215  ...        14\n",
              "3          5190  ...        14\n",
              "4          8548  ...        14\n",
              "..          ...  ...       ...\n",
              "266        8434  ...        11\n",
              "267        8551  ...        27\n",
              "268        8835  ...        10\n",
              "269        9394  ...        30\n",
              "270        9735  ...        13\n",
              "\n",
              "[271 rows x 6 columns]"
            ]
          },
          "metadata": {
            "tags": []
          },
          "execution_count": 45
        }
      ]
    },
    {
      "cell_type": "markdown",
      "metadata": {
        "id": "Uc2KJm4HCUSh"
      },
      "source": [
        "### 리뷰에서 앨범명 제거 "
      ]
    },
    {
      "cell_type": "code",
      "metadata": {
        "id": "QLrJE9ygXkPz"
      },
      "source": [
        "# 리뷰 내용 속 앨범명 없애기\n",
        "artist_with_k['content'] = artist_with_k.content.str.lower() # 앨범명과 같이 모두 소문자로 변환"
      ],
      "execution_count": null,
      "outputs": []
    },
    {
      "cell_type": "code",
      "metadata": {
        "colab": {
          "base_uri": "https://localhost:8080/",
          "height": 204
        },
        "id": "KsOvE9497swC",
        "outputId": "79baf652-bc58-48df-886d-c07bb9707bc5"
      },
      "source": [
        "artist_with_k.head()"
      ],
      "execution_count": null,
      "outputs": [
        {
          "output_type": "execute_result",
          "data": {
            "text/html": [
              "<div>\n",
              "<style scoped>\n",
              "    .dataframe tbody tr th:only-of-type {\n",
              "        vertical-align: middle;\n",
              "    }\n",
              "\n",
              "    .dataframe tbody tr th {\n",
              "        vertical-align: top;\n",
              "    }\n",
              "\n",
              "    .dataframe thead th {\n",
              "        text-align: right;\n",
              "    }\n",
              "</style>\n",
              "<table border=\"1\" class=\"dataframe\">\n",
              "  <thead>\n",
              "    <tr style=\"text-align: right;\">\n",
              "      <th></th>\n",
              "      <th>Unnamed: 0</th>\n",
              "      <th>title</th>\n",
              "      <th>artist</th>\n",
              "      <th>score</th>\n",
              "      <th>content</th>\n",
              "      <th>predict_k</th>\n",
              "    </tr>\n",
              "  </thead>\n",
              "  <tbody>\n",
              "    <tr>\n",
              "      <th>0</th>\n",
              "      <td>158</td>\n",
              "      <td>out of exile</td>\n",
              "      <td>audioslave</td>\n",
              "      <td>6.8</td>\n",
              "      <td>fresh out of exile, chris cornell is trying to...</td>\n",
              "      <td>10</td>\n",
              "    </tr>\n",
              "    <tr>\n",
              "      <th>1</th>\n",
              "      <td>214</td>\n",
              "      <td>funeral</td>\n",
              "      <td>arcade fire</td>\n",
              "      <td>9.7</td>\n",
              "      <td>how did we get here?ours is a generation overw...</td>\n",
              "      <td>14</td>\n",
              "    </tr>\n",
              "    <tr>\n",
              "      <th>2</th>\n",
              "      <td>215</td>\n",
              "      <td>arcade fire ep</td>\n",
              "      <td>arcade fire</td>\n",
              "      <td>6.8</td>\n",
              "      <td>if you're an arcade fire fan, chances are you'...</td>\n",
              "      <td>14</td>\n",
              "    </tr>\n",
              "    <tr>\n",
              "      <th>3</th>\n",
              "      <td>5190</td>\n",
              "      <td>neon bible</td>\n",
              "      <td>arcade fire</td>\n",
              "      <td>8.4</td>\n",
              "      <td>sharing its title with a john      kennedy too...</td>\n",
              "      <td>14</td>\n",
              "    </tr>\n",
              "    <tr>\n",
              "      <th>4</th>\n",
              "      <td>8548</td>\n",
              "      <td>the suburbs</td>\n",
              "      <td>arcade fire</td>\n",
              "      <td>8.6</td>\n",
              "      <td>arcade fire never aim for anything less than g...</td>\n",
              "      <td>14</td>\n",
              "    </tr>\n",
              "  </tbody>\n",
              "</table>\n",
              "</div>"
            ],
            "text/plain": [
              "   Unnamed: 0  ... predict_k\n",
              "0         158  ...        10\n",
              "1         214  ...        14\n",
              "2         215  ...        14\n",
              "3        5190  ...        14\n",
              "4        8548  ...        14\n",
              "\n",
              "[5 rows x 6 columns]"
            ]
          },
          "metadata": {
            "tags": []
          },
          "execution_count": 49
        }
      ]
    },
    {
      "cell_type": "code",
      "metadata": {
        "id": "l7-LqrACahWv"
      },
      "source": [
        "for i in range(artist_with_k.shape[0]):\n",
        "  value_to_replace = artist_with_k['title'].iloc[i] # 앨범명을 변수에 저장\n",
        "  # 리뷰 내용에 앨범명이 있는 경우 빈 칸으로 대체\n",
        "  artist_with_k = artist_with_k.replace({'content' : value_to_replace}, ' ')\n",
        "\n"
      ],
      "execution_count": null,
      "outputs": []
    },
    {
      "cell_type": "code",
      "metadata": {
        "id": "Kn4dDpxp-8LK"
      },
      "source": [
        "artist_with_k['content'].iloc[0]"
      ],
      "execution_count": null,
      "outputs": []
    },
    {
      "cell_type": "code",
      "metadata": {
        "id": "wIzM1_8s_TaB"
      },
      "source": [
        "artist_with_k.to_csv('review_edited.csv')\n",
        "\n",
        "files.download('review_edited.csv')"
      ],
      "execution_count": null,
      "outputs": []
    },
    {
      "cell_type": "code",
      "metadata": {
        "id": "cRrs3xTXBl-Q"
      },
      "source": [
        "filepath = '/content/drive/MyDrive/capstone project 1/review_edited.csv'\n",
        "\n",
        "review = pd.read_csv(filepath)"
      ],
      "execution_count": null,
      "outputs": []
    },
    {
      "cell_type": "code",
      "metadata": {
        "id": "AscgLr00CtnZ"
      },
      "source": [
        "review_edited = artist_with_k.drop(columns=['Unnamed: 0'],axis = 1)"
      ],
      "execution_count": null,
      "outputs": []
    },
    {
      "cell_type": "markdown",
      "metadata": {
        "id": "vq27hPxTDWH7"
      },
      "source": [
        "### accented character 제거하기 "
      ]
    },
    {
      "cell_type": "code",
      "metadata": {
        "id": "DLtHvJR3AHFK"
      },
      "source": [
        "review_edited['content'] = review_edited['content'].apply(unidecode)"
      ],
      "execution_count": null,
      "outputs": []
    },
    {
      "cell_type": "markdown",
      "metadata": {
        "id": "iz3O_vc7CYim"
      },
      "source": [
        "### 불용어 추가 및 제거 "
      ]
    },
    {
      "cell_type": "code",
      "metadata": {
        "id": "CSSjkXhyFxJR"
      },
      "source": [
        "# 아티스트명을 불용어 처리하기\n",
        "# 리뷰 데이터프레임의 아티스트명을 저장한다\n",
        "artists = review_edited['artist'].unique()"
      ],
      "execution_count": null,
      "outputs": []
    },
    {
      "cell_type": "code",
      "metadata": {
        "id": "WLGjbPh202kt"
      },
      "source": [
        "artists = list(artists)"
      ],
      "execution_count": null,
      "outputs": []
    },
    {
      "cell_type": "code",
      "metadata": {
        "colab": {
          "base_uri": "https://localhost:8080/"
        },
        "id": "c4_SBV9R1CPZ",
        "outputId": "4dbdba5e-1f4e-440b-f093-7e67261618b1"
      },
      "source": [
        "type(artists)"
      ],
      "execution_count": null,
      "outputs": [
        {
          "output_type": "execute_result",
          "data": {
            "text/plain": [
              "list"
            ]
          },
          "metadata": {
            "tags": []
          },
          "execution_count": 60
        }
      ]
    },
    {
      "cell_type": "code",
      "metadata": {
        "id": "JpcpVBs4ojEO"
      },
      "source": [
        "artists.extend(['/n', '/n/n']) # 불용어에 줄바꿈 명령어 추가"
      ],
      "execution_count": null,
      "outputs": []
    },
    {
      "cell_type": "code",
      "metadata": {
        "id": "zLSqQM1SD2Fl"
      },
      "source": [
        "nlp = spacy.load(\"en_core_web_lg\")"
      ],
      "execution_count": null,
      "outputs": []
    },
    {
      "cell_type": "code",
      "metadata": {
        "colab": {
          "base_uri": "https://localhost:8080/"
        },
        "id": "UBPzaIB0MIjZ",
        "outputId": "17543fa4-f731-4bf0-a81d-1c91a417e632"
      },
      "source": [
        "print(nlp.Defaults.stop_words)"
      ],
      "execution_count": null,
      "outputs": [
        {
          "output_type": "stream",
          "text": [
            "{'whence', 'others', 'whither', 'be', 'too', 'can', 'except', 'only', 'make', 'cannot', 'done', 'with', 'thereafter', 'elsewhere', 'hundred', 'whose', 'give', 'his', 'next', 'herself', 'down', \"n't\", 'it', 'n’t', 'whereas', 'many', 'own', 'themselves', 'yourself', 'moreover', 'something', 'beforehand', 'serious', 'other', 'both', 'fifty', \"'re\", 're', 'get', 'put', 'became', 'over', 'anywhere', 'just', 'amongst', 'a', 'show', 'formerly', 'sometimes', '‘ve', 'us', 'whereby', 'wherever', 'even', 'much', 'regarding', 'see', '’re', 'using', 'nine', 'few', 'beyond', 'fifteen', 'several', 'must', 'side', 'been', 'becomes', 'still', 'and', 'not', 'between', 'never', 'onto', 'those', 'why', 'among', 'former', 'then', 'however', 'yet', 'thence', 'thereupon', 'very', 'already', 'i', 'now', 'eight', 'here', 'besides', 'enough', \"'s\", 'back', 'anyway', 'that', 'nor', 'say', 'each', 'might', 'himself', 'through', 'because', 'hereupon', 'ours', 'anyone', 'always', 'made', 'first', 'ten', 'n‘t', 'anything', 'which', 'its', 'none', 'seem', 'two', 'someone', 'three', 'until', 'being', 'when', 'towards', 'sixty', 'either', 'herein', 'whereupon', '‘d', 'does', 'had', 'everywhere', 'every', 'whether', 'such', 'four', 'is', 'my', 'ca', 'them', 'hereby', 'without', 'may', 'whom', '’s', 'while', 'take', 'some', 'alone', 'yours', 'to', 'once', 'at', 'via', 'eleven', 'due', 'itself', 'part', '’ll', 'will', 'an', 'nobody', 'nothing', '‘ll', 'otherwise', 'ourselves', 'again', 'various', '’d', 'they', 'we', 'off', 'your', 'of', 'what', '‘m', 'are', 'anyhow', 'whereafter', 'wherein', \"'d\", 'meanwhile', 'most', 'there', 'their', 'than', 'afterwards', 'six', 'was', 'noone', 'below', 'beside', 'her', 'keep', \"'m\", 'before', 'within', '’ve', 'along', 'if', 'these', 'often', 'since', 'thereby', 'another', 'throughout', 'used', 'twelve', 'please', 'hers', 'were', 'five', 'seeming', 'though', 'behind', 'on', 'per', 'less', 'everyone', 'rather', 'would', 'bottom', 'do', 'or', 'seems', 'whole', 'becoming', 'amount', 'hence', 'name', 'seemed', 'front', 'least', 'thru', 'latter', 'from', 'sometime', 'well', 'yourselves', 'into', 'by', 'become', 'our', 'somehow', 'above', 'around', 'forty', 'me', 'indeed', 'so', 'as', 'together', 'everything', 'hereafter', 'for', \"'ll\", 'during', 'doing', 'third', 'who', 'top', 'across', 'twenty', 'any', 'thus', 'no', 'therefore', 'whatever', 'after', 'toward', 'all', 'about', 'latterly', 'namely', 'she', 'ever', 'almost', 'up', '‘s', 'same', '’m', 'empty', 'this', 'unless', \"'ve\", 'neither', 'also', 'you', 'one', 'how', 'mostly', 'further', 'go', 'whenever', 'nevertheless', 'could', 'quite', 'more', 'where', 'him', 'although', 'have', '‘re', 'last', 'he', 'really', 'in', 'nowhere', 'call', 'has', 'perhaps', 'full', 'whoever', 'should', 'the', 'against', 'move', 'upon', 'myself', 'out', 'did', 'but', 'else', 'somewhere', 'am', 'mine', 'therein', 'under'}\n"
          ],
          "name": "stdout"
        }
      ]
    },
    {
      "cell_type": "code",
      "metadata": {
        "id": "ZEjSn21hMLPh"
      },
      "source": [
        "for name in artists:\n",
        "  nlp.Defaults.stop_words.add(name)"
      ],
      "execution_count": null,
      "outputs": []
    },
    {
      "cell_type": "code",
      "metadata": {
        "id": "e8--cHW2ldEH"
      },
      "source": [
        "nlp.Defaults.stop_words"
      ],
      "execution_count": null,
      "outputs": []
    },
    {
      "cell_type": "markdown",
      "metadata": {
        "id": "vW4BWeDdGSc_"
      },
      "source": [
        "## 토큰화"
      ]
    },
    {
      "cell_type": "code",
      "metadata": {
        "id": "vNw3bfBjGaZ8"
      },
      "source": [
        "def spacy_tokenizer(document):\n",
        "    tokens = nlp(document)\n",
        "    tokens = [token.lemma_ for token in tokens if (\n",
        "        token.is_stop == False and \\\n",
        "        token.is_punct == False and \\\n",
        "        token.lemma_.strip()!= '')]\n",
        "    tokens = map(unidecode, tokens)\n",
        "    return tokens\n"
      ],
      "execution_count": null,
      "outputs": []
    },
    {
      "cell_type": "markdown",
      "metadata": {
        "id": "4Lh2ZI27FzCv"
      },
      "source": [
        "## 벡터화"
      ]
    },
    {
      "cell_type": "code",
      "metadata": {
        "id": "bD_a-nB9FyZu"
      },
      "source": [
        "tfidf_vectorizer = \\\n",
        "    TfidfVectorizer(tokenizer = spacy_tokenizer, binary=True)"
      ],
      "execution_count": null,
      "outputs": []
    },
    {
      "cell_type": "code",
      "metadata": {
        "id": "M_O3tg4XFd2w"
      },
      "source": [
        "result = tfidf_vectorizer.fit_transform(review_edited['content'])"
      ],
      "execution_count": null,
      "outputs": []
    },
    {
      "cell_type": "code",
      "metadata": {
        "id": "p-Nch6ScFdwh"
      },
      "source": [
        "tfidf_vectorizer.get_feature_names()"
      ],
      "execution_count": null,
      "outputs": []
    },
    {
      "cell_type": "code",
      "metadata": {
        "colab": {
          "base_uri": "https://localhost:8080/",
          "height": 504
        },
        "id": "sbVKzsbEEXvC",
        "outputId": "e7938901-5607-4084-a677-10b8116b2865"
      },
      "source": [
        "review_edited"
      ],
      "execution_count": null,
      "outputs": [
        {
          "output_type": "execute_result",
          "data": {
            "text/html": [
              "<div>\n",
              "<style scoped>\n",
              "    .dataframe tbody tr th:only-of-type {\n",
              "        vertical-align: middle;\n",
              "    }\n",
              "\n",
              "    .dataframe tbody tr th {\n",
              "        vertical-align: top;\n",
              "    }\n",
              "\n",
              "    .dataframe thead th {\n",
              "        text-align: right;\n",
              "    }\n",
              "</style>\n",
              "<table border=\"1\" class=\"dataframe\">\n",
              "  <thead>\n",
              "    <tr style=\"text-align: right;\">\n",
              "      <th></th>\n",
              "      <th>title</th>\n",
              "      <th>artist</th>\n",
              "      <th>score</th>\n",
              "      <th>content</th>\n",
              "      <th>predict_k</th>\n",
              "    </tr>\n",
              "  </thead>\n",
              "  <tbody>\n",
              "    <tr>\n",
              "      <th>0</th>\n",
              "      <td>out of exile</td>\n",
              "      <td>audioslave</td>\n",
              "      <td>6.8</td>\n",
              "      <td>fresh out of exile, chris cornell is trying to...</td>\n",
              "      <td>10</td>\n",
              "    </tr>\n",
              "    <tr>\n",
              "      <th>1</th>\n",
              "      <td>funeral</td>\n",
              "      <td>arcade fire</td>\n",
              "      <td>9.7</td>\n",
              "      <td>how did we get here?ours is a generation overw...</td>\n",
              "      <td>14</td>\n",
              "    </tr>\n",
              "    <tr>\n",
              "      <th>2</th>\n",
              "      <td>arcade fire ep</td>\n",
              "      <td>arcade fire</td>\n",
              "      <td>6.8</td>\n",
              "      <td>if you're an arcade fire fan, chances are you'...</td>\n",
              "      <td>14</td>\n",
              "    </tr>\n",
              "    <tr>\n",
              "      <th>3</th>\n",
              "      <td>neon bible</td>\n",
              "      <td>arcade fire</td>\n",
              "      <td>8.4</td>\n",
              "      <td>sharing its title with a john      kennedy too...</td>\n",
              "      <td>14</td>\n",
              "    </tr>\n",
              "    <tr>\n",
              "      <th>4</th>\n",
              "      <td>the suburbs</td>\n",
              "      <td>arcade fire</td>\n",
              "      <td>8.6</td>\n",
              "      <td>arcade fire never aim for anything less than g...</td>\n",
              "      <td>14</td>\n",
              "    </tr>\n",
              "    <tr>\n",
              "      <th>...</th>\n",
              "      <td>...</td>\n",
              "      <td>...</td>\n",
              "      <td>...</td>\n",
              "      <td>...</td>\n",
              "      <td>...</td>\n",
              "    </tr>\n",
              "    <tr>\n",
              "      <th>266</th>\n",
              "      <td>something for everybody</td>\n",
              "      <td>devo</td>\n",
              "      <td>6.6</td>\n",
              "      <td>there are a few bad omens hovering around some...</td>\n",
              "      <td>11</td>\n",
              "    </tr>\n",
              "    <tr>\n",
              "      <th>267</th>\n",
              "      <td>outside the box</td>\n",
              "      <td>skream</td>\n",
              "      <td>7.9</td>\n",
              "      <td>if you're ollie jones, a musician who's made h...</td>\n",
              "      <td>27</td>\n",
              "    </tr>\n",
              "    <tr>\n",
              "      <th>268</th>\n",
              "      <td>man on the moon ii: the legend of mr. rager</td>\n",
              "      <td>kid cudi</td>\n",
              "      <td>6.7</td>\n",
              "      <td>kanye west has repeatedly called kid cudi his ...</td>\n",
              "      <td>10</td>\n",
              "    </tr>\n",
              "    <tr>\n",
              "      <th>269</th>\n",
              "      <td>virtue</td>\n",
              "      <td>emmy the great</td>\n",
              "      <td>6.3</td>\n",
              "      <td>virtue's cover art includes toy dinosaurs and ...</td>\n",
              "      <td>30</td>\n",
              "    </tr>\n",
              "    <tr>\n",
              "      <th>270</th>\n",
              "      <td>unto the locust</td>\n",
              "      <td>machine head</td>\n",
              "      <td>7.7</td>\n",
              "      <td>more than a decade after releasing 1994's burn...</td>\n",
              "      <td>13</td>\n",
              "    </tr>\n",
              "  </tbody>\n",
              "</table>\n",
              "<p>271 rows × 5 columns</p>\n",
              "</div>"
            ],
            "text/plain": [
              "                                           title  ... predict_k\n",
              "0                                   out of exile  ...        10\n",
              "1                                        funeral  ...        14\n",
              "2                                 arcade fire ep  ...        14\n",
              "3                                     neon bible  ...        14\n",
              "4                                    the suburbs  ...        14\n",
              "..                                           ...  ...       ...\n",
              "266                      something for everybody  ...        11\n",
              "267                              outside the box  ...        27\n",
              "268  man on the moon ii: the legend of mr. rager  ...        10\n",
              "269                                       virtue  ...        30\n",
              "270                              unto the locust  ...        13\n",
              "\n",
              "[271 rows x 5 columns]"
            ]
          },
          "metadata": {
            "tags": []
          },
          "execution_count": 75
        }
      ]
    },
    {
      "cell_type": "markdown",
      "metadata": {
        "id": "0PAEjVzsw5fU"
      },
      "source": [
        "# 데이터 라벨링"
      ]
    },
    {
      "cell_type": "code",
      "metadata": {
        "id": "WqaSp4CNqWdN"
      },
      "source": [
        "reader = Reader(rating_scale=(1, 6))\n",
        "data = Dataset.load_from_df(playlist[['user_id', 'song_id', 'binned']], reader)\n",
        "sim_options = {'name': 'cosine',\n",
        "               'user_based': False  # compute  similarities between items\n",
        "               }\n",
        "knn = KNNBasic(k=30, min_k = 10, sim_options=sim_options, verbos=True)"
      ],
      "execution_count": null,
      "outputs": []
    },
    {
      "cell_type": "code",
      "metadata": {
        "id": "ZAostInNux_Y"
      },
      "source": [
        "kf = KFold(n_splits=3)"
      ],
      "execution_count": null,
      "outputs": []
    },
    {
      "cell_type": "code",
      "metadata": {
        "colab": {
          "base_uri": "https://localhost:8080/"
        },
        "id": "FYTpaFKs3lUF",
        "outputId": "c1660389-67bf-47fe-8473-e0c2a2c269b7"
      },
      "source": [
        "for trainset, testset in kf.split(data):\n",
        "\n",
        "    knn.fit(trainset)\n",
        "    predictions = knn.test(testset)\n",
        "\n",
        "    accuracy.rmse(predictions, verbose=True)"
      ],
      "execution_count": null,
      "outputs": [
        {
          "output_type": "stream",
          "text": [
            "Computing the cosine similarity matrix...\n"
          ],
          "name": "stdout"
        }
      ]
    },
    {
      "cell_type": "code",
      "metadata": {
        "id": "dWDsOURA35iQ"
      },
      "source": [
        "predictions"
      ],
      "execution_count": null,
      "outputs": []
    },
    {
      "cell_type": "code",
      "metadata": {
        "id": "ZYjlMmFo8agh"
      },
      "source": [
        "column_names = ['song_id', 'predict_k']\n",
        "\n",
        "df = pd.DataFrame(columns = column_names)"
      ],
      "execution_count": null,
      "outputs": []
    },
    {
      "cell_type": "code",
      "metadata": {
        "id": "2Djjz2me5uCd"
      },
      "source": [
        "for i in range(len(predictions)):\n",
        "  if predictions[i][4]['was_impossible'] == False:\n",
        "    id, predict = predictions[i][1], predictions[i][4]['actual_k']\n",
        "    df = df.append({'song_id':id, 'predict_k':predict}, ignore_index=True)"
      ],
      "execution_count": null,
      "outputs": []
    },
    {
      "cell_type": "code",
      "metadata": {
        "id": "CFezC50I9qya"
      },
      "source": [
        "df"
      ],
      "execution_count": null,
      "outputs": []
    },
    {
      "cell_type": "code",
      "metadata": {
        "id": "xclqKRc99x6W"
      },
      "source": [
        "df.to_csv('predictions.csv')\n",
        "\n",
        "files.download('predictions.csv')"
      ],
      "execution_count": null,
      "outputs": []
    },
    {
      "cell_type": "code",
      "metadata": {
        "id": "QxQJdUNo_Rwc"
      },
      "source": [
        "filepath = '/content/drive/MyDrive/capstone project 1/predictions.csv'\n",
        "\n",
        "predictions = pd.read_csv(filepath)"
      ],
      "execution_count": null,
      "outputs": []
    },
    {
      "cell_type": "code",
      "metadata": {
        "id": "yY105U7j912f"
      },
      "source": [
        "merged_df = pd.merge(predictions, info, on=['song_id'], how='inner')"
      ],
      "execution_count": null,
      "outputs": []
    },
    {
      "cell_type": "code",
      "metadata": {
        "id": "j-50aE-a_gJj"
      },
      "source": [
        "merged_df"
      ],
      "execution_count": null,
      "outputs": []
    },
    {
      "cell_type": "code",
      "metadata": {
        "colab": {
          "base_uri": "https://localhost:8080/"
        },
        "id": "I9G-jyUk98pN",
        "outputId": "8a23e83b-fe18-40c8-a6c1-98e7db2954e4"
      },
      "source": [
        "len(merged_df['artist'].unique())"
      ],
      "execution_count": null,
      "outputs": [
        {
          "output_type": "execute_result",
          "data": {
            "text/plain": [
              "292"
            ]
          },
          "metadata": {
            "tags": []
          },
          "execution_count": 12
        }
      ]
    },
    {
      "cell_type": "code",
      "metadata": {
        "id": "2FqXJAXO_jOT"
      },
      "source": [
        "artist_list = merged_df['artist'].unique()"
      ],
      "execution_count": null,
      "outputs": []
    },
    {
      "cell_type": "code",
      "metadata": {
        "id": "RkuNHzRE_q4U"
      },
      "source": [
        "df = merged_df.groupby('artist')['predict_k'].agg(lambda x: x.value_counts().index[0])"
      ],
      "execution_count": null,
      "outputs": []
    },
    {
      "cell_type": "code",
      "metadata": {
        "colab": {
          "base_uri": "https://localhost:8080/"
        },
        "id": "AjPwn3jzBEcN",
        "outputId": "b2e16c30-5a6b-47e0-eb64-60c273fc9483"
      },
      "source": [
        "df"
      ],
      "execution_count": null,
      "outputs": [
        {
          "output_type": "execute_result",
          "data": {
            "text/plain": [
              "artist\n",
              "'n sync/phil collins    12\n",
              "3 doors down            30\n",
              "4 non blondes           15\n",
              "a day to remember       30\n",
              "adam lambert            30\n",
              "                        ..\n",
              "weezer                  12\n",
              "white denim             11\n",
              "yael naïm               10\n",
              "yann tiersen            11\n",
              "yeah yeah yeahs         30\n",
              "Name: predict_k, Length: 292, dtype: int64"
            ]
          },
          "metadata": {
            "tags": []
          },
          "execution_count": 34
        }
      ]
    },
    {
      "cell_type": "code",
      "metadata": {
        "id": "B4F_f8TwBg0v"
      },
      "source": [
        "df.to_csv('predict_k.csv')\n",
        "\n",
        "files.download('predict_k.csv')"
      ],
      "execution_count": null,
      "outputs": []
    },
    {
      "cell_type": "code",
      "metadata": {
        "id": "Efo-y-TGYN-o"
      },
      "source": [
        "filepath = '/content/drive/MyDrive/capstone project 1/predict_k.csv'\n",
        "\n",
        "predictions = pd.read_csv(filepath)"
      ],
      "execution_count": null,
      "outputs": []
    },
    {
      "cell_type": "code",
      "metadata": {
        "colab": {
          "base_uri": "https://localhost:8080/"
        },
        "id": "c7aDrTErYfj3",
        "outputId": "2d33db3b-4617-480f-e2b8-6919398d814f"
      },
      "source": [
        "predictions['predict_k'].value_counts(normalize=True)"
      ],
      "execution_count": null,
      "outputs": [
        {
          "output_type": "execute_result",
          "data": {
            "text/plain": [
              "30    0.239726\n",
              "10    0.184932\n",
              "11    0.095890\n",
              "12    0.089041\n",
              "13    0.058219\n",
              "15    0.054795\n",
              "19    0.044521\n",
              "14    0.041096\n",
              "23    0.030822\n",
              "22    0.027397\n",
              "18    0.023973\n",
              "20    0.020548\n",
              "16    0.017123\n",
              "17    0.013699\n",
              "29    0.013699\n",
              "21    0.013699\n",
              "24    0.013699\n",
              "27    0.006849\n",
              "25    0.003425\n",
              "26    0.003425\n",
              "28    0.003425\n",
              "Name: predict_k, dtype: float64"
            ]
          },
          "metadata": {
            "tags": []
          },
          "execution_count": 170
        }
      ]
    },
    {
      "cell_type": "code",
      "metadata": {
        "id": "TPBWv9-ARMuN"
      },
      "source": [
        "columns = ['Unnamed: 0', 'duration_ms', 'count', 'popularity']"
      ],
      "execution_count": null,
      "outputs": []
    },
    {
      "cell_type": "code",
      "metadata": {
        "id": "tbbYK6P8REfv"
      },
      "source": [
        "spotify = spotify.drop(columns=columns, axis=1)"
      ],
      "execution_count": null,
      "outputs": []
    },
    {
      "cell_type": "code",
      "metadata": {
        "id": "6W3yBk_RRbql"
      },
      "source": [
        "spotify = spotify.rename(columns={'artists':'artist'})"
      ],
      "execution_count": null,
      "outputs": []
    },
    {
      "cell_type": "code",
      "metadata": {
        "colab": {
          "base_uri": "https://localhost:8080/",
          "height": 592
        },
        "id": "tC394EZ7RiZs",
        "outputId": "9aa44dd3-9a04-4692-955d-c1fe9f908aa3"
      },
      "source": [
        "spotify"
      ],
      "execution_count": null,
      "outputs": [
        {
          "output_type": "execute_result",
          "data": {
            "text/html": [
              "<div>\n",
              "<style scoped>\n",
              "    .dataframe tbody tr th:only-of-type {\n",
              "        vertical-align: middle;\n",
              "    }\n",
              "\n",
              "    .dataframe tbody tr th {\n",
              "        vertical-align: top;\n",
              "    }\n",
              "\n",
              "    .dataframe thead th {\n",
              "        text-align: right;\n",
              "    }\n",
              "</style>\n",
              "<table border=\"1\" class=\"dataframe\">\n",
              "  <thead>\n",
              "    <tr style=\"text-align: right;\">\n",
              "      <th></th>\n",
              "      <th>artist</th>\n",
              "      <th>acousticness</th>\n",
              "      <th>danceability</th>\n",
              "      <th>energy</th>\n",
              "      <th>instrumentalness</th>\n",
              "      <th>liveness</th>\n",
              "      <th>loudness</th>\n",
              "      <th>speechiness</th>\n",
              "      <th>tempo</th>\n",
              "      <th>valence</th>\n",
              "      <th>key</th>\n",
              "      <th>mode</th>\n",
              "    </tr>\n",
              "  </thead>\n",
              "  <tbody>\n",
              "    <tr>\n",
              "      <th>0</th>\n",
              "      <td>aceyalone</td>\n",
              "      <td>0.142742</td>\n",
              "      <td>0.814000</td>\n",
              "      <td>0.657091</td>\n",
              "      <td>0.000056</td>\n",
              "      <td>0.108891</td>\n",
              "      <td>-7.763091</td>\n",
              "      <td>0.303536</td>\n",
              "      <td>94.308818</td>\n",
              "      <td>0.645818</td>\n",
              "      <td>6</td>\n",
              "      <td>1</td>\n",
              "    </tr>\n",
              "    <tr>\n",
              "      <th>1</th>\n",
              "      <td>aceyalone</td>\n",
              "      <td>0.142742</td>\n",
              "      <td>0.814000</td>\n",
              "      <td>0.657091</td>\n",
              "      <td>0.000056</td>\n",
              "      <td>0.108891</td>\n",
              "      <td>-7.763091</td>\n",
              "      <td>0.303536</td>\n",
              "      <td>94.308818</td>\n",
              "      <td>0.645818</td>\n",
              "      <td>6</td>\n",
              "      <td>1</td>\n",
              "    </tr>\n",
              "    <tr>\n",
              "      <th>2</th>\n",
              "      <td>aceyalone</td>\n",
              "      <td>0.142742</td>\n",
              "      <td>0.814000</td>\n",
              "      <td>0.657091</td>\n",
              "      <td>0.000056</td>\n",
              "      <td>0.108891</td>\n",
              "      <td>-7.763091</td>\n",
              "      <td>0.303536</td>\n",
              "      <td>94.308818</td>\n",
              "      <td>0.645818</td>\n",
              "      <td>6</td>\n",
              "      <td>1</td>\n",
              "    </tr>\n",
              "    <tr>\n",
              "      <th>3</th>\n",
              "      <td>ryan adams</td>\n",
              "      <td>0.388517</td>\n",
              "      <td>0.480500</td>\n",
              "      <td>0.299500</td>\n",
              "      <td>0.001517</td>\n",
              "      <td>0.156067</td>\n",
              "      <td>-11.452833</td>\n",
              "      <td>0.035750</td>\n",
              "      <td>124.993167</td>\n",
              "      <td>0.298667</td>\n",
              "      <td>7</td>\n",
              "      <td>1</td>\n",
              "    </tr>\n",
              "    <tr>\n",
              "      <th>4</th>\n",
              "      <td>ryan adams &amp; the cardinals</td>\n",
              "      <td>0.082300</td>\n",
              "      <td>0.434000</td>\n",
              "      <td>0.843000</td>\n",
              "      <td>0.000463</td>\n",
              "      <td>0.216000</td>\n",
              "      <td>-4.916000</td>\n",
              "      <td>0.031500</td>\n",
              "      <td>154.226000</td>\n",
              "      <td>0.890000</td>\n",
              "      <td>2</td>\n",
              "      <td>0</td>\n",
              "    </tr>\n",
              "    <tr>\n",
              "      <th>...</th>\n",
              "      <td>...</td>\n",
              "      <td>...</td>\n",
              "      <td>...</td>\n",
              "      <td>...</td>\n",
              "      <td>...</td>\n",
              "      <td>...</td>\n",
              "      <td>...</td>\n",
              "      <td>...</td>\n",
              "      <td>...</td>\n",
              "      <td>...</td>\n",
              "      <td>...</td>\n",
              "      <td>...</td>\n",
              "    </tr>\n",
              "    <tr>\n",
              "      <th>3052</th>\n",
              "      <td>the roots</td>\n",
              "      <td>0.091760</td>\n",
              "      <td>0.779519</td>\n",
              "      <td>0.608852</td>\n",
              "      <td>0.007072</td>\n",
              "      <td>0.246689</td>\n",
              "      <td>-7.548630</td>\n",
              "      <td>0.302137</td>\n",
              "      <td>99.233407</td>\n",
              "      <td>0.633704</td>\n",
              "      <td>1</td>\n",
              "      <td>1</td>\n",
              "    </tr>\n",
              "    <tr>\n",
              "      <th>3053</th>\n",
              "      <td>throbbing gristle</td>\n",
              "      <td>0.388040</td>\n",
              "      <td>0.474750</td>\n",
              "      <td>0.234750</td>\n",
              "      <td>0.774250</td>\n",
              "      <td>0.089000</td>\n",
              "      <td>-25.171500</td>\n",
              "      <td>0.127825</td>\n",
              "      <td>92.938500</td>\n",
              "      <td>0.421875</td>\n",
              "      <td>11</td>\n",
              "      <td>1</td>\n",
              "    </tr>\n",
              "    <tr>\n",
              "      <th>3054</th>\n",
              "      <td>various artists</td>\n",
              "      <td>0.525641</td>\n",
              "      <td>0.503986</td>\n",
              "      <td>0.509906</td>\n",
              "      <td>0.205204</td>\n",
              "      <td>0.268709</td>\n",
              "      <td>-12.913222</td>\n",
              "      <td>0.124518</td>\n",
              "      <td>117.311278</td>\n",
              "      <td>0.360840</td>\n",
              "      <td>7</td>\n",
              "      <td>1</td>\n",
              "    </tr>\n",
              "    <tr>\n",
              "      <th>3055</th>\n",
              "      <td>amy winehouse</td>\n",
              "      <td>0.266410</td>\n",
              "      <td>0.621808</td>\n",
              "      <td>0.624115</td>\n",
              "      <td>0.003170</td>\n",
              "      <td>0.152862</td>\n",
              "      <td>-5.529462</td>\n",
              "      <td>0.058212</td>\n",
              "      <td>111.585692</td>\n",
              "      <td>0.542731</td>\n",
              "      <td>9</td>\n",
              "      <td>1</td>\n",
              "    </tr>\n",
              "    <tr>\n",
              "      <th>3056</th>\n",
              "      <td>my morning jacket</td>\n",
              "      <td>0.251387</td>\n",
              "      <td>0.549000</td>\n",
              "      <td>0.491875</td>\n",
              "      <td>0.123975</td>\n",
              "      <td>0.245987</td>\n",
              "      <td>-9.402750</td>\n",
              "      <td>0.039600</td>\n",
              "      <td>120.353250</td>\n",
              "      <td>0.371988</td>\n",
              "      <td>9</td>\n",
              "      <td>1</td>\n",
              "    </tr>\n",
              "  </tbody>\n",
              "</table>\n",
              "<p>3057 rows × 12 columns</p>\n",
              "</div>"
            ],
            "text/plain": [
              "                          artist  acousticness  ...  key  mode\n",
              "0                      aceyalone      0.142742  ...    6     1\n",
              "1                      aceyalone      0.142742  ...    6     1\n",
              "2                      aceyalone      0.142742  ...    6     1\n",
              "3                     ryan adams      0.388517  ...    7     1\n",
              "4     ryan adams & the cardinals      0.082300  ...    2     0\n",
              "...                          ...           ...  ...  ...   ...\n",
              "3052                   the roots      0.091760  ...    1     1\n",
              "3053           throbbing gristle      0.388040  ...   11     1\n",
              "3054             various artists      0.525641  ...    7     1\n",
              "3055               amy winehouse      0.266410  ...    9     1\n",
              "3056           my morning jacket      0.251387  ...    9     1\n",
              "\n",
              "[3057 rows x 12 columns]"
            ]
          },
          "metadata": {
            "tags": []
          },
          "execution_count": 137
        }
      ]
    },
    {
      "cell_type": "code",
      "metadata": {
        "id": "uhI1r-1PQ3N_"
      },
      "source": [
        "spotify_merged = pd.merge(spotify, df, on=['artist'], how='inner')"
      ],
      "execution_count": null,
      "outputs": []
    },
    {
      "cell_type": "code",
      "metadata": {
        "colab": {
          "base_uri": "https://localhost:8080/",
          "height": 456
        },
        "id": "QgnGS7qDR-Kq",
        "outputId": "dab7296c-4a7f-4dd3-ed50-c96f3ede67ac"
      },
      "source": [
        "spotify_merged "
      ],
      "execution_count": null,
      "outputs": [
        {
          "output_type": "execute_result",
          "data": {
            "text/html": [
              "<div>\n",
              "<style scoped>\n",
              "    .dataframe tbody tr th:only-of-type {\n",
              "        vertical-align: middle;\n",
              "    }\n",
              "\n",
              "    .dataframe tbody tr th {\n",
              "        vertical-align: top;\n",
              "    }\n",
              "\n",
              "    .dataframe thead th {\n",
              "        text-align: right;\n",
              "    }\n",
              "</style>\n",
              "<table border=\"1\" class=\"dataframe\">\n",
              "  <thead>\n",
              "    <tr style=\"text-align: right;\">\n",
              "      <th></th>\n",
              "      <th>artist</th>\n",
              "      <th>acousticness</th>\n",
              "      <th>danceability</th>\n",
              "      <th>energy</th>\n",
              "      <th>instrumentalness</th>\n",
              "      <th>liveness</th>\n",
              "      <th>loudness</th>\n",
              "      <th>speechiness</th>\n",
              "      <th>tempo</th>\n",
              "      <th>valence</th>\n",
              "      <th>key</th>\n",
              "      <th>mode</th>\n",
              "      <th>predict_k</th>\n",
              "    </tr>\n",
              "  </thead>\n",
              "  <tbody>\n",
              "    <tr>\n",
              "      <th>0</th>\n",
              "      <td>audioslave</td>\n",
              "      <td>0.037588</td>\n",
              "      <td>0.445471</td>\n",
              "      <td>0.730882</td>\n",
              "      <td>0.004222</td>\n",
              "      <td>0.187182</td>\n",
              "      <td>-4.856353</td>\n",
              "      <td>0.045112</td>\n",
              "      <td>104.802471</td>\n",
              "      <td>0.407353</td>\n",
              "      <td>9</td>\n",
              "      <td>1</td>\n",
              "      <td>10</td>\n",
              "    </tr>\n",
              "    <tr>\n",
              "      <th>1</th>\n",
              "      <td>arcade fire</td>\n",
              "      <td>0.118172</td>\n",
              "      <td>0.382778</td>\n",
              "      <td>0.785667</td>\n",
              "      <td>0.111533</td>\n",
              "      <td>0.184778</td>\n",
              "      <td>-6.139000</td>\n",
              "      <td>0.033711</td>\n",
              "      <td>123.824444</td>\n",
              "      <td>0.373444</td>\n",
              "      <td>0</td>\n",
              "      <td>1</td>\n",
              "      <td>14</td>\n",
              "    </tr>\n",
              "    <tr>\n",
              "      <th>2</th>\n",
              "      <td>arcade fire</td>\n",
              "      <td>0.118172</td>\n",
              "      <td>0.382778</td>\n",
              "      <td>0.785667</td>\n",
              "      <td>0.111533</td>\n",
              "      <td>0.184778</td>\n",
              "      <td>-6.139000</td>\n",
              "      <td>0.033711</td>\n",
              "      <td>123.824444</td>\n",
              "      <td>0.373444</td>\n",
              "      <td>0</td>\n",
              "      <td>1</td>\n",
              "      <td>14</td>\n",
              "    </tr>\n",
              "    <tr>\n",
              "      <th>3</th>\n",
              "      <td>arcade fire</td>\n",
              "      <td>0.118172</td>\n",
              "      <td>0.382778</td>\n",
              "      <td>0.785667</td>\n",
              "      <td>0.111533</td>\n",
              "      <td>0.184778</td>\n",
              "      <td>-6.139000</td>\n",
              "      <td>0.033711</td>\n",
              "      <td>123.824444</td>\n",
              "      <td>0.373444</td>\n",
              "      <td>0</td>\n",
              "      <td>1</td>\n",
              "      <td>14</td>\n",
              "    </tr>\n",
              "    <tr>\n",
              "      <th>4</th>\n",
              "      <td>arcade fire</td>\n",
              "      <td>0.118172</td>\n",
              "      <td>0.382778</td>\n",
              "      <td>0.785667</td>\n",
              "      <td>0.111533</td>\n",
              "      <td>0.184778</td>\n",
              "      <td>-6.139000</td>\n",
              "      <td>0.033711</td>\n",
              "      <td>123.824444</td>\n",
              "      <td>0.373444</td>\n",
              "      <td>0</td>\n",
              "      <td>1</td>\n",
              "      <td>14</td>\n",
              "    </tr>\n",
              "    <tr>\n",
              "      <th>...</th>\n",
              "      <td>...</td>\n",
              "      <td>...</td>\n",
              "      <td>...</td>\n",
              "      <td>...</td>\n",
              "      <td>...</td>\n",
              "      <td>...</td>\n",
              "      <td>...</td>\n",
              "      <td>...</td>\n",
              "      <td>...</td>\n",
              "      <td>...</td>\n",
              "      <td>...</td>\n",
              "      <td>...</td>\n",
              "      <td>...</td>\n",
              "    </tr>\n",
              "    <tr>\n",
              "      <th>222</th>\n",
              "      <td>lady gaga</td>\n",
              "      <td>0.091975</td>\n",
              "      <td>0.690207</td>\n",
              "      <td>0.754598</td>\n",
              "      <td>0.001870</td>\n",
              "      <td>0.212476</td>\n",
              "      <td>-4.981586</td>\n",
              "      <td>0.056539</td>\n",
              "      <td>120.065897</td>\n",
              "      <td>0.579057</td>\n",
              "      <td>0</td>\n",
              "      <td>1</td>\n",
              "      <td>15</td>\n",
              "    </tr>\n",
              "    <tr>\n",
              "      <th>223</th>\n",
              "      <td>foals</td>\n",
              "      <td>0.017200</td>\n",
              "      <td>0.567000</td>\n",
              "      <td>0.837500</td>\n",
              "      <td>0.039379</td>\n",
              "      <td>0.356000</td>\n",
              "      <td>-6.856500</td>\n",
              "      <td>0.041850</td>\n",
              "      <td>116.048500</td>\n",
              "      <td>0.721000</td>\n",
              "      <td>2</td>\n",
              "      <td>0</td>\n",
              "      <td>12</td>\n",
              "    </tr>\n",
              "    <tr>\n",
              "      <th>224</th>\n",
              "      <td>devo</td>\n",
              "      <td>0.191829</td>\n",
              "      <td>0.674817</td>\n",
              "      <td>0.645233</td>\n",
              "      <td>0.176667</td>\n",
              "      <td>0.129728</td>\n",
              "      <td>-11.910883</td>\n",
              "      <td>0.076715</td>\n",
              "      <td>143.060617</td>\n",
              "      <td>0.760983</td>\n",
              "      <td>9</td>\n",
              "      <td>1</td>\n",
              "      <td>11</td>\n",
              "    </tr>\n",
              "    <tr>\n",
              "      <th>225</th>\n",
              "      <td>kid cudi</td>\n",
              "      <td>0.341685</td>\n",
              "      <td>0.657643</td>\n",
              "      <td>0.650416</td>\n",
              "      <td>0.124871</td>\n",
              "      <td>0.254503</td>\n",
              "      <td>-7.190981</td>\n",
              "      <td>0.091326</td>\n",
              "      <td>122.937597</td>\n",
              "      <td>0.463404</td>\n",
              "      <td>0</td>\n",
              "      <td>0</td>\n",
              "      <td>10</td>\n",
              "    </tr>\n",
              "    <tr>\n",
              "      <th>226</th>\n",
              "      <td>machine head</td>\n",
              "      <td>0.003169</td>\n",
              "      <td>0.319333</td>\n",
              "      <td>0.920667</td>\n",
              "      <td>0.037163</td>\n",
              "      <td>0.228333</td>\n",
              "      <td>-6.307167</td>\n",
              "      <td>0.148400</td>\n",
              "      <td>118.349500</td>\n",
              "      <td>0.307667</td>\n",
              "      <td>7</td>\n",
              "      <td>1</td>\n",
              "      <td>13</td>\n",
              "    </tr>\n",
              "  </tbody>\n",
              "</table>\n",
              "<p>227 rows × 13 columns</p>\n",
              "</div>"
            ],
            "text/plain": [
              "           artist  acousticness  danceability  ...  key  mode  predict_k\n",
              "0      audioslave      0.037588      0.445471  ...    9     1         10\n",
              "1     arcade fire      0.118172      0.382778  ...    0     1         14\n",
              "2     arcade fire      0.118172      0.382778  ...    0     1         14\n",
              "3     arcade fire      0.118172      0.382778  ...    0     1         14\n",
              "4     arcade fire      0.118172      0.382778  ...    0     1         14\n",
              "..            ...           ...           ...  ...  ...   ...        ...\n",
              "222     lady gaga      0.091975      0.690207  ...    0     1         15\n",
              "223         foals      0.017200      0.567000  ...    2     0         12\n",
              "224          devo      0.191829      0.674817  ...    9     1         11\n",
              "225      kid cudi      0.341685      0.657643  ...    0     0         10\n",
              "226  machine head      0.003169      0.319333  ...    7     1         13\n",
              "\n",
              "[227 rows x 13 columns]"
            ]
          },
          "metadata": {
            "tags": []
          },
          "execution_count": 142
        }
      ]
    },
    {
      "cell_type": "code",
      "metadata": {
        "id": "arl6-1gRSOEf"
      },
      "source": [
        "spotify_merged = spotify_merged.drop_duplicates(['artist'], keep='last')"
      ],
      "execution_count": null,
      "outputs": []
    },
    {
      "cell_type": "code",
      "metadata": {
        "colab": {
          "base_uri": "https://localhost:8080/",
          "height": 507
        },
        "id": "fd3hXIu7STsn",
        "outputId": "261dd5ad-377d-4475-af67-af565c1f563b"
      },
      "source": [
        "spotify_merged"
      ],
      "execution_count": null,
      "outputs": [
        {
          "output_type": "execute_result",
          "data": {
            "text/html": [
              "<div>\n",
              "<style scoped>\n",
              "    .dataframe tbody tr th:only-of-type {\n",
              "        vertical-align: middle;\n",
              "    }\n",
              "\n",
              "    .dataframe tbody tr th {\n",
              "        vertical-align: top;\n",
              "    }\n",
              "\n",
              "    .dataframe thead th {\n",
              "        text-align: right;\n",
              "    }\n",
              "</style>\n",
              "<table border=\"1\" class=\"dataframe\">\n",
              "  <thead>\n",
              "    <tr style=\"text-align: right;\">\n",
              "      <th></th>\n",
              "      <th>artist</th>\n",
              "      <th>acousticness</th>\n",
              "      <th>danceability</th>\n",
              "      <th>energy</th>\n",
              "      <th>instrumentalness</th>\n",
              "      <th>liveness</th>\n",
              "      <th>loudness</th>\n",
              "      <th>speechiness</th>\n",
              "      <th>tempo</th>\n",
              "      <th>valence</th>\n",
              "      <th>key</th>\n",
              "      <th>mode</th>\n",
              "      <th>predict_k</th>\n",
              "    </tr>\n",
              "  </thead>\n",
              "  <tbody>\n",
              "    <tr>\n",
              "      <th>0</th>\n",
              "      <td>audioslave</td>\n",
              "      <td>0.037588</td>\n",
              "      <td>0.445471</td>\n",
              "      <td>0.730882</td>\n",
              "      <td>0.004222</td>\n",
              "      <td>0.187182</td>\n",
              "      <td>-4.856353</td>\n",
              "      <td>0.045112</td>\n",
              "      <td>104.802471</td>\n",
              "      <td>0.407353</td>\n",
              "      <td>9</td>\n",
              "      <td>1</td>\n",
              "      <td>10</td>\n",
              "    </tr>\n",
              "    <tr>\n",
              "      <th>4</th>\n",
              "      <td>arcade fire</td>\n",
              "      <td>0.118172</td>\n",
              "      <td>0.382778</td>\n",
              "      <td>0.785667</td>\n",
              "      <td>0.111533</td>\n",
              "      <td>0.184778</td>\n",
              "      <td>-6.139000</td>\n",
              "      <td>0.033711</td>\n",
              "      <td>123.824444</td>\n",
              "      <td>0.373444</td>\n",
              "      <td>0</td>\n",
              "      <td>1</td>\n",
              "      <td>14</td>\n",
              "    </tr>\n",
              "    <tr>\n",
              "      <th>12</th>\n",
              "      <td>beastie boys</td>\n",
              "      <td>0.149497</td>\n",
              "      <td>0.703967</td>\n",
              "      <td>0.729819</td>\n",
              "      <td>0.154794</td>\n",
              "      <td>0.232938</td>\n",
              "      <td>-9.559016</td>\n",
              "      <td>0.211940</td>\n",
              "      <td>122.726044</td>\n",
              "      <td>0.645319</td>\n",
              "      <td>1</td>\n",
              "      <td>1</td>\n",
              "      <td>19</td>\n",
              "    </tr>\n",
              "    <tr>\n",
              "      <th>18</th>\n",
              "      <td>the black keys</td>\n",
              "      <td>0.298796</td>\n",
              "      <td>0.491786</td>\n",
              "      <td>0.710357</td>\n",
              "      <td>0.144837</td>\n",
              "      <td>0.190889</td>\n",
              "      <td>-6.250179</td>\n",
              "      <td>0.058661</td>\n",
              "      <td>125.873071</td>\n",
              "      <td>0.523286</td>\n",
              "      <td>9</td>\n",
              "      <td>0</td>\n",
              "      <td>10</td>\n",
              "    </tr>\n",
              "    <tr>\n",
              "      <th>24</th>\n",
              "      <td>bright eyes</td>\n",
              "      <td>0.554333</td>\n",
              "      <td>0.460222</td>\n",
              "      <td>0.456956</td>\n",
              "      <td>0.045800</td>\n",
              "      <td>0.173967</td>\n",
              "      <td>-12.285556</td>\n",
              "      <td>0.052467</td>\n",
              "      <td>102.256444</td>\n",
              "      <td>0.399256</td>\n",
              "      <td>0</td>\n",
              "      <td>1</td>\n",
              "      <td>13</td>\n",
              "    </tr>\n",
              "    <tr>\n",
              "      <th>...</th>\n",
              "      <td>...</td>\n",
              "      <td>...</td>\n",
              "      <td>...</td>\n",
              "      <td>...</td>\n",
              "      <td>...</td>\n",
              "      <td>...</td>\n",
              "      <td>...</td>\n",
              "      <td>...</td>\n",
              "      <td>...</td>\n",
              "      <td>...</td>\n",
              "      <td>...</td>\n",
              "      <td>...</td>\n",
              "      <td>...</td>\n",
              "    </tr>\n",
              "    <tr>\n",
              "      <th>222</th>\n",
              "      <td>lady gaga</td>\n",
              "      <td>0.091975</td>\n",
              "      <td>0.690207</td>\n",
              "      <td>0.754598</td>\n",
              "      <td>0.001870</td>\n",
              "      <td>0.212476</td>\n",
              "      <td>-4.981586</td>\n",
              "      <td>0.056539</td>\n",
              "      <td>120.065897</td>\n",
              "      <td>0.579057</td>\n",
              "      <td>0</td>\n",
              "      <td>1</td>\n",
              "      <td>15</td>\n",
              "    </tr>\n",
              "    <tr>\n",
              "      <th>223</th>\n",
              "      <td>foals</td>\n",
              "      <td>0.017200</td>\n",
              "      <td>0.567000</td>\n",
              "      <td>0.837500</td>\n",
              "      <td>0.039379</td>\n",
              "      <td>0.356000</td>\n",
              "      <td>-6.856500</td>\n",
              "      <td>0.041850</td>\n",
              "      <td>116.048500</td>\n",
              "      <td>0.721000</td>\n",
              "      <td>2</td>\n",
              "      <td>0</td>\n",
              "      <td>12</td>\n",
              "    </tr>\n",
              "    <tr>\n",
              "      <th>224</th>\n",
              "      <td>devo</td>\n",
              "      <td>0.191829</td>\n",
              "      <td>0.674817</td>\n",
              "      <td>0.645233</td>\n",
              "      <td>0.176667</td>\n",
              "      <td>0.129728</td>\n",
              "      <td>-11.910883</td>\n",
              "      <td>0.076715</td>\n",
              "      <td>143.060617</td>\n",
              "      <td>0.760983</td>\n",
              "      <td>9</td>\n",
              "      <td>1</td>\n",
              "      <td>11</td>\n",
              "    </tr>\n",
              "    <tr>\n",
              "      <th>225</th>\n",
              "      <td>kid cudi</td>\n",
              "      <td>0.341685</td>\n",
              "      <td>0.657643</td>\n",
              "      <td>0.650416</td>\n",
              "      <td>0.124871</td>\n",
              "      <td>0.254503</td>\n",
              "      <td>-7.190981</td>\n",
              "      <td>0.091326</td>\n",
              "      <td>122.937597</td>\n",
              "      <td>0.463404</td>\n",
              "      <td>0</td>\n",
              "      <td>0</td>\n",
              "      <td>10</td>\n",
              "    </tr>\n",
              "    <tr>\n",
              "      <th>226</th>\n",
              "      <td>machine head</td>\n",
              "      <td>0.003169</td>\n",
              "      <td>0.319333</td>\n",
              "      <td>0.920667</td>\n",
              "      <td>0.037163</td>\n",
              "      <td>0.228333</td>\n",
              "      <td>-6.307167</td>\n",
              "      <td>0.148400</td>\n",
              "      <td>118.349500</td>\n",
              "      <td>0.307667</td>\n",
              "      <td>7</td>\n",
              "      <td>1</td>\n",
              "      <td>13</td>\n",
              "    </tr>\n",
              "  </tbody>\n",
              "</table>\n",
              "<p>69 rows × 13 columns</p>\n",
              "</div>"
            ],
            "text/plain": [
              "             artist  acousticness  danceability  ...  key  mode  predict_k\n",
              "0        audioslave      0.037588      0.445471  ...    9     1         10\n",
              "4       arcade fire      0.118172      0.382778  ...    0     1         14\n",
              "12     beastie boys      0.149497      0.703967  ...    1     1         19\n",
              "18   the black keys      0.298796      0.491786  ...    9     0         10\n",
              "24      bright eyes      0.554333      0.460222  ...    0     1         13\n",
              "..              ...           ...           ...  ...  ...   ...        ...\n",
              "222       lady gaga      0.091975      0.690207  ...    0     1         15\n",
              "223           foals      0.017200      0.567000  ...    2     0         12\n",
              "224            devo      0.191829      0.674817  ...    9     1         11\n",
              "225        kid cudi      0.341685      0.657643  ...    0     0         10\n",
              "226    machine head      0.003169      0.319333  ...    7     1         13\n",
              "\n",
              "[69 rows x 13 columns]"
            ]
          },
          "metadata": {
            "tags": []
          },
          "execution_count": 144
        }
      ]
    },
    {
      "cell_type": "markdown",
      "metadata": {
        "id": "ca7JP23sDlQY"
      },
      "source": [
        "# Random Forest"
      ]
    },
    {
      "cell_type": "markdown",
      "metadata": {
        "id": "3DUxZaW4Sabw"
      },
      "source": [
        "## Pitchfork"
      ]
    },
    {
      "cell_type": "code",
      "metadata": {
        "id": "30mNcuijDnAw"
      },
      "source": [
        "input_train, input_eval, label_train, label_eval = \\\n",
        "    train_test_split(result, review_edited['predict_k'], test_size=0.1, random_state=42)"
      ],
      "execution_count": null,
      "outputs": []
    },
    {
      "cell_type": "code",
      "metadata": {
        "id": "ILAgldiJQJha"
      },
      "source": [
        "pipe = make_pipeline(\n",
        "    SimpleImputer(), \n",
        "    RandomForestClassifier(n_estimators=30,random_state=42, oob_score=True)\n",
        ")"
      ],
      "execution_count": null,
      "outputs": []
    },
    {
      "cell_type": "code",
      "metadata": {
        "colab": {
          "base_uri": "https://localhost:8080/"
        },
        "id": "grhH2AQ-QLZR",
        "outputId": "d11fdab7-a968-4472-c483-67bb7345e3f8"
      },
      "source": [
        "pipe.fit(input_train, label_train)\n",
        "print('검증 정확도', pipe.score(input_eval, label_eval))"
      ],
      "execution_count": null,
      "outputs": [
        {
          "output_type": "stream",
          "text": [
            "검증 정확도 0.21428571428571427\n"
          ],
          "name": "stdout"
        }
      ]
    },
    {
      "cell_type": "markdown",
      "metadata": {
        "id": "eJr36pcuScST"
      },
      "source": [
        "## Spotify"
      ]
    },
    {
      "cell_type": "code",
      "metadata": {
        "id": "BDsyX3RdSs27"
      },
      "source": [
        "target = 'predict_k'"
      ],
      "execution_count": null,
      "outputs": []
    },
    {
      "cell_type": "code",
      "metadata": {
        "id": "IhpUmVyuTA8e"
      },
      "source": [
        "features = spotify_merged.drop(columns=[target]).columns"
      ],
      "execution_count": null,
      "outputs": []
    },
    {
      "cell_type": "code",
      "metadata": {
        "id": "7tUTofFDTNxp"
      },
      "source": [
        "features = features[1:]"
      ],
      "execution_count": null,
      "outputs": []
    },
    {
      "cell_type": "code",
      "metadata": {
        "colab": {
          "base_uri": "https://localhost:8080/"
        },
        "id": "bkSAvi1ETnad",
        "outputId": "e4f96730-85d2-4fa4-d182-9a60957bc28f"
      },
      "source": [
        "features"
      ],
      "execution_count": null,
      "outputs": [
        {
          "output_type": "execute_result",
          "data": {
            "text/plain": [
              "Index(['acousticness', 'danceability', 'energy', 'instrumentalness',\n",
              "       'liveness', 'loudness', 'speechiness', 'tempo', 'valence', 'key',\n",
              "       'mode'],\n",
              "      dtype='object')"
            ]
          },
          "metadata": {
            "tags": []
          },
          "execution_count": 154
        }
      ]
    },
    {
      "cell_type": "code",
      "metadata": {
        "id": "H-VsGEkAVRHH"
      },
      "source": [
        "pipe = make_pipeline(\n",
        "    PCA(n_components=2),\n",
        "    SimpleImputer(), \n",
        "    RandomForestClassifier(n_estimators=30,random_state=42, oob_score=True)\n",
        ")"
      ],
      "execution_count": null,
      "outputs": []
    },
    {
      "cell_type": "code",
      "metadata": {
        "id": "I6TbrrjaTRJ7"
      },
      "source": [
        "input_train, input_eval, label_train, label_eval = \\\n",
        "    train_test_split(spotify_merged[features], spotify_merged[target], test_size=0.1, random_state=42)"
      ],
      "execution_count": null,
      "outputs": []
    },
    {
      "cell_type": "code",
      "metadata": {
        "colab": {
          "base_uri": "https://localhost:8080/"
        },
        "id": "3KTf7a4qQhJa",
        "outputId": "9db30754-93fb-46cf-a4d4-442359e1d8b5"
      },
      "source": [
        "pipe.fit(input_train, label_train)\n",
        "print('검증 정확도', pipe.score(input_eval, label_eval))"
      ],
      "execution_count": null,
      "outputs": [
        {
          "output_type": "stream",
          "text": [
            "검증 정확도 0.14285714285714285\n"
          ],
          "name": "stdout"
        }
      ]
    }
  ]
}